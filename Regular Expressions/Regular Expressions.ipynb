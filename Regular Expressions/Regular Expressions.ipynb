{
 "cells": [
  {
   "cell_type": "code",
   "execution_count": 2,
   "metadata": {},
   "outputs": [],
   "source": [
    "import re\n",
    "#read file\n",
    "names_file = open('names.txt', encoding = 'utf-8')\n",
    "data = names_file.read()\n",
    "names_file.close()\n",
    "#another way to read files (wtf does 'with' mean tho)\n",
    "#with open(\"some_file.txt\") as open_file:\n",
    "    #data = open_file.read()"
   ]
  },
  {
   "cell_type": "code",
   "execution_count": 11,
   "metadata": {},
   "outputs": [
    {
     "name": "stdout",
     "output_type": "stream",
     "text": [
      "Love, Kenneth\tkenneth@teamtreehouse.com\t(555) 555-5555\tTeacher, Treehouse\t@kennethlove\n",
      "McFarland, Dave\tdave@teamtreehouse.com\t(555) 555-5554\tTeacher, Treehouse\n",
      "Arthur, King\tking_arthur@camelot.co.uk\t\tKing, Camelot\n",
      "Österberg, Sven-Erik\tgovernor@norrbotten.co.se\t\tGovernor, Norrbotten\t@sverik\n",
      ", Tim\ttim@killerrabbit.com\t\tEnchanter, Killer Rabbit Cave\n",
      "Carson, Ryan\tryan@teamtreehouse.com\t(555) 555-5543\tCEO, Treehouse\t@ryancarson\n",
      "Doctor, The\tdoctor+companion@tardis.co.uk\t\tTime Lord, Gallifrey\n",
      "Exampleson, Example\tme@example.com\t555-555-5552\tExample, Example Co.\t@example\n",
      "Obama, Barack\tpresident.44@us.gov\t555 555-5551\tPresident, United States of America\t@potus44\n",
      "Chalkley, Andrew\tandrew@teamtreehouse.com\t(555) 555-5553\tTeacher, Treehouse\t@chalkers\n",
      "Vader, Darth\tdarth-vader@empire.gov\t(555) 555-4444\tSith Lord, Galactic Empire\t@darthvader\n",
      "Fernández de la Vega Sanz, María Teresa\tmtfvs@spain.gov\t\tFirst Deputy Prime Minister, Spanish Govt.\n"
     ]
    }
   ],
   "source": [
    "print(data)"
   ]
  },
  {
   "cell_type": "code",
   "execution_count": 8,
   "metadata": {},
   "outputs": [
    {
     "name": "stdout",
     "output_type": "stream",
     "text": [
      "<re.Match object; span=(0, 4), match='Love'>\n",
      "None\n"
     ]
    }
   ],
   "source": [
    "# r means raw string saves the use of escape characters\n",
    "# match only matches from the beginning of the string\n",
    "last_name = r'Love'\n",
    "first_name = r'Kenneth'\n",
    "print(re.match(last_name,data))\n",
    "print(re.match(first_name,data))"
   ]
  },
  {
   "cell_type": "code",
   "execution_count": 10,
   "metadata": {},
   "outputs": [
    {
     "name": "stdout",
     "output_type": "stream",
     "text": [
      "<re.Match object; span=(6, 13), match='Kenneth'>\n"
     ]
    }
   ],
   "source": [
    "#search looks in the whole string\n",
    "print(re.search(first_name,data))"
   ]
  },
  {
   "cell_type": "code",
   "execution_count": null,
   "metadata": {},
   "outputs": [],
   "source": [
    "#challenge code\n",
    "import re\n",
    "file_object = open(\"basics.txt\")\n",
    "data = file_object.read()\n",
    "file_object.close()\n",
    "\n",
    "first = re.match(r'Four', data)\n",
    "\n",
    "liberty = re.search(r'Liberty', data)"
   ]
  },
  {
   "cell_type": "markdown",
   "metadata": {},
   "source": [
    "## Escape Hatches\n",
    "\\w - matches an Unicode word character. That's any letter, uppercase or lowercase, numbers, and the underscore character. In \"new-releases-204\", \n",
    "\n",
    "\\w would match each of the letters in \"new\" and \"releases\" and the numbers 2, 0, and 4. It wouldn't match the hyphens.\n",
    "\n",
    "\\W - is the opposite to \\w and matches anything that isn't an Unicode word character. In \"new-releases-204\", \\W would only match the hyphens.\n",
    "\n",
    "\\s - matches whitespace, so spaces, tabs, newlines, etc.\n",
    "\n",
    "\\S - matches everything that isn't whitespace.\n",
    "\n",
    "\\d - is how we match any number from 0 to 9\n",
    "\n",
    "\\D - matches anything that isn't a number.\n",
    "\n",
    "\\b - matches word boundaries. What's a word boundary? It's the edges of word, defined by white space or the edges of the string.\n",
    "\n",
    "\\B - matches anything that isn't the edges of a word."
   ]
  },
  {
   "cell_type": "code",
   "execution_count": 14,
   "metadata": {},
   "outputs": [
    {
     "name": "stdout",
     "output_type": "stream",
     "text": [
      "<re.Match object; span=(3, 7), match='e, K'>\n",
      "<re.Match object; span=(46, 54), match='555-5555'>\n",
      "<re.Match object; span=(40, 54), match='(555) 555-5555'>\n"
     ]
    }
   ],
   "source": [
    "# looking for names doesn't work bc \\w matches to letters (word characters)\n",
    "print(re.search(r'\\w, \\w', data))\n",
    "#looking for phone numbers\n",
    "print(re.search(r'\\d\\d\\d-\\d\\d\\d\\d', data))\n",
    "#looking for area code too, need to escape the bracket this is why raw string is important\n",
    "print(re.search(r'\\(\\d\\d\\d\\) \\d\\d\\d-\\d\\d\\d\\d', data))"
   ]
  },
  {
   "cell_type": "markdown",
   "metadata": {},
   "source": [
    "## Counts\n",
    "how to avoid writing backslash characters so many times and can use this to specify how many times a character occurs \n",
    "\n",
    "\\w{3} - matches any three word characters in a row.\n",
    "\n",
    "\\w{,3} - matches 0, 1, 2, or 3 word characters in a row.\n",
    "\n",
    "\\w{3,} - matches 3 or more word characters in a row. There's no upper limit.\n",
    "\n",
    "\\w{3, 5} - matches 3, 4, or 5 word characters in a row.\n",
    "\n",
    "\\w? - matches 0 or 1 word characters.\n",
    "\n",
    "\\w* - matches 0 or more word characters. Since there is no upper limit, this is, effectively, infinite word \n",
    "characters.\n",
    "\n",
    "\\w+ - matches 1 or more word characters. Like *, it has no upper limit, but it has to occur at least once.\n",
    ".findall(pattern, text, flags) - Finds all non-overlapping occurrences of the pattern in the text."
   ]
  },
  {
   "cell_type": "code",
   "execution_count": 17,
   "metadata": {},
   "outputs": [
    {
     "name": "stdout",
     "output_type": "stream",
     "text": [
      "<re.Match object; span=(0, 13), match='Love, Kenneth'>\n"
     ]
    }
   ],
   "source": [
    "# looking for names without typing a character for each letter in the name\n",
    "print (re.search(r'\\w+, \\w+', data))"
   ]
  },
  {
   "cell_type": "code",
   "execution_count": 19,
   "metadata": {},
   "outputs": [
    {
     "name": "stdout",
     "output_type": "stream",
     "text": [
      "<re.Match object; span=(40, 54), match='(555) 555-5555'>\n"
     ]
    }
   ],
   "source": [
    "#phone numbers by using counts\n",
    "print(re.search(r'\\(\\d{3}\\) \\d{3}-\\d{4}', data))"
   ]
  },
  {
   "cell_type": "code",
   "execution_count": 24,
   "metadata": {},
   "outputs": [
    {
     "name": "stdout",
     "output_type": "stream",
     "text": [
      "['(555) 555-5555', '(555) 555-5554', '(555) 555-5543', '555-555-5552', '555 555-5551', '(555) 555-5553', '(555) 555-4444']\n"
     ]
    }
   ],
   "source": [
    "# make parentesis optional by using question mark\n",
    "# findall to findall phone numbers\n",
    "# there is also an optional dash and space between the area code and the pnone number\n",
    "print(re.findall(r'\\(?\\d{3}\\)?-?\\s?\\d{3}-\\d{4}', data))"
   ]
  },
  {
   "cell_type": "code",
   "execution_count": 26,
   "metadata": {},
   "outputs": [
    {
     "name": "stdout",
     "output_type": "stream",
     "text": [
      "['Love, Kenneth', 'Teacher, Treehouse', 'McFarland, Dave', 'Teacher, Treehouse', 'Arthur, King', 'King, Camelot', 'Österberg, Sven', 'Governor, Norrbotten', ', Tim', 'Enchanter, Killer', 'Carson, Ryan', 'CEO, Treehouse', 'Doctor, The', 'Lord, Gallifrey', 'Exampleson, Example', 'Example, Example', 'Obama, Barack', 'President, United', 'Chalkley, Andrew', 'Teacher, Treehouse', 'Vader, Darth', 'Lord, Galactic', 'Sanz, María', 'Minister, Spanish']\n"
     ]
    }
   ],
   "source": [
    "#find all names\n",
    "# * says either 0 up to infinite number of times\n",
    "print (re.findall(r'\\w*, \\w+', data))"
   ]
  },
  {
   "cell_type": "code",
   "execution_count": null,
   "metadata": {},
   "outputs": [],
   "source": [
    "# challenge code, build function that finds all word at least inputed length long\n",
    "def find_words(number,string):\n",
    "    return re.findall(r\"\\w\"*number + r\"\\w*\", string)"
   ]
  },
  {
   "cell_type": "markdown",
   "metadata": {},
   "source": [
    "## Sets\n",
    "\n",
    "[abc] - this is a set of the characters 'a', 'b', and 'c'. It'll match any of those characters, in any order, but only once each.\n",
    "\n",
    "[a-z], [A-Z], or [a-zA-Z] - ranges that'll match any/all letters in the English alphabet in lowercase, uppercase, or both upper and lowercases.\n",
    "\n",
    "[0-9] - range that'll match any number from 0 to 9. You can change the ends to restrict the set.\n"
   ]
  },
  {
   "cell_type": "code",
   "execution_count": 29,
   "metadata": {},
   "outputs": [
    {
     "name": "stdout",
     "output_type": "stream",
     "text": [
      "['kenneth@teamtreehouse.com', 'dave@teamtreehouse.com', 'king_arthur@camelot.co.uk', 'governor@norrbotten.co.se', 'tim@killerrabbit.com', 'ryan@teamtreehouse.com', 'doctor+companion@tardis.co.uk', 'me@example.com', 'president.44@us.gov', 'andrew@teamtreehouse.com', 'darth-vader@empire.gov', 'mtfvs@spain.gov']\n"
     ]
    }
   ],
   "source": [
    "#finding all email addresses\n",
    "#set of characters can have the - , \\w, \\d, +, ., characters\n",
    "print(re.findall(r\"[-\\w\\d+.]+@[-\\w\\d.]+\", data))"
   ]
  },
  {
   "cell_type": "code",
   "execution_count": 35,
   "metadata": {},
   "outputs": [
    {
     "name": "stdout",
     "output_type": "stream",
     "text": [
      "['Treehouse', 'Treehouse', 'Treehouse', 'Treehouse']\n"
     ]
    }
   ],
   "source": [
    "# all instances of \"treehouse\"\n",
    "# ignore case flag\n",
    "# re.I = re.IGNORECASE\n",
    "# for a set order does not matter\n",
    "print(re.findall(r\"\\b[trehous]{9}\\b\", data, re.I))"
   ]
  },
  {
   "cell_type": "markdown",
   "metadata": {},
   "source": [
    "## Negation\n",
    "[^abc] - a set that will not match, and, in fact, exclude, the letters 'a', 'b', and 'c'.\n",
    "\n",
    "re.IGNORECASE or re.I - flag to make a search case-insensitive. re.match('A', 'apple', re.I) would find the 'a' in 'apple'.\n",
    "\n",
    "re.VERBOSE or re.X - flag that allows regular expressions to span multiple lines and contain (ignored) whitespace and comments."
   ]
  },
  {
   "cell_type": "code",
   "execution_count": 3,
   "metadata": {},
   "outputs": [
    {
     "name": "stdout",
     "output_type": "stream",
     "text": [
      "['@teamtreehouse.com', '@teamtreehouse.com', '@camelot.co.uk', '@norrbotten.co.se', '@killerrabbit.com', '@teamtreehouse.com', '@tardis.co.uk', '@example.com', '@us.', '@teamtreehouse.com', '@empire.', '@spain.']\n"
     ]
    }
   ],
   "source": [
    "# find all emails but not the ones ending in '.gov'\n",
    "# re.VERBOSE for multiline strings\n",
    "# use pipe | between multiple flags\n",
    "# tabs are after email addresses\n",
    "print(re.findall(r\"\"\"\n",
    "    \\b@[-\\w\\d.]*  # first a word boundary, a @ then any number of characters\n",
    "    [^gov\\t]+    # ignore 1+ instances of the letters g,o,v and a tab\n",
    "    \\b\n",
    "    \"\"\", data, re.VERBOSE | re.I))"
   ]
  },
  {
   "cell_type": "code",
   "execution_count": 5,
   "metadata": {},
   "outputs": [
    {
     "name": "stdout",
     "output_type": "stream",
     "text": [
      "['Love, Kenneth', 'Teacher, Treehouse', 'McFarland, Dave', 'Teacher, Treehouse', 'Arthur, King', 'King, Camelot', 'Österberg, Sven-Erik', 'Governor, Norrbotten', 'Enchanter, Killer Rabbit Cave', 'Carson, Ryan', 'CEO, Treehouse', 'Doctor, The', 'Lord, Gallifrey', 'Exampleson, Example', 'Example, Example Co.', 'Obama, Barack', 'President, United States of America', 'Chalkley, Andrew', 'Teacher, Treehouse', 'Vader, Darth', 'Lord, Galactic Empire', 'Sanz, María Teresa', 'Minister, Spanish Govt.']\n"
     ]
    }
   ],
   "source": [
    "print(re.findall(r\"\"\"\n",
    "\\b[-\\w]+, #find a word boundary, 1+ hyphens or charascers and a coma\n",
    "\\s        # find 1 whitespace\n",
    "[-\\w ]+ # 1+ hyphend and characters and excplit spaces, space in the set works\n",
    "[^\\t\\n]   # ignore tabs and newlines\n",
    "\"\"\", data, re.X\n",
    "))"
   ]
  },
  {
   "cell_type": "markdown",
   "metadata": {},
   "source": [
    "## Groups\n",
    "\n",
    "([abc]) - creates a group that contains a set for the letters 'a', 'b', and 'c'. This could be later accessed from the Match object as .group(1)\n",
    "\n",
    "(?P<name>[abc]) - creates a named group that contains a set for the letters 'a', 'b', and 'c'. This could later be accessed from the Match object as .group('name').\n",
    "    \n",
    ".groups() - method to show all of the groups on a Match object.\n",
    "\n",
    "re.MULTILINE or re.M - flag to make a pattern regard lines in your text as the beginning or end of a string.\n",
    "\n",
    "^ - specifies, in a pattern, the beginning of the string.\n",
    "\n",
    "$ - specifies, in a pattern, the end of the string."
   ]
  },
  {
   "cell_type": "code",
   "execution_count": 7,
   "metadata": {},
   "outputs": [
    {
     "name": "stdout",
     "output_type": "stream",
     "text": [
      "[('Love, Kenneth', 'kenneth@teamtreehouse.com', '(555) 555-5555', 'Teacher, Treehouse\\t', '@kennethlove'), ('McFarland, Dave', 'dave@teamtreehouse.com', '(555) 555-5554', 'Teacher, Treehouse', ''), ('Arthur, King', 'king_arthur@camelot.co.uk', '', 'King, Camelot', ''), ('Österberg, Sven-Erik', 'governor@norrbotten.co.se', '', 'Governor, Norrbotten\\t', '@sverik'), (', Tim', 'tim@killerrabbit.com', '', 'Enchanter, Killer Rabbit Cave', ''), ('Carson, Ryan', 'ryan@teamtreehouse.com', '(555) 555-5543', 'CEO, Treehouse\\t', '@ryancarson'), ('Doctor, The', 'doctor+companion@tardis.co.uk', '', 'Time Lord, Gallifrey', ''), ('Exampleson, Example', 'me@example.com', '555-555-5552', 'Example, Example Co.\\t', '@example'), ('Obama, Barack', 'president.44@us.gov', '555 555-5551', 'President, United States of America\\t', '@potus44'), ('Chalkley, Andrew', 'andrew@teamtreehouse.com', '(555) 555-5553', 'Teacher, Treehouse\\t', '@chalkers'), ('Vader, Darth', 'darth-vader@empire.gov', '(555) 555-4444', 'Sith Lord, Galactic Empire\\t', '@darthvader')]\n"
     ]
    }
   ],
   "source": [
    "# ^ symbol is beginnign of string $ is end of string\n",
    "# mulitiline reads each line as a new string\n",
    "print(re.findall(r'''\n",
    "    ^([-\\w]*,\\s[-\\w ]+)\\t               # last(optional) and first names\n",
    "    ([-\\w\\d+.]+@[-\\w\\d.]+)\\t           # email\n",
    "    (\\(?\\d{3}\\)?-?\\s?\\d{3}-\\d{4})?\\t    # phone number(optional)\n",
    "    ([\\w\\s]+,\\s[\\w\\s.]+)\\t?              # Job and company\n",
    "    (@[\\w\\d]+)?$                         #twitter\n",
    "    ''', data, re.X|re.MULTILINE))"
   ]
  },
  {
   "cell_type": "code",
   "execution_count": 10,
   "metadata": {},
   "outputs": [],
   "source": [
    "#naming groups\n",
    "line = re.search(r'''\n",
    "    ^(?P<name>[-\\w]*,\\s[-\\w ]+)\\t               # last(optional) and first names\n",
    "    (?P<email>[-\\w\\d+.]+@[-\\w\\d.]+)\\t           # email\n",
    "    (?P<phone>\\(?\\d{3}\\)?-?\\s?\\d{3}-\\d{4})?\\t    # phone number(optional)\n",
    "    (?P<job>[\\w\\s]+,\\s[\\w\\s.]+)\\t?              # Job and company\n",
    "    (?P<twitter>@[\\w\\d]+)?$                         #twitter\n",
    "    ''', data, re.X|re.MULTILINE)"
   ]
  },
  {
   "cell_type": "code",
   "execution_count": 12,
   "metadata": {},
   "outputs": [
    {
     "name": "stdout",
     "output_type": "stream",
     "text": [
      "<re.Match object; span=(0, 86), match='Love, Kenneth\\tkenneth@teamtreehouse.com\\t(555) 5>\n",
      "{'name': 'Love, Kenneth', 'email': 'kenneth@teamtreehouse.com', 'phone': '(555) 555-5555', 'job': 'Teacher, Treehouse\\t', 'twitter': '@kennethlove'}\n"
     ]
    }
   ],
   "source": [
    "print(line)\n",
    "print(line.groupdict())"
   ]
  },
  {
   "cell_type": "code",
   "execution_count": 19,
   "metadata": {},
   "outputs": [
    {
     "name": "stdout",
     "output_type": "stream",
     "text": [
      "<re.Match object; span=(0, 13), match='Perotto, Pier'>\n",
      "{'last_name': 'Perotto', 'first_name': 'Pier'}\n"
     ]
    }
   ],
   "source": [
    "import re\n",
    "\n",
    "string = 'Perotto, Pier Giorgio'\n",
    "\n",
    "names = re.match(r'(?P<last_name>\\w*), (?P<first_name>\\w*)', string)\n",
    "print(names)\n",
    "print(names.groupdict())"
   ]
  },
  {
   "cell_type": "code",
   "execution_count": null,
   "metadata": {},
   "outputs": [],
   "source": [
    "import re\n",
    "\n",
    "string = '''Love, Kenneth, kenneth+challenge@teamtreehouse.com, 555-555-5555, @kennethlove\n",
    "Chalkley, Andrew, andrew@teamtreehouse.co.uk, 555-555-5556, @chalkers\n",
    "McFarland, Dave, dave.mcfarland@teamtreehouse.com, 555-555-5557, @davemcfarland\n",
    "Kesten, Joy, joy@teamtreehouse.com, 555-555-5558, @joykesten'''\n",
    "\n",
    "contacts = re.search('(?P<email>[-\\w\\d+.]+@[-\\w\\d.]+),\\s(?P<phone>\\(?\\d{3}\\)?-?\\s?\\d{3}-\\d{4})', string)\n",
    "#use re.multiline and $ at end of regex to search end of each line\n",
    "twitters = re.search(r'(?P<twitter>@[\\w\\d]+)$', string, re.M)"
   ]
  },
  {
   "cell_type": "markdown",
   "metadata": {},
   "source": [
    "## Complie \n",
    "\n",
    "re.compile(pattern, flags) - method to pre-compile and save a regular expression pattern, and any associated flags, for later use.\n",
    "\n",
    ".groupdict() - method to generate a dictionary from a Match object's groups. The keys will be the group names. The values will be the results of the patterns in the group.\n",
    "\n",
    "re.finditer() - method to generate an iterable from the non-overlapping matches of a regular expression. Very handy for for loops.\n",
    "\n",
    ".group() - method to access the content of a group. 0 or none is the entire match. 1 through how ever many groups you have will get that group. Or use a group's name to get it if you're using named groups."
   ]
  },
  {
   "cell_type": "code",
   "execution_count": 24,
   "metadata": {},
   "outputs": [
    {
     "name": "stdout",
     "output_type": "stream",
     "text": [
      "{'name': 'Love, Kenneth', 'email': 'kenneth@teamtreehouse.com', 'phone': '(555) 555-5555', 'job': 'Teacher, Treehouse\\t', 'twitter': '@kennethlove'}\n"
     ]
    }
   ],
   "source": [
    "# use compile to save patterns\n",
    "# add subgroups\n",
    "line = re.compile(r'''\n",
    "    ^(?P<name>[-\\w]*,\\s[-\\w ]+)\\t               # last(optional) and first names\n",
    "    (?P<email>[-\\w\\d+.]+@[-\\w\\d.]+)\\t           # email\n",
    "    (?P<phone>\\(?\\d{3}\\)?-?\\s?\\d{3}-\\d{4})?\\t    # phone number(optional)\n",
    "    (?P<job>[\\w\\s]+,\\s[\\w\\s.]+)\\t?              # Job and company\n",
    "    (?P<twitter>@[\\w\\d]+)?$                         #twitter\n",
    "    ''', re.X|re.MULTILINE)\n",
    "\n",
    "print(re.search(line,data).groupdict())"
   ]
  },
  {
   "cell_type": "code",
   "execution_count": null,
   "metadata": {},
   "outputs": [],
   "source": [
    "# also works same thing\n",
    "print(line.search(data).groupdict())"
   ]
  },
  {
   "cell_type": "code",
   "execution_count": 22,
   "metadata": {},
   "outputs": [
    {
     "name": "stdout",
     "output_type": "stream",
     "text": [
      "Love, Kenneth\n",
      "McFarland, Dave\n",
      "Arthur, King\n",
      "Österberg, Sven-Erik\n",
      ", Tim\n",
      "Carson, Ryan\n",
      "Doctor, The\n",
      "Exampleson, Example\n",
      "Obama, Barack\n",
      "Chalkley, Andrew\n",
      "Vader, Darth\n"
     ]
    }
   ],
   "source": [
    "# finditer generates iterable\n",
    "for match in line.finditer(data):\n",
    "    print(match.group('name'))"
   ]
  },
  {
   "cell_type": "code",
   "execution_count": 30,
   "metadata": {},
   "outputs": [],
   "source": [
    "\n",
    "# add subgroups\n",
    "line = re.compile(r'''\n",
    "    ^(?P<name>(?P<last>[-\\w]*),\\s(?P<first>[-\\w ]+))\\t               # last(optional) and first names\n",
    "    (?P<email>[-\\w\\d+.]+@[-\\w\\d.]+)\\t           # email\n",
    "    (?P<phone>\\(?\\d{3}\\)?-?\\s?\\d{3}-\\d{4})?\\t    # phone number(optional)\n",
    "    (?P<job>[\\w\\s]+,\\s[\\w\\s.]+)\\t?              # Job and company\n",
    "    (?P<twitter>@[\\w\\d]+)?$                         #twitter\n",
    "    ''', re.X|re.MULTILINE)"
   ]
  },
  {
   "cell_type": "code",
   "execution_count": 33,
   "metadata": {},
   "outputs": [
    {
     "name": "stdout",
     "output_type": "stream",
     "text": [
      "Kenneth Love <kenneth@teamtreehouse.com>\n",
      "Dave McFarland <dave@teamtreehouse.com>\n",
      "King Arthur <king_arthur@camelot.co.uk>\n",
      "Sven-Erik Österberg <governor@norrbotten.co.se>\n",
      "Tim  <tim@killerrabbit.com>\n",
      "Ryan Carson <ryan@teamtreehouse.com>\n",
      "The Doctor <doctor+companion@tardis.co.uk>\n",
      "Example Exampleson <me@example.com>\n",
      "Barack Obama <president.44@us.gov>\n",
      "Andrew Chalkley <andrew@teamtreehouse.com>\n",
      "Darth Vader <darth-vader@empire.gov>\n"
     ]
    }
   ],
   "source": [
    "# NOTE ** unpacks dictionary contents to become parameters otherwise the entire dictionary will be input as one parameter\n",
    "for match in line.finditer(data):\n",
    "    print(\"{first} {last} <{email}>\".format(**match.groupdict()))"
   ]
  },
  {
   "cell_type": "code",
   "execution_count": 43,
   "metadata": {},
   "outputs": [
    {
     "name": "stdout",
     "output_type": "stream",
     "text": [
      "<re.Match object; span=(0, 17), match='Love, Kenneth: 20'>\n"
     ]
    }
   ],
   "source": [
    "import re\n",
    "\n",
    "string = '''Love, Kenneth: 20\n",
    "Chalkley, Andrew: 25\n",
    "McFarland, Dave: 10\n",
    "Kesten, Joy: 22\n",
    "Stewart Pinchback, Pinckney Benton: 18'''\n",
    "\n",
    "players = re.search(r\"^(?P<last_name>[\\w\\s]*),\\s(?P<first_name>[\\w\\s]*):\\s(?P<score>[\\d]*)$\", string, re.M)\n",
    "print(players)"
   ]
  },
  {
   "cell_type": "code",
   "execution_count": 55,
   "metadata": {},
   "outputs": [],
   "source": [
    "class Player():\n",
    "    def __init__(self, last_name, first_name, score):\n",
    "        self.last_name = last_name\n",
    "        self.first_name = first_name\n",
    "        self.score = score\n",
    "    def __str__(self):\n",
    "        return str(self.last_name + self.first_name + self.score)\n",
    "    "
   ]
  },
  {
   "cell_type": "code",
   "execution_count": 56,
   "metadata": {},
   "outputs": [],
   "source": [
    "p = Player(**players.groupdict())"
   ]
  },
  {
   "cell_type": "code",
   "execution_count": 57,
   "metadata": {},
   "outputs": [
    {
     "name": "stdout",
     "output_type": "stream",
     "text": [
      "LoveKenneth20\n"
     ]
    }
   ],
   "source": [
    "print(p)"
   ]
  },
  {
   "cell_type": "code",
   "execution_count": null,
   "metadata": {},
   "outputs": [],
   "source": []
  }
 ],
 "metadata": {
  "kernelspec": {
   "display_name": "Python 3",
   "language": "python",
   "name": "python3"
  },
  "language_info": {
   "codemirror_mode": {
    "name": "ipython",
    "version": 3
   },
   "file_extension": ".py",
   "mimetype": "text/x-python",
   "name": "python",
   "nbconvert_exporter": "python",
   "pygments_lexer": "ipython3",
   "version": "3.7.3"
  }
 },
 "nbformat": 4,
 "nbformat_minor": 2
}

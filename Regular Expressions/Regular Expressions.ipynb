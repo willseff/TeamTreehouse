{
 "cells": [
  {
   "cell_type": "code",
   "execution_count": 4,
   "metadata": {},
   "outputs": [],
   "source": [
    "import re\n",
    "#read file\n",
    "names_file = open('names.txt', encoding = 'utf-8')\n",
    "data = names_file.read()\n",
    "names_file.close()\n",
    "#another way to read files (wtf does 'with' mean tho)\n",
    "#with open(\"some_file.txt\") as open_file:\n",
    "    #data = open_file.read()"
   ]
  },
  {
   "cell_type": "code",
   "execution_count": 11,
   "metadata": {},
   "outputs": [
    {
     "name": "stdout",
     "output_type": "stream",
     "text": [
      "Love, Kenneth\tkenneth@teamtreehouse.com\t(555) 555-5555\tTeacher, Treehouse\t@kennethlove\n",
      "McFarland, Dave\tdave@teamtreehouse.com\t(555) 555-5554\tTeacher, Treehouse\n",
      "Arthur, King\tking_arthur@camelot.co.uk\t\tKing, Camelot\n",
      "Österberg, Sven-Erik\tgovernor@norrbotten.co.se\t\tGovernor, Norrbotten\t@sverik\n",
      ", Tim\ttim@killerrabbit.com\t\tEnchanter, Killer Rabbit Cave\n",
      "Carson, Ryan\tryan@teamtreehouse.com\t(555) 555-5543\tCEO, Treehouse\t@ryancarson\n",
      "Doctor, The\tdoctor+companion@tardis.co.uk\t\tTime Lord, Gallifrey\n",
      "Exampleson, Example\tme@example.com\t555-555-5552\tExample, Example Co.\t@example\n",
      "Obama, Barack\tpresident.44@us.gov\t555 555-5551\tPresident, United States of America\t@potus44\n",
      "Chalkley, Andrew\tandrew@teamtreehouse.com\t(555) 555-5553\tTeacher, Treehouse\t@chalkers\n",
      "Vader, Darth\tdarth-vader@empire.gov\t(555) 555-4444\tSith Lord, Galactic Empire\t@darthvader\n",
      "Fernández de la Vega Sanz, María Teresa\tmtfvs@spain.gov\t\tFirst Deputy Prime Minister, Spanish Govt.\n"
     ]
    }
   ],
   "source": [
    "print(data)"
   ]
  },
  {
   "cell_type": "code",
   "execution_count": 8,
   "metadata": {},
   "outputs": [
    {
     "name": "stdout",
     "output_type": "stream",
     "text": [
      "<re.Match object; span=(0, 4), match='Love'>\n",
      "None\n"
     ]
    }
   ],
   "source": [
    "# r means raw string saves the use of escape characters\n",
    "# match only matches from the beginning of the string\n",
    "last_name = r'Love'\n",
    "first_name = r'Kenneth'\n",
    "print(re.match(last_name,data))\n",
    "print(re.match(first_name,data))"
   ]
  },
  {
   "cell_type": "code",
   "execution_count": 10,
   "metadata": {},
   "outputs": [
    {
     "name": "stdout",
     "output_type": "stream",
     "text": [
      "<re.Match object; span=(6, 13), match='Kenneth'>\n"
     ]
    }
   ],
   "source": [
    "#search looks in the whole string\n",
    "print(re.search(first_name,data))"
   ]
  },
  {
   "cell_type": "code",
   "execution_count": null,
   "metadata": {},
   "outputs": [],
   "source": [
    "#challenge code\n",
    "import re\n",
    "file_object = open(\"basics.txt\")\n",
    "data = file_object.read()\n",
    "file_object.close()\n",
    "\n",
    "first = re.match(r'Four', data)\n",
    "\n",
    "liberty = re.search(r'Liberty', data)"
   ]
  },
  {
   "cell_type": "markdown",
   "metadata": {},
   "source": [
    "## Escape Hatches\n",
    "\\w - matches an Unicode word character. That's any letter, uppercase or lowercase, numbers, and the underscore character. In \"new-releases-204\", \n",
    "\n",
    "\\w would match each of the letters in \"new\" and \"releases\" and the numbers 2, 0, and 4. It wouldn't match the hyphens.\n",
    "\n",
    "\\W - is the opposite to \\w and matches anything that isn't an Unicode word character. In \"new-releases-204\", \\W would only match the hyphens.\n",
    "\n",
    "\\s - matches whitespace, so spaces, tabs, newlines, etc.\n",
    "\n",
    "\\S - matches everything that isn't whitespace.\n",
    "\n",
    "\\d - is how we match any number from 0 to 9\n",
    "\n",
    "\\D - matches anything that isn't a number.\n",
    "\n",
    "\\b - matches word boundaries. What's a word boundary? It's the edges of word, defined by white space or the edges of the string.\n",
    "\n",
    "\\B - matches anything that isn't the edges of a word."
   ]
  },
  {
   "cell_type": "code",
   "execution_count": 14,
   "metadata": {},
   "outputs": [
    {
     "name": "stdout",
     "output_type": "stream",
     "text": [
      "<re.Match object; span=(3, 7), match='e, K'>\n",
      "<re.Match object; span=(46, 54), match='555-5555'>\n",
      "<re.Match object; span=(40, 54), match='(555) 555-5555'>\n"
     ]
    }
   ],
   "source": [
    "# looking for names doesn't work bc \\w matches to letters (word characters)\n",
    "print(re.search(r'\\w, \\w', data))\n",
    "#looking for phone numbers\n",
    "print(re.search(r'\\d\\d\\d-\\d\\d\\d\\d', data))\n",
    "#looking for area code too, need to escape the bracket this is why raw string is important\n",
    "print(re.search(r'\\(\\d\\d\\d\\) \\d\\d\\d-\\d\\d\\d\\d', data))"
   ]
  },
  {
   "cell_type": "markdown",
   "metadata": {},
   "source": [
    "## Counts\n",
    "how to avoid writing backslash characters so many times and can use this to specify how many times a character occurs \n",
    "\n",
    "\\w{3} - matches any three word characters in a row.\n",
    "\n",
    "\\w{,3} - matches 0, 1, 2, or 3 word characters in a row.\n",
    "\n",
    "\\w{3,} - matches 3 or more word characters in a row. There's no upper limit.\n",
    "\n",
    "\\w{3, 5} - matches 3, 4, or 5 word characters in a row.\n",
    "\n",
    "\\w? - matches 0 or 1 word characters.\n",
    "\n",
    "\\w* - matches 0 or more word characters. Since there is no upper limit, this is, effectively, infinite word \n",
    "characters.\n",
    "\n",
    "\\w+ - matches 1 or more word characters. Like *, it has no upper limit, but it has to occur at least once.\n",
    ".findall(pattern, text, flags) - Finds all non-overlapping occurrences of the pattern in the text."
   ]
  },
  {
   "cell_type": "code",
   "execution_count": 17,
   "metadata": {},
   "outputs": [
    {
     "name": "stdout",
     "output_type": "stream",
     "text": [
      "<re.Match object; span=(0, 13), match='Love, Kenneth'>\n"
     ]
    }
   ],
   "source": [
    "# looking for names without typing a character for each letter in the name\n",
    "print (re.search(r'\\w+, \\w+', data))"
   ]
  },
  {
   "cell_type": "code",
   "execution_count": 19,
   "metadata": {},
   "outputs": [
    {
     "name": "stdout",
     "output_type": "stream",
     "text": [
      "<re.Match object; span=(40, 54), match='(555) 555-5555'>\n"
     ]
    }
   ],
   "source": [
    "#phone numbers by using counts\n",
    "print(re.search(r'\\(\\d{3}\\) \\d{3}-\\d{4}', data))"
   ]
  },
  {
   "cell_type": "code",
   "execution_count": 24,
   "metadata": {},
   "outputs": [
    {
     "name": "stdout",
     "output_type": "stream",
     "text": [
      "['(555) 555-5555', '(555) 555-5554', '(555) 555-5543', '555-555-5552', '555 555-5551', '(555) 555-5553', '(555) 555-4444']\n"
     ]
    }
   ],
   "source": [
    "# make parentesis optional by using question mark\n",
    "# findall to findall phone numbers\n",
    "# there is also an optional dash and space between the area code and the pnone number\n",
    "print(re.findall(r'\\(?\\d{3}\\)?-?\\s?\\d{3}-\\d{4}', data))"
   ]
  },
  {
   "cell_type": "code",
   "execution_count": 26,
   "metadata": {},
   "outputs": [
    {
     "name": "stdout",
     "output_type": "stream",
     "text": [
      "['Love, Kenneth', 'Teacher, Treehouse', 'McFarland, Dave', 'Teacher, Treehouse', 'Arthur, King', 'King, Camelot', 'Österberg, Sven', 'Governor, Norrbotten', ', Tim', 'Enchanter, Killer', 'Carson, Ryan', 'CEO, Treehouse', 'Doctor, The', 'Lord, Gallifrey', 'Exampleson, Example', 'Example, Example', 'Obama, Barack', 'President, United', 'Chalkley, Andrew', 'Teacher, Treehouse', 'Vader, Darth', 'Lord, Galactic', 'Sanz, María', 'Minister, Spanish']\n"
     ]
    }
   ],
   "source": [
    "#find all names\n",
    "# * says either 0 up to infinite number of times\n",
    "print (re.findall(r'\\w*, \\w+', data))"
   ]
  },
  {
   "cell_type": "code",
   "execution_count": null,
   "metadata": {},
   "outputs": [],
   "source": [
    "# challenge code, build function that finds all word at least inputed length long\n",
    "def find_words(number,string):\n",
    "    return re.findall(r\"\\w\"*number + r\"\\w*\", string)"
   ]
  },
  {
   "cell_type": "markdown",
   "metadata": {},
   "source": [
    "## Sets\n",
    "\n",
    "[abc] - this is a set of the characters 'a', 'b', and 'c'. It'll match any of those characters, in any order, but only once each.\n",
    "\n",
    "[a-z], [A-Z], or [a-zA-Z] - ranges that'll match any/all letters in the English alphabet in lowercase, uppercase, or both upper and lowercases.\n",
    "\n",
    "[0-9] - range that'll match any number from 0 to 9. You can change the ends to restrict the set.\n"
   ]
  },
  {
   "cell_type": "code",
   "execution_count": 29,
   "metadata": {},
   "outputs": [
    {
     "name": "stdout",
     "output_type": "stream",
     "text": [
      "['kenneth@teamtreehouse.com', 'dave@teamtreehouse.com', 'king_arthur@camelot.co.uk', 'governor@norrbotten.co.se', 'tim@killerrabbit.com', 'ryan@teamtreehouse.com', 'doctor+companion@tardis.co.uk', 'me@example.com', 'president.44@us.gov', 'andrew@teamtreehouse.com', 'darth-vader@empire.gov', 'mtfvs@spain.gov']\n"
     ]
    }
   ],
   "source": [
    "#finding all email addresses\n",
    "#set of characters can have the - , \\w, \\d, +, ., characters\n",
    "print(re.findall(r\"[-\\w\\d+.]+@[-\\w\\d.]+\", data))"
   ]
  },
  {
   "cell_type": "code",
   "execution_count": 35,
   "metadata": {},
   "outputs": [
    {
     "name": "stdout",
     "output_type": "stream",
     "text": [
      "['Treehouse', 'Treehouse', 'Treehouse', 'Treehouse']\n"
     ]
    }
   ],
   "source": [
    "# all instances of \"treehouse\"\n",
    "# ignore case flag\n",
    "# re.I = re.IGNORECASE\n",
    "# for a set order does not matter\n",
    "print(re.findall(r\"\\b[strehou]{9}\\b\", data, re.I))"
   ]
  },
  {
   "cell_type": "code",
   "execution_count": null,
   "metadata": {},
   "outputs": [],
   "source": []
  }
 ],
 "metadata": {
  "kernelspec": {
   "display_name": "Python 3",
   "language": "python",
   "name": "python3"
  },
  "language_info": {
   "codemirror_mode": {
    "name": "ipython",
    "version": 3
   },
   "file_extension": ".py",
   "mimetype": "text/x-python",
   "name": "python",
   "nbconvert_exporter": "python",
   "pygments_lexer": "ipython3",
   "version": "3.7.3"
  }
 },
 "nbformat": 4,
 "nbformat_minor": 2
}

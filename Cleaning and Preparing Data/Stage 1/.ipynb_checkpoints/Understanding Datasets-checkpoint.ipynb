{
 "cells": [
  {
   "cell_type": "code",
   "execution_count": 2,
   "metadata": {},
   "outputs": [],
   "source": [
    "import pandas as pd"
   ]
  },
  {
   "cell_type": "code",
   "execution_count": 3,
   "metadata": {},
   "outputs": [],
   "source": [
    "demo = pd.read_csv('demographics.csv')\n",
    "bmx = pd.read_csv('BodyMeasures.csv')\n",
    "ocp = pd.read_csv('Occupation.csv')"
   ]
  },
  {
   "cell_type": "code",
   "execution_count": 4,
   "metadata": {},
   "outputs": [
    {
     "data": {
      "text/plain": [
       "SEQN          int64\n",
       "SDDSRVYR    float64\n",
       "RIDSTATR     object\n",
       "RIDEXMON    float64\n",
       "RIAGENDR     object\n",
       "RIDAGEYR    float64\n",
       "RIDAGEMN    float64\n",
       "RIDAGEEX    float64\n",
       "RIDRETH1     object\n",
       "RIDRETH2    float64\n",
       "DMQMILIT     object\n",
       "DMDBORN      object\n",
       "DMDCITZN     object\n",
       "DMDYRSUS     object\n",
       "DMDEDUC3     object\n",
       "DMDEDUC2     object\n",
       "DMDEDUC     float64\n",
       "DMDSCHOL     object\n",
       "DMDMARTL     object\n",
       "DMDHHSIZ    float64\n",
       "INDHHINC    float64\n",
       "INDFMINC    float64\n",
       "INDFMPIR    float64\n",
       "RIDEXPRG    float64\n",
       "RIDPREG     float64\n",
       "DMDHRGND    float64\n",
       "DMDHRAGE    float64\n",
       "DMDHRBRN    float64\n",
       "DMDHREDU    float64\n",
       "DMDHRMAR    float64\n",
       "             ...   \n",
       "WTIREP23    float64\n",
       "WTIREP24    float64\n",
       "WTIREP25    float64\n",
       "WTIREP26    float64\n",
       "WTIREP27    float64\n",
       "WTIREP28    float64\n",
       "WTIREP29    float64\n",
       "WTIREP30    float64\n",
       "WTIREP31    float64\n",
       "WTIREP32    float64\n",
       "WTIREP33    float64\n",
       "WTIREP34    float64\n",
       "WTIREP35    float64\n",
       "WTIREP36    float64\n",
       "WTIREP37    float64\n",
       "WTIREP38    float64\n",
       "WTIREP39    float64\n",
       "WTIREP40    float64\n",
       "WTIREP41    float64\n",
       "WTIREP42    float64\n",
       "WTIREP43    float64\n",
       "WTIREP44    float64\n",
       "WTIREP45    float64\n",
       "WTIREP46    float64\n",
       "WTIREP47    float64\n",
       "WTIREP48    float64\n",
       "WTIREP49    float64\n",
       "WTIREP50    float64\n",
       "WTIREP51    float64\n",
       "WTIREP52    float64\n",
       "Length: 144, dtype: object"
      ]
     },
     "execution_count": 4,
     "metadata": {},
     "output_type": "execute_result"
    }
   ],
   "source": [
    "demo.dtypes"
   ]
  },
  {
   "cell_type": "code",
   "execution_count": 5,
   "metadata": {},
   "outputs": [
    {
     "data": {
      "text/plain": [
       "SEQN          int64\n",
       "BMAEXLEN    float64\n",
       "BMAEXSTS    float64\n",
       "BMAEXCMT    float64\n",
       "BMXWT       float64\n",
       "BMIWT       float64\n",
       "BMXRECUM    float64\n",
       "BMIRECUM    float64\n",
       "BMXHEAD     float64\n",
       "BMIHEAD     float64\n",
       "BMXHT       float64\n",
       "BMIHT       float64\n",
       "BMXBMI      float64\n",
       "BMXLEG      float64\n",
       "BMILEG      float64\n",
       "BMXCALF     float64\n",
       "BMICALF     float64\n",
       "BMXARML     float64\n",
       "BMIARML     float64\n",
       "BMXARMC     float64\n",
       "BMIARMC     float64\n",
       "BMXWAIST    float64\n",
       "BMIWAIST    float64\n",
       "BMXTHICR    float64\n",
       "BMITHICR    float64\n",
       "BMXTRI      float64\n",
       "BMITRI      float64\n",
       "BMXSUB      float64\n",
       "BMISUB      float64\n",
       "BMAAMP      float64\n",
       "BMAUREXT    float64\n",
       "BMAUPREL    float64\n",
       "BMAULEXT    float64\n",
       "BMAUPLEL    float64\n",
       "BMALOREX    float64\n",
       "BMALORKN    float64\n",
       "BMALLEXT    float64\n",
       "BMALLKNE    float64\n",
       "RIDAGEYR      int64\n",
       "dtype: object"
      ]
     },
     "execution_count": 5,
     "metadata": {},
     "output_type": "execute_result"
    }
   ],
   "source": [
    "bmx.dtypes"
   ]
  },
  {
   "cell_type": "code",
   "execution_count": 18,
   "metadata": {},
   "outputs": [
    {
     "data": {
      "text/html": [
       "<div>\n",
       "<style scoped>\n",
       "    .dataframe tbody tr th:only-of-type {\n",
       "        vertical-align: middle;\n",
       "    }\n",
       "\n",
       "    .dataframe tbody tr th {\n",
       "        vertical-align: top;\n",
       "    }\n",
       "\n",
       "    .dataframe thead th {\n",
       "        text-align: right;\n",
       "    }\n",
       "</style>\n",
       "<table border=\"1\" class=\"dataframe\">\n",
       "  <thead>\n",
       "    <tr style=\"text-align: right;\">\n",
       "      <th></th>\n",
       "      <th>SEQN</th>\n",
       "      <th>SDDSRVYR</th>\n",
       "      <th>RIDSTATR</th>\n",
       "      <th>RIDEXMON</th>\n",
       "      <th>RIAGENDR</th>\n",
       "    </tr>\n",
       "  </thead>\n",
       "  <tbody>\n",
       "    <tr>\n",
       "      <th>0</th>\n",
       "      <td>1</td>\n",
       "      <td>1.0</td>\n",
       "      <td>Exam</td>\n",
       "      <td>2.0</td>\n",
       "      <td>Female</td>\n",
       "    </tr>\n",
       "    <tr>\n",
       "      <th>1</th>\n",
       "      <td>2</td>\n",
       "      <td>1.0</td>\n",
       "      <td>Both</td>\n",
       "      <td>2.0</td>\n",
       "      <td>Male</td>\n",
       "    </tr>\n",
       "    <tr>\n",
       "      <th>2</th>\n",
       "      <td>3</td>\n",
       "      <td>1.0</td>\n",
       "      <td>Exam</td>\n",
       "      <td>1.0</td>\n",
       "      <td>Female</td>\n",
       "    </tr>\n",
       "    <tr>\n",
       "      <th>3</th>\n",
       "      <td>4</td>\n",
       "      <td>1.0</td>\n",
       "      <td>Both</td>\n",
       "      <td>2.0</td>\n",
       "      <td>Male</td>\n",
       "    </tr>\n",
       "    <tr>\n",
       "      <th>4</th>\n",
       "      <td>5</td>\n",
       "      <td>1.0</td>\n",
       "      <td>Both</td>\n",
       "      <td>2.0</td>\n",
       "      <td>Male</td>\n",
       "    </tr>\n",
       "  </tbody>\n",
       "</table>\n",
       "</div>"
      ],
      "text/plain": [
       "   SEQN  SDDSRVYR RIDSTATR  RIDEXMON RIAGENDR\n",
       "0     1       1.0   Exam         2.0   Female\n",
       "1     2       1.0   Both         2.0     Male\n",
       "2     3       1.0     Exam       1.0   Female\n",
       "3     4       1.0     Both       2.0     Male\n",
       "4     5       1.0    Both        2.0     Male"
      ]
     },
     "execution_count": 18,
     "metadata": {},
     "output_type": "execute_result"
    }
   ],
   "source": [
    "demo.loc[:,['SEQN', 'SDDSRVYR', 'RIDSTATR', 'RIDEXMON', 'RIAGENDR']].head()"
   ]
  },
  {
   "cell_type": "code",
   "execution_count": 6,
   "metadata": {},
   "outputs": [],
   "source": [
    "dataset = pd.merge(demo,bmx, on='SEQN', how ='inner')"
   ]
  },
  {
   "cell_type": "code",
   "execution_count": 7,
   "metadata": {},
   "outputs": [],
   "source": [
    "dataset.to_csv('MyDataset.csv', index = False)"
   ]
  },
  {
   "cell_type": "code",
   "execution_count": null,
   "metadata": {},
   "outputs": [],
   "source": []
  }
 ],
 "metadata": {
  "kernelspec": {
   "display_name": "Python 3",
   "language": "python",
   "name": "python3"
  },
  "language_info": {
   "codemirror_mode": {
    "name": "ipython",
    "version": 3
   },
   "file_extension": ".py",
   "mimetype": "text/x-python",
   "name": "python",
   "nbconvert_exporter": "python",
   "pygments_lexer": "ipython3",
   "version": "3.7.3"
  }
 },
 "nbformat": 4,
 "nbformat_minor": 2
}

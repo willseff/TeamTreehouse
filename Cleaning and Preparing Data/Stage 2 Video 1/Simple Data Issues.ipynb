{
 "cells": [
  {
   "cell_type": "code",
   "execution_count": 1,
   "metadata": {},
   "outputs": [],
   "source": [
    "import pandas as pd"
   ]
  },
  {
   "cell_type": "code",
   "execution_count": 2,
   "metadata": {},
   "outputs": [],
   "source": [
    "demo = pd.read_csv('Demographics.csv')"
   ]
  },
  {
   "cell_type": "code",
   "execution_count": 4,
   "metadata": {},
   "outputs": [
    {
     "data": {
      "text/plain": [
       "SEQN          int64\n",
       "RIDAGEYR    float64\n",
       "RIAGENDR     object\n",
       "DMQMLIT     float64\n",
       "DMDCITZN     object\n",
       "dtype: object"
      ]
     },
     "execution_count": 4,
     "metadata": {},
     "output_type": "execute_result"
    }
   ],
   "source": [
    "demo.loc[:,['SEQN','RIDAGEYR','RIAGENDR','DMQMLIT','DMDCITZN']].dtypes"
   ]
  },
  {
   "cell_type": "code",
   "execution_count": 6,
   "metadata": {},
   "outputs": [
    {
     "name": "stdout",
     "output_type": "stream",
     "text": [
      "38\n"
     ]
    }
   ],
   "source": [
    "print(len(demo['DMQMILIT'].unique()))"
   ]
  },
  {
   "cell_type": "code",
   "execution_count": 8,
   "metadata": {},
   "outputs": [
    {
     "name": "stdout",
     "output_type": "stream",
     "text": [
      "[nan 'Y' 'Yes' '  No' ' No' 'N' 'No' 'No  ' ' Y' 'N ' 'Yes ' '  N' 'No '\n",
      " 'N  ' ' Yes' 'Y ' ' N' '  N ' 'Y  ' '  Yes' '  No  ' 'Yes  ' \"Don't know\"\n",
      " '  Y' ' N  ' ' No ' ' No  ' '  N  ' 'Refused' '  No ' '  Yes  '\n",
      " \"Don't know \" ' Yes ' ' N ' '  Yes ' ' Yes  ' 'Refused ' \" Don't know\"]\n"
     ]
    }
   ],
   "source": [
    "print(demo['DMQMILIT'].unique())"
   ]
  },
  {
   "cell_type": "code",
   "execution_count": 17,
   "metadata": {},
   "outputs": [],
   "source": [
    "demo['DMQMILIT'] = demo['DMQMILIT'].str.strip()\n",
    "#can also do \n",
    "demo.loc[:,'DMQMILIT']= demo.loc[:,'DMQMILIT'].str.strip()"
   ]
  },
  {
   "cell_type": "code",
   "execution_count": 18,
   "metadata": {},
   "outputs": [
    {
     "name": "stdout",
     "output_type": "stream",
     "text": [
      "[nan 'Y' 'Yes' 'No' 'N' \"Don't know\" 'Refused']\n"
     ]
    }
   ],
   "source": [
    "print(demo['DMQMILIT'].unique())"
   ]
  },
  {
   "cell_type": "code",
   "execution_count": 19,
   "metadata": {},
   "outputs": [
    {
     "data": {
      "text/plain": [
       "pandas.core.series.Series"
      ]
     },
     "execution_count": 19,
     "metadata": {},
     "output_type": "execute_result"
    }
   ],
   "source": [
    "#this returns series\n",
    "type(demo.loc[:,'DMQMILIT'])"
   ]
  },
  {
   "cell_type": "code",
   "execution_count": 20,
   "metadata": {},
   "outputs": [
    {
     "data": {
      "text/plain": [
       "pandas.core.frame.DataFrame"
      ]
     },
     "execution_count": 20,
     "metadata": {},
     "output_type": "execute_result"
    }
   ],
   "source": [
    "#this returns dataframe\n",
    "type(demo.loc[:,['DMQMILIT']])"
   ]
  },
  {
   "cell_type": "code",
   "execution_count": 21,
   "metadata": {},
   "outputs": [],
   "source": [
    "#we can use a nested dictionary to replace values!!!!\n",
    "replace_dict = {'DMQMILIT':{\n",
    "    'Y': 'Yes',\n",
    "    'N': 'No'\n",
    "}}"
   ]
  },
  {
   "cell_type": "code",
   "execution_count": 22,
   "metadata": {},
   "outputs": [],
   "source": [
    "demo.replace(replace_dict,inplace=True)"
   ]
  },
  {
   "cell_type": "code",
   "execution_count": 23,
   "metadata": {},
   "outputs": [
    {
     "name": "stdout",
     "output_type": "stream",
     "text": [
      "[nan 'Yes' 'No' \"Don't know\" 'Refused']\n"
     ]
    }
   ],
   "source": [
    "print(demo['DMQMILIT'].unique())"
   ]
  },
  {
   "cell_type": "code",
   "execution_count": 25,
   "metadata": {},
   "outputs": [
    {
     "name": "stdout",
     "output_type": "stream",
     "text": [
      "31\n"
     ]
    }
   ],
   "source": [
    "print(len(demo['DMDCITZN'].unique()))"
   ]
  },
  {
   "cell_type": "code",
   "execution_count": 26,
   "metadata": {
    "scrolled": false
   },
   "outputs": [
    {
     "name": "stdout",
     "output_type": "stream",
     "text": [
      "['Citizen by birth or naturalization' 'Not a citizen of the US'\n",
      " '  Citizen by birth or naturalization'\n",
      " ' Citizen by birth or naturalization'\n",
      " 'Citizen by birth or naturalization '\n",
      " 'Citizen by birth or naturalization  ' ' Not a citizen of the US'\n",
      " 'Not a citizen of the US ' 'Not a citizen of the US  ' 'Refused'\n",
      " \" Don't know\" '  Not a citizen of the US'\n",
      " '  Citizen by birth or naturalization '\n",
      " ' Citizen by birth or naturalization  '\n",
      " ' Citizen by birth or naturalization ' 'Unknown' \"Don't know\"\n",
      " ' Dont know' ' Not a citizen of the US '\n",
      " '  Citizen by birth or naturalization  ' ' Not a citizen of the US  ' nan\n",
      " '  Refused' 'Unknown  ' '  Not a citizen of the US ' 'Dont know'\n",
      " ' Refused' \"  Don't know \" \"Don't Know\" \"  Don't know\" \"Don't know  \"]\n"
     ]
    }
   ],
   "source": [
    "print(demo['DMDCITZN'].unique())"
   ]
  },
  {
   "cell_type": "code",
   "execution_count": 27,
   "metadata": {},
   "outputs": [],
   "source": [
    "demo.loc[:,'DMDCITZN']=demo.loc[:,'DMDCITZN'].str.strip()"
   ]
  },
  {
   "cell_type": "code",
   "execution_count": 28,
   "metadata": {},
   "outputs": [
    {
     "name": "stdout",
     "output_type": "stream",
     "text": [
      "['Citizen by birth or naturalization' 'Not a citizen of the US' 'Refused'\n",
      " \"Don't know\" 'Unknown' 'Dont know' nan \"Don't Know\"]\n"
     ]
    }
   ],
   "source": [
    "print(demo['DMDCITZN'].unique())"
   ]
  },
  {
   "cell_type": "code",
   "execution_count": 29,
   "metadata": {},
   "outputs": [],
   "source": [
    "replace_dict = {'DMDCITZN':{\n",
    "    \"Dont know\": \"Don't know\",\n",
    "    \"Don't Know\":\"Don't know\",\n",
    "    \"Unknown\": \"Don't know\"\n",
    "}}"
   ]
  },
  {
   "cell_type": "code",
   "execution_count": 37,
   "metadata": {},
   "outputs": [],
   "source": [
    "demo.replace(replace_dict, inplace=True)"
   ]
  },
  {
   "cell_type": "code",
   "execution_count": 32,
   "metadata": {},
   "outputs": [],
   "source": [
    "demo.to_csv('Demographics.csv', index=False)"
   ]
  },
  {
   "cell_type": "markdown",
   "metadata": {},
   "source": [
    "Individual Practice\n",
    "---\n",
    "\n",
    "1. Find all of the columns in the demographics file that contain string data. \n",
    "2. Get rid of all excess whitespace.\n",
    "3. Make sure all text entries match the text options in the [demographics codebook](https://wwwn.cdc.gov/Nchs/Nhanes/1999-2000/DEMO.htm)."
   ]
  },
  {
   "cell_type": "code",
   "execution_count": 43,
   "metadata": {},
   "outputs": [
    {
     "data": {
      "text/plain": [
       "RIDSTATR    object\n",
       "RIAGENDR    object\n",
       "RIDRETH1    object\n",
       "DMQMILIT    object\n",
       "DMDBORN     object\n",
       "DMDCITZN    object\n",
       "DMDYRSUS    object\n",
       "DMDEDUC3    object\n",
       "DMDEDUC2    object\n",
       "DMDSCHOL    object\n",
       "DMDMARTL    object\n",
       "dtype: object"
      ]
     },
     "execution_count": 43,
     "metadata": {},
     "output_type": "execute_result"
    }
   ],
   "source": [
    "demo.dtypes[demo.dtypes == 'object']"
   ]
  },
  {
   "cell_type": "code",
   "execution_count": 46,
   "metadata": {},
   "outputs": [
    {
     "name": "stdout",
     "output_type": "stream",
     "text": [
      "['Exam  ' 'Both  ' 'Exam' 'Both' 'Both ' ' Exam ' '  Both' 'exam'\n",
      " 'Both Interviewed and MEC examined' ' Both Interviewed and MCE examined'\n",
      " 'Interview Only' ' Both' nan ' exam' '  Exam' ' Both ' 'Only Interview  '\n",
      " 'Interviewed Only' 'Only Interview ' 'Interview  ' 'exam  '\n",
      " ' Both Interviewed and MEC examined' 'exam ' 'interview' ' Both  '\n",
      " 'Only Interview' 'Interview' 'Both Interviewed and MEC examined  '\n",
      " '  Both Interviewed and MEC examined' 'Interview Only '\n",
      " '  Interview Only' 'Both Interviewed and MEC examined ' ' Exam'\n",
      " 'Both Interviewed and MCE examined' ' Both Interviewed and MEC examined '\n",
      " ' Only Interview' '  Only Interview ' '  Both  ' '  exam'\n",
      " ' Interview Only ' '  Both ' 'Interviewed Only ' ' Interview Only'\n",
      " 'Both Interviewed and MCE examined  ' '  Interviewed Only' 'Exam '\n",
      " 'Both Interviewed and MCE examined ' 'Interview ' ' exam  ' '  Exam '\n",
      " '  Both Interviewed and MCE examined' ' Interviewed Only'\n",
      " '  Only Interview  ' ' Interview' '  Both Interviewed and MEC examined '\n",
      " ' exam ' 'interview  ' '  Interview' '  Exam  ' '  Only Interview'\n",
      " '  exam ' '  Interview Only ' 'Interview Only  ' 'Interviewed Only  '\n",
      " ' Exam  ' ' interview' ' Both Interviewed and MEC examined  '\n",
      " ' Interviewed Only  ' '  Both Interviewed and MEC examined  '\n",
      " '  interview' ' Interview Only  ']\n"
     ]
    }
   ],
   "source": [
    "print(demo['RIDSTATR'].unique())"
   ]
  },
  {
   "cell_type": "code",
   "execution_count": 51,
   "metadata": {},
   "outputs": [
    {
     "ename": "AttributeError",
     "evalue": "'DataFrame' object has no attribute 'str'",
     "output_type": "error",
     "traceback": [
      "\u001b[0;31m---------------------------------------------------------------------------\u001b[0m",
      "\u001b[0;31mAttributeError\u001b[0m                            Traceback (most recent call last)",
      "\u001b[0;32m<ipython-input-51-c582da20c061>\u001b[0m in \u001b[0;36m<module>\u001b[0;34m\u001b[0m\n\u001b[0;32m----> 1\u001b[0;31m \u001b[0mdemo\u001b[0m\u001b[0;34m.\u001b[0m\u001b[0mloc\u001b[0m\u001b[0;34m[\u001b[0m\u001b[0;34m:\u001b[0m\u001b[0;34m,\u001b[0m\u001b[0;34m[\u001b[0m\u001b[0;34m'RIAGENDR'\u001b[0m\u001b[0;34m,\u001b[0m\u001b[0;34m'RIDSTATR'\u001b[0m\u001b[0;34m]\u001b[0m\u001b[0;34m]\u001b[0m \u001b[0;34m=\u001b[0m \u001b[0mdemo\u001b[0m\u001b[0;34m.\u001b[0m\u001b[0mloc\u001b[0m\u001b[0;34m[\u001b[0m\u001b[0;34m:\u001b[0m\u001b[0;34m,\u001b[0m\u001b[0;34m[\u001b[0m\u001b[0;34m'RIAGENDR'\u001b[0m\u001b[0;34m,\u001b[0m\u001b[0;34m'RIDSTATR'\u001b[0m\u001b[0;34m]\u001b[0m\u001b[0;34m]\u001b[0m\u001b[0;34m.\u001b[0m\u001b[0mstr\u001b[0m\u001b[0;34m.\u001b[0m\u001b[0mstrip\u001b[0m\u001b[0;34m(\u001b[0m\u001b[0;34m)\u001b[0m\u001b[0;34m\u001b[0m\u001b[0;34m\u001b[0m\u001b[0m\n\u001b[0m",
      "\u001b[0;32m~/anaconda3/lib/python3.7/site-packages/pandas/core/generic.py\u001b[0m in \u001b[0;36m__getattr__\u001b[0;34m(self, name)\u001b[0m\n\u001b[1;32m   5065\u001b[0m             \u001b[0;32mif\u001b[0m \u001b[0mself\u001b[0m\u001b[0;34m.\u001b[0m\u001b[0m_info_axis\u001b[0m\u001b[0;34m.\u001b[0m\u001b[0m_can_hold_identifiers_and_holds_name\u001b[0m\u001b[0;34m(\u001b[0m\u001b[0mname\u001b[0m\u001b[0;34m)\u001b[0m\u001b[0;34m:\u001b[0m\u001b[0;34m\u001b[0m\u001b[0;34m\u001b[0m\u001b[0m\n\u001b[1;32m   5066\u001b[0m                 \u001b[0;32mreturn\u001b[0m \u001b[0mself\u001b[0m\u001b[0;34m[\u001b[0m\u001b[0mname\u001b[0m\u001b[0;34m]\u001b[0m\u001b[0;34m\u001b[0m\u001b[0;34m\u001b[0m\u001b[0m\n\u001b[0;32m-> 5067\u001b[0;31m             \u001b[0;32mreturn\u001b[0m \u001b[0mobject\u001b[0m\u001b[0;34m.\u001b[0m\u001b[0m__getattribute__\u001b[0m\u001b[0;34m(\u001b[0m\u001b[0mself\u001b[0m\u001b[0;34m,\u001b[0m \u001b[0mname\u001b[0m\u001b[0;34m)\u001b[0m\u001b[0;34m\u001b[0m\u001b[0;34m\u001b[0m\u001b[0m\n\u001b[0m\u001b[1;32m   5068\u001b[0m \u001b[0;34m\u001b[0m\u001b[0m\n\u001b[1;32m   5069\u001b[0m     \u001b[0;32mdef\u001b[0m \u001b[0m__setattr__\u001b[0m\u001b[0;34m(\u001b[0m\u001b[0mself\u001b[0m\u001b[0;34m,\u001b[0m \u001b[0mname\u001b[0m\u001b[0;34m,\u001b[0m \u001b[0mvalue\u001b[0m\u001b[0;34m)\u001b[0m\u001b[0;34m:\u001b[0m\u001b[0;34m\u001b[0m\u001b[0;34m\u001b[0m\u001b[0m\n",
      "\u001b[0;31mAttributeError\u001b[0m: 'DataFrame' object has no attribute 'str'"
     ]
    }
   ],
   "source": [
    "demo.loc[:,['RIAGENDR','RIDSTATR']] = demo.loc[:,['RIAGENDR','RIDSTATR']].str.strip()"
   ]
  },
  {
   "cell_type": "code",
   "execution_count": 49,
   "metadata": {},
   "outputs": [
    {
     "name": "stdout",
     "output_type": "stream",
     "text": [
      "['Exam' 'Both' 'exam' 'Both Interviewed and MEC examined'\n",
      " 'Both Interviewed and MCE examined' 'Interview Only' nan 'Only Interview'\n",
      " 'Interviewed Only' 'Interview' 'interview']\n"
     ]
    }
   ],
   "source": [
    "print(demo['RIDSTATR'].unique())"
   ]
  },
  {
   "cell_type": "code",
   "execution_count": 52,
   "metadata": {},
   "outputs": [],
   "source": [
    "demo_trimmed = demo.apply(lambda x: x.str.strip() if x.dtype == \"object\" else x)"
   ]
  },
  {
   "cell_type": "code",
   "execution_count": 56,
   "metadata": {},
   "outputs": [
    {
     "data": {
      "text/plain": [
       "array(['Born in 50 US States or Washington, DC', 'Born Elsewhere',\n",
       "       'Born in Mexico', nan, 'Refused', \"Don't know\"], dtype=object)"
      ]
     },
     "execution_count": 56,
     "metadata": {},
     "output_type": "execute_result"
    }
   ],
   "source": [
    "demo_trimmed['DMDBORN'].unique()"
   ]
  },
  {
   "cell_type": "code",
   "execution_count": 58,
   "metadata": {},
   "outputs": [
    {
     "data": {
      "text/plain": [
       "SEQN        9965\n",
       "SDDSRVYR       1\n",
       "RIDSTATR      10\n",
       "RIDEXMON       2\n",
       "RIAGENDR       4\n",
       "RIDAGEYR     102\n",
       "RIDAGEMN    1017\n",
       "RIDAGEEX    1015\n",
       "RIDRETH1       5\n",
       "RIDRETH2       5\n",
       "DMQMILIT       4\n",
       "DMDBORN        5\n",
       "DMDCITZN       4\n",
       "DMDYRSUS      12\n",
       "DMDEDUC3      20\n",
       "DMDEDUC2       7\n",
       "DMDEDUC        5\n",
       "DMDSCHOL       6\n",
       "DMDMARTL       8\n",
       "DMDHHSIZ       7\n",
       "INDHHINC      15\n",
       "INDFMINC      15\n",
       "INDFMPIR     434\n",
       "RIDEXPRG       3\n",
       "RIDPREG        2\n",
       "DMDHRGND       2\n",
       "DMDHRAGE      69\n",
       "DMDHRBRN       4\n",
       "DMDHREDU       7\n",
       "DMDHRMAR       8\n",
       "            ... \n",
       "WTIREP23    3355\n",
       "WTIREP24    3362\n",
       "WTIREP25    3381\n",
       "WTIREP26    3402\n",
       "WTIREP27    3402\n",
       "WTIREP28    3347\n",
       "WTIREP29    3356\n",
       "WTIREP30    3383\n",
       "WTIREP31    3377\n",
       "WTIREP32    3383\n",
       "WTIREP33    3372\n",
       "WTIREP34    3337\n",
       "WTIREP35    3358\n",
       "WTIREP36    3410\n",
       "WTIREP37    3383\n",
       "WTIREP38    3385\n",
       "WTIREP39    3374\n",
       "WTIREP40    3381\n",
       "WTIREP41    3385\n",
       "WTIREP42    3406\n",
       "WTIREP43    3379\n",
       "WTIREP44    3401\n",
       "WTIREP45    3407\n",
       "WTIREP46    3378\n",
       "WTIREP47    3381\n",
       "WTIREP48    3350\n",
       "WTIREP49    3391\n",
       "WTIREP50    3380\n",
       "WTIREP51    3403\n",
       "WTIREP52    3408\n",
       "Length: 144, dtype: int64"
      ]
     },
     "execution_count": 58,
     "metadata": {},
     "output_type": "execute_result"
    }
   ],
   "source": [
    "demo_trimmed.nunique()"
   ]
  },
  {
   "cell_type": "code",
   "execution_count": null,
   "metadata": {},
   "outputs": [],
   "source": []
  }
 ],
 "metadata": {
  "kernelspec": {
   "display_name": "Python 3",
   "language": "python",
   "name": "python3"
  },
  "language_info": {
   "codemirror_mode": {
    "name": "ipython",
    "version": 3
   },
   "file_extension": ".py",
   "mimetype": "text/x-python",
   "name": "python",
   "nbconvert_exporter": "python",
   "pygments_lexer": "ipython3",
   "version": "3.7.3"
  }
 },
 "nbformat": 4,
 "nbformat_minor": 2
}

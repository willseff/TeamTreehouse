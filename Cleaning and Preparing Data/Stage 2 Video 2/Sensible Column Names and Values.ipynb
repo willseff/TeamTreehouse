{
 "cells": [
  {
   "cell_type": "code",
   "execution_count": 1,
   "metadata": {},
   "outputs": [],
   "source": [
    "import pandas as pd"
   ]
  },
  {
   "cell_type": "code",
   "execution_count": 2,
   "metadata": {},
   "outputs": [],
   "source": [
    "demo = pd.read_csv('demographics.csv')"
   ]
  },
  {
   "cell_type": "code",
   "execution_count": 3,
   "metadata": {},
   "outputs": [],
   "source": [
    "replace_dict={'DMQMILIT':{\n",
    "    'Yes':1,\n",
    "    'No':2,\n",
    "    'Refused':7,\n",
    "    \"Don't know\": 9},\n",
    "                'DMDCITZN':{\n",
    "    'Citizen by birth or naturalization':1,\n",
    "    'Not a citizen of the US':2,\n",
    "    'Refused':7,\n",
    "    \"Don't know\":9}\n",
    "             }\n"
   ]
  },
  {
   "cell_type": "code",
   "execution_count": 4,
   "metadata": {},
   "outputs": [],
   "source": [
    "demo.replace(replace_dict,inplace= True)"
   ]
  },
  {
   "cell_type": "code",
   "execution_count": 6,
   "metadata": {},
   "outputs": [
    {
     "name": "stdout",
     "output_type": "stream",
     "text": [
      "[nan  1.  2.  9.  7.]\n",
      "[ 1.  2.  7.  9. nan]\n"
     ]
    }
   ],
   "source": [
    "print(demo['DMQMILIT'].unique())\n",
    "print(demo['DMDCITZN'].unique())"
   ]
  },
  {
   "cell_type": "code",
   "execution_count": 7,
   "metadata": {},
   "outputs": [],
   "source": [
    "column_dict = {'DMQMILIT':'Vetern/Military Status',\n",
    "              'DMDCITZN' : 'Citizenship Status'}"
   ]
  },
  {
   "cell_type": "code",
   "execution_count": 8,
   "metadata": {},
   "outputs": [],
   "source": [
    "demo.rename(columns = column_dict, inplace = True)"
   ]
  },
  {
   "cell_type": "code",
   "execution_count": 9,
   "metadata": {},
   "outputs": [
    {
     "data": {
      "text/plain": [
       "Index(['Vetern/Military Status', 'DMDBORN', 'Citizenship Status', 'DMDYRSUS',\n",
       "       'DMDEDUC3'],\n",
       "      dtype='object')"
      ]
     },
     "execution_count": 9,
     "metadata": {},
     "output_type": "execute_result"
    }
   ],
   "source": [
    "demo.columns[10:15]"
   ]
  },
  {
   "cell_type": "code",
   "execution_count": 13,
   "metadata": {},
   "outputs": [
    {
     "data": {
      "text/plain": [
       "dtype('float64')"
      ]
     },
     "execution_count": 13,
     "metadata": {},
     "output_type": "execute_result"
    }
   ],
   "source": [
    "demo['Vetern/Military Status'].dtypes\n",
    "demo['Citizenship Status'].dtypes"
   ]
  },
  {
   "cell_type": "code",
   "execution_count": 12,
   "metadata": {},
   "outputs": [
    {
     "data": {
      "text/plain": [
       "Vetern/Military Status    float64\n",
       "Citizenship Status        float64\n",
       "dtype: object"
      ]
     },
     "execution_count": 12,
     "metadata": {},
     "output_type": "execute_result"
    }
   ],
   "source": [
    "#can also be done like this\n",
    "demo.loc[:,['Vetern/Military Status','Citizenship Status']].dtypes"
   ]
  },
  {
   "cell_type": "code",
   "execution_count": 14,
   "metadata": {},
   "outputs": [],
   "source": [
    "demo.to_csv('Demographics.csv', index = False)"
   ]
  },
  {
   "cell_type": "code",
   "execution_count": 15,
   "metadata": {},
   "outputs": [
    {
     "data": {
      "text/plain": [
       "SEQN                        int64\n",
       "SDDSRVYR                  float64\n",
       "RIDSTATR                   object\n",
       "RIDEXMON                  float64\n",
       "RIAGENDR                   object\n",
       "RIDAGEYR                  float64\n",
       "RIDAGEMN                  float64\n",
       "RIDAGEEX                  float64\n",
       "RIDRETH1                   object\n",
       "RIDRETH2                  float64\n",
       "Vetern/Military Status    float64\n",
       "DMDBORN                    object\n",
       "Citizenship Status        float64\n",
       "DMDYRSUS                   object\n",
       "DMDEDUC3                   object\n",
       "DMDEDUC2                   object\n",
       "DMDEDUC                   float64\n",
       "DMDSCHOL                   object\n",
       "DMDMARTL                   object\n",
       "DMDHHSIZ                  float64\n",
       "INDHHINC                  float64\n",
       "INDFMINC                  float64\n",
       "INDFMPIR                  float64\n",
       "RIDEXPRG                  float64\n",
       "RIDPREG                   float64\n",
       "DMDHRGND                  float64\n",
       "DMDHRAGE                  float64\n",
       "DMDHRBRN                  float64\n",
       "DMDHREDU                  float64\n",
       "DMDHRMAR                  float64\n",
       "                           ...   \n",
       "WTIREP23                  float64\n",
       "WTIREP24                  float64\n",
       "WTIREP25                  float64\n",
       "WTIREP26                  float64\n",
       "WTIREP27                  float64\n",
       "WTIREP28                  float64\n",
       "WTIREP29                  float64\n",
       "WTIREP30                  float64\n",
       "WTIREP31                  float64\n",
       "WTIREP32                  float64\n",
       "WTIREP33                  float64\n",
       "WTIREP34                  float64\n",
       "WTIREP35                  float64\n",
       "WTIREP36                  float64\n",
       "WTIREP37                  float64\n",
       "WTIREP38                  float64\n",
       "WTIREP39                  float64\n",
       "WTIREP40                  float64\n",
       "WTIREP41                  float64\n",
       "WTIREP42                  float64\n",
       "WTIREP43                  float64\n",
       "WTIREP44                  float64\n",
       "WTIREP45                  float64\n",
       "WTIREP46                  float64\n",
       "WTIREP47                  float64\n",
       "WTIREP48                  float64\n",
       "WTIREP49                  float64\n",
       "WTIREP50                  float64\n",
       "WTIREP51                  float64\n",
       "WTIREP52                  float64\n",
       "Length: 144, dtype: object"
      ]
     },
     "execution_count": 15,
     "metadata": {},
     "output_type": "execute_result"
    }
   ],
   "source": [
    "demo.dtypes"
   ]
  },
  {
   "cell_type": "code",
   "execution_count": null,
   "metadata": {},
   "outputs": [],
   "source": []
  }
 ],
 "metadata": {
  "kernelspec": {
   "display_name": "Python 3",
   "language": "python",
   "name": "python3"
  },
  "language_info": {
   "codemirror_mode": {
    "name": "ipython",
    "version": 3
   },
   "file_extension": ".py",
   "mimetype": "text/x-python",
   "name": "python",
   "nbconvert_exporter": "python",
   "pygments_lexer": "ipython3",
   "version": "3.7.3"
  }
 },
 "nbformat": 4,
 "nbformat_minor": 2
}

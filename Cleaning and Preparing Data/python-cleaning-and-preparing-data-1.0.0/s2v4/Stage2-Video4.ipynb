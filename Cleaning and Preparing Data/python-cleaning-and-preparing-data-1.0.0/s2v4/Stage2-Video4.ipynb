{
 "cells": [
  {
   "cell_type": "markdown",
   "metadata": {},
   "source": [
    "Import the Pandas and Numpy libraries and load in the data file\n",
    "---"
   ]
  },
  {
   "cell_type": "code",
   "execution_count": 1,
   "metadata": {},
   "outputs": [],
   "source": [
    "import pandas as pd\n",
    "import numpy as np\n",
    "\n",
    "demo = pd.read_csv('Demographics.csv')\n",
    "bmx = pd.read_csv('BodyMeasures.csv')"
   ]
  },
  {
   "cell_type": "markdown",
   "metadata": {},
   "source": [
    "How much data is missing from each column?\n",
    "---"
   ]
  },
  {
   "cell_type": "code",
   "execution_count": 16,
   "metadata": {},
   "outputs": [
    {
     "data": {
      "text/plain": [
       "SEQN          0\n",
       "SDDSRVYR    211\n",
       "RIDSTATR    209\n",
       "RIDEXMON    920\n",
       "RIAGENDR    211\n",
       "dtype: int64"
      ]
     },
     "execution_count": 16,
     "metadata": {},
     "output_type": "execute_result"
    }
   ],
   "source": [
    "valid_entries = demo.count()\n",
    "total_rows = len(demo.index)\n",
    "missing_data = total_rows - valid_entries\n",
    "missing_data.head()"
   ]
  },
  {
   "cell_type": "markdown",
   "metadata": {},
   "source": [
    "As a percentage\n",
    "---"
   ]
  },
  {
   "cell_type": "code",
   "execution_count": 17,
   "metadata": {},
   "outputs": [
    {
     "data": {
      "text/plain": [
       "SEQN        0.000000\n",
       "SDDSRVYR    1.993199\n",
       "RIDSTATR    1.974306\n",
       "RIDEXMON    8.690724\n",
       "RIAGENDR    1.993199\n",
       "dtype: float64"
      ]
     },
     "execution_count": 17,
     "metadata": {},
     "output_type": "execute_result"
    }
   ],
   "source": [
    "missing_percentage = missing_data / total_rows * 100\n",
    "missing_percentage.head()"
   ]
  },
  {
   "cell_type": "markdown",
   "metadata": {},
   "source": [
    "How much data is missing from each row?\n",
    "---"
   ]
  },
  {
   "cell_type": "code",
   "execution_count": 4,
   "metadata": {},
   "outputs": [
    {
     "data": {
      "text/plain": [
       "0    8.333333\n",
       "1    6.944444\n",
       "2    4.861111\n",
       "3    8.333333\n",
       "4    5.555556\n",
       "dtype: float64"
      ]
     },
     "execution_count": 4,
     "metadata": {},
     "output_type": "execute_result"
    }
   ],
   "source": [
    "missing_data = np.sum(demo.isnull(), axis=1)\n",
    "num_cols = len(demo.columns)\n",
    "missing_percentage = missing_data / num_cols * 100\n",
    "\n",
    "missing_percentage.head()"
   ]
  },
  {
   "cell_type": "markdown",
   "metadata": {
    "collapsed": true
   },
   "source": [
    "What about entries equivalent to unknown?\n",
    "---\n",
    "\n",
    "DMDSCHOL - Now attending school? ([codebook entry](https://wwwn.cdc.gov/Nchs/Nhanes/1999-2000/DEMO.htm#DMDSCHOL))\n",
    "\n",
    "|Code|Meaning|\n",
    "|:--- |:--- |\n",
    "|1| In school|\n",
    "|2|\tOn vacation from school (between grades)|\n",
    "|3|\tNeither in school or on vacation from school (between grades)|\n",
    "|7|\tRefused|\n",
    "|9|\tDon't know|"
   ]
  },
  {
   "cell_type": "code",
   "execution_count": 5,
   "metadata": {},
   "outputs": [
    {
     "name": "stdout",
     "output_type": "stream",
     "text": [
      "Percent missing: 67\n",
      "Number refused: 0\n",
      "Number unknown: 2\n"
     ]
    }
   ],
   "source": [
    "perc = (len(demo.index)-demo['DMDSCHOL'].count())/len(demo.index)*100\n",
    "print('Percent missing: %d' % perc)\n",
    "\n",
    "num_refused = sum(demo['DMDSCHOL'] == 7)\n",
    "num_dontknow = sum(demo['DMDSCHOL'] == 9)\n",
    "print('Number refused: %d' % num_refused)\n",
    "print('Number unknown: %d' % num_dontknow)"
   ]
  },
  {
   "cell_type": "code",
   "execution_count": 6,
   "metadata": {},
   "outputs": [
    {
     "name": "stdout",
     "output_type": "stream",
     "text": [
      "[nan  1.  3.  2.]\n"
     ]
    }
   ],
   "source": [
    "unknown_ind = demo.loc[:,'DMDSCHOL'] > 3\n",
    "demo.loc[unknown_ind,'DMDSCHOL'] = np.nan\n",
    "print(demo['DMDSCHOL'].unique())"
   ]
  },
  {
   "cell_type": "code",
   "execution_count": 7,
   "metadata": {},
   "outputs": [
    {
     "name": "stdout",
     "output_type": "stream",
     "text": [
      "Percent missing: 67\n",
      "Number refused: 0\n",
      "Number unknown: 0\n"
     ]
    }
   ],
   "source": [
    "perc = (len(demo.index)-demo['DMDSCHOL'].count())/len(demo.index)*100\n",
    "print('Percent missing: %d' % perc)\n",
    "\n",
    "num_refused = sum(demo['DMDSCHOL'] == 7)\n",
    "num_dontknow = sum(demo['DMDSCHOL'] == 9)\n",
    "print('Number refused: %d' % num_refused)\n",
    "print('Number unknown: %d' % num_dontknow)"
   ]
  },
  {
   "cell_type": "markdown",
   "metadata": {},
   "source": [
    "Wrong Information\n",
    "---"
   ]
  },
  {
   "cell_type": "code",
   "execution_count": 8,
   "metadata": {},
   "outputs": [
    {
     "name": "stdout",
     "output_type": "stream",
     "text": [
      "Demographics:\n",
      "SEQN          int64\n",
      "SDDSRVYR    float64\n",
      "RIDSTATR     object\n",
      "RIDEXMON    float64\n",
      "RIAGENDR     object\n",
      "dtype: object\n",
      "\n",
      "Body Measures:\n",
      "SEQN         object\n",
      "BMAEXLEN    float64\n",
      "BMAEXSTS    float64\n",
      "BMAEXCMT    float64\n",
      "BMXWT       float64\n",
      "dtype: object\n"
     ]
    }
   ],
   "source": [
    "print('Demographics:')\n",
    "print(demo.dtypes.head())\n",
    "print('\\nBody Measures:')\n",
    "print(bmx.dtypes.head())"
   ]
  },
  {
   "cell_type": "code",
   "execution_count": 9,
   "metadata": {},
   "outputs": [
    {
     "ename": "ValueError",
     "evalue": "Unable to parse string \"Jane Doe\" at position 1385",
     "output_type": "error",
     "traceback": [
      "\u001b[0;31m---------------------------------------------------------------------------\u001b[0m",
      "\u001b[0;31mValueError\u001b[0m                                Traceback (most recent call last)",
      "\u001b[0;32mpandas/_libs/lib.pyx\u001b[0m in \u001b[0;36mpandas._libs.lib.maybe_convert_numeric\u001b[0;34m()\u001b[0m\n",
      "\u001b[0;31mValueError\u001b[0m: Unable to parse string \"Jane Doe\"",
      "\nDuring handling of the above exception, another exception occurred:\n",
      "\u001b[0;31mValueError\u001b[0m                                Traceback (most recent call last)",
      "\u001b[0;32m<ipython-input-9-affc10891c3c>\u001b[0m in \u001b[0;36m<module>\u001b[0;34m\u001b[0m\n\u001b[0;32m----> 1\u001b[0;31m \u001b[0mbmx\u001b[0m\u001b[0;34m.\u001b[0m\u001b[0mloc\u001b[0m\u001b[0;34m[\u001b[0m\u001b[0;34m:\u001b[0m\u001b[0;34m,\u001b[0m\u001b[0;34m'SEQN'\u001b[0m\u001b[0;34m]\u001b[0m \u001b[0;34m=\u001b[0m \u001b[0mpd\u001b[0m\u001b[0;34m.\u001b[0m\u001b[0mto_numeric\u001b[0m\u001b[0;34m(\u001b[0m\u001b[0mbmx\u001b[0m\u001b[0;34m[\u001b[0m\u001b[0;34m'SEQN'\u001b[0m\u001b[0;34m]\u001b[0m\u001b[0;34m,\u001b[0m \u001b[0mdowncast\u001b[0m\u001b[0;34m=\u001b[0m\u001b[0;34m'integer'\u001b[0m\u001b[0;34m)\u001b[0m\u001b[0;34m\u001b[0m\u001b[0;34m\u001b[0m\u001b[0m\n\u001b[0m",
      "\u001b[0;32m~/anaconda3/lib/python3.7/site-packages/pandas/core/tools/numeric.py\u001b[0m in \u001b[0;36mto_numeric\u001b[0;34m(arg, errors, downcast)\u001b[0m\n\u001b[1;32m    133\u001b[0m             \u001b[0mcoerce_numeric\u001b[0m \u001b[0;34m=\u001b[0m \u001b[0;32mFalse\u001b[0m \u001b[0;32mif\u001b[0m \u001b[0merrors\u001b[0m \u001b[0;32min\u001b[0m \u001b[0;34m(\u001b[0m\u001b[0;34m'ignore'\u001b[0m\u001b[0;34m,\u001b[0m \u001b[0;34m'raise'\u001b[0m\u001b[0;34m)\u001b[0m \u001b[0;32melse\u001b[0m \u001b[0;32mTrue\u001b[0m\u001b[0;34m\u001b[0m\u001b[0;34m\u001b[0m\u001b[0m\n\u001b[1;32m    134\u001b[0m             values = lib.maybe_convert_numeric(values, set(),\n\u001b[0;32m--> 135\u001b[0;31m                                                coerce_numeric=coerce_numeric)\n\u001b[0m\u001b[1;32m    136\u001b[0m \u001b[0;34m\u001b[0m\u001b[0m\n\u001b[1;32m    137\u001b[0m     \u001b[0;32mexcept\u001b[0m \u001b[0mException\u001b[0m\u001b[0;34m:\u001b[0m\u001b[0;34m\u001b[0m\u001b[0;34m\u001b[0m\u001b[0m\n",
      "\u001b[0;32mpandas/_libs/lib.pyx\u001b[0m in \u001b[0;36mpandas._libs.lib.maybe_convert_numeric\u001b[0;34m()\u001b[0m\n",
      "\u001b[0;31mValueError\u001b[0m: Unable to parse string \"Jane Doe\" at position 1385"
     ]
    }
   ],
   "source": [
    "bmx.loc[:,'SEQN'] = pd.to_numeric(bmx['SEQN'], downcast='integer')"
   ]
  },
  {
   "cell_type": "code",
   "execution_count": null,
   "metadata": {},
   "outputs": [],
   "source": [
    "bmx.loc[:,'SEQN'] = pd.to_numeric(bmx['SEQN'], errors='coerce', downcast='integer')\n",
    "bmx.dtypes.head()"
   ]
  },
  {
   "cell_type": "code",
   "execution_count": null,
   "metadata": {},
   "outputs": [],
   "source": [
    "ind = np.isnan(bmx['SEQN'])\n",
    "bmx = bmx.loc[~ind,:]\n",
    "bmx.loc[:,'SEQN'] = pd.to_numeric(bmx['SEQN'], errors='coerce', downcast='integer')\n",
    "bmx.dtypes.head()"
   ]
  },
  {
   "cell_type": "markdown",
   "metadata": {},
   "source": [
    "Sensitive Data: Minor Marital Status\n",
    "---"
   ]
  },
  {
   "cell_type": "code",
   "execution_count": null,
   "metadata": {},
   "outputs": [],
   "source": [
    "minor_ind = demo.loc[:,'RIDAGEYR'] < 18\n",
    "print(demo.loc[minor_ind, 'DMDMARTL'].count())"
   ]
  },
  {
   "cell_type": "code",
   "execution_count": null,
   "metadata": {},
   "outputs": [],
   "source": []
  },
  {
   "cell_type": "code",
   "execution_count": null,
   "metadata": {},
   "outputs": [],
   "source": [
    "demo.loc[minor_ind, 'DMDMARTL'] = np.nan\n",
    "print(demo.loc[minor_ind, 'DMDMARTL'].count())"
   ]
  },
  {
   "cell_type": "code",
   "execution_count": null,
   "metadata": {},
   "outputs": [],
   "source": []
  },
  {
   "cell_type": "markdown",
   "metadata": {},
   "source": [
    "Individual Practice\n",
    "---\n",
    "\n",
    "1. Find the column with the highest percentage of missing information in demographics\n",
    "2. Remove confidential pregnancy status for minors (rows 'RIDEXPRG' and 'RIDPREG')\n"
   ]
  },
  {
   "cell_type": "code",
   "execution_count": 18,
   "metadata": {},
   "outputs": [
    {
     "data": {
      "text/plain": [
       "DMARACE     99.782732\n",
       "DMAETHN     99.773285\n",
       "RIDPREG     81.758927\n",
       "DMDYRSUS    81.267712\n",
       "RIDEXPRG    80.445872\n",
       "dtype: float64"
      ]
     },
     "execution_count": 18,
     "metadata": {},
     "output_type": "execute_result"
    }
   ],
   "source": [
    "# Put your code here\n",
    "valid_entries = demo.count()\n",
    "total_rows = len(demo.index)\n",
    "missing_data = total_rows - valid_entries\n",
    "missing_percentage.sort_values(ascending=False).head()"
   ]
  },
  {
   "cell_type": "code",
   "execution_count": 20,
   "metadata": {},
   "outputs": [],
   "source": [
    "minor_ind = demo.loc[:,'RIDAGEYR'] < 18\n",
    "demo.loc[minor_ind,['RIDEXPRG','RIDPREG']] = np.nan"
   ]
  },
  {
   "cell_type": "code",
   "execution_count": 22,
   "metadata": {},
   "outputs": [
    {
     "name": "stdout",
     "output_type": "stream",
     "text": [
      "RIDEXPRG    0\n",
      "RIDPREG     0\n",
      "dtype: int64\n"
     ]
    }
   ],
   "source": [
    "print(demo.loc[minor_ind,['RIDEXPRG','RIDPREG']].count())"
   ]
  },
  {
   "cell_type": "markdown",
   "metadata": {},
   "source": [
    "Save Data Files\n",
    "---"
   ]
  },
  {
   "cell_type": "code",
   "execution_count": null,
   "metadata": {},
   "outputs": [],
   "source": [
    "# demo.to_csv('Demographics.csv', index=False)\n",
    "# bmx.to_csv('BodyMeasures.csv', index=False)"
   ]
  }
 ],
 "metadata": {
  "kernelspec": {
   "display_name": "Python 3",
   "language": "python",
   "name": "python3"
  },
  "language_info": {
   "codemirror_mode": {
    "name": "ipython",
    "version": 3
   },
   "file_extension": ".py",
   "mimetype": "text/x-python",
   "name": "python",
   "nbconvert_exporter": "python",
   "pygments_lexer": "ipython3",
   "version": "3.7.3"
  }
 },
 "nbformat": 4,
 "nbformat_minor": 2
}

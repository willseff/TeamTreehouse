{
 "cells": [
  {
   "cell_type": "markdown",
   "metadata": {},
   "source": [
    "Import the Pandas and Numpy libraries and load in the data file\n",
    "---"
   ]
  },
  {
   "cell_type": "code",
   "execution_count": null,
   "metadata": {
    "collapsed": true
   },
   "outputs": [],
   "source": [
    "import pandas as pd\n",
    "import numpy as np\n",
    "\n",
    "demo = pd.read_csv('Demographics.csv')\n",
    "bmx = pd.read_csv('BodyMeasures.csv')\n",
    "ocq = pd.read_csv('Occupation.csv')"
   ]
  },
  {
   "cell_type": "markdown",
   "metadata": {},
   "source": [
    "Impossible Data - Continuous Values\n",
    "---\n",
    "\n",
    "BMXWT - weight in kg"
   ]
  },
  {
   "cell_type": "code",
   "execution_count": null,
   "metadata": {},
   "outputs": [],
   "source": [
    "bmx['BMXWT'].describe()"
   ]
  },
  {
   "cell_type": "code",
   "execution_count": null,
   "metadata": {},
   "outputs": [],
   "source": [
    "ind = bmx['BMXWT'] < 0\n",
    "bmx.loc[ind,'BMXWT'] = np.nan\n",
    "bmx['BMXWT'].describe()"
   ]
  },
  {
   "cell_type": "markdown",
   "metadata": {},
   "source": [
    "Impossible Data - Categorical Values\n",
    "---\n",
    "BMIWT - Weight Comment ([codebook entry](https://wwwn.cdc.gov/Nchs/Nhanes/1999-2000/BMX.htm#BMIWT))\n",
    "\n",
    "\n",
    "|Code|Meaning|\n",
    "|:--- |:--- |\n",
    "|1|\tCould not obtain|\t\n",
    "|2|\tExceeds capacity|\t\n",
    "|3|\tClothing|\n",
    "|4|\tMedical appliance|"
   ]
  },
  {
   "cell_type": "code",
   "execution_count": null,
   "metadata": {},
   "outputs": [],
   "source": [
    "bmx['BMIWT'].unique()"
   ]
  },
  {
   "cell_type": "code",
   "execution_count": null,
   "metadata": {},
   "outputs": [],
   "source": [
    "ind = bmx['BMIWT'] > 4\n",
    "bmx.loc[ind, 'BMIWT'] = np.nan\n",
    "bmx['BMIWT'].unique()"
   ]
  },
  {
   "cell_type": "markdown",
   "metadata": {},
   "source": [
    "Extreme Data\n",
    "---\n",
    "\n",
    "Heaviest human weight on record: 635 kg"
   ]
  },
  {
   "cell_type": "code",
   "execution_count": null,
   "metadata": {},
   "outputs": [],
   "source": [
    "bmx['BMXWT'].describe()"
   ]
  },
  {
   "cell_type": "code",
   "execution_count": null,
   "metadata": {},
   "outputs": [],
   "source": [
    "ind = bmx['BMXWT'] > 635\n",
    "bmx.loc[ind,'BMXWT'] = np.nan\n",
    "bmx['BMXWT'].describe()"
   ]
  },
  {
   "cell_type": "code",
   "execution_count": null,
   "metadata": {},
   "outputs": [],
   "source": [
    "mean_wt = np.nanmean(bmx['BMXWT'])\n",
    "std_wt = np.nanstd(bmx['BMXWT'])\n",
    "\n",
    "min_wt = np.nanmin(bmx['BMXWT'])\n",
    "max_wt = np.nanmax(bmx['BMXWT'])\n",
    "\n",
    "low_wt_zscore = (min_wt - mean_wt)/std_wt\n",
    "high_wt_zscore = (max_wt - mean_wt)/std_wt\n",
    "\n",
    "print('Max weight z-score: ' + str(high_wt_zscore))\n",
    "print('Min weight z-score: ' + str(low_wt_zscore))"
   ]
  },
  {
   "cell_type": "markdown",
   "metadata": {},
   "source": [
    "Saturated Data\n",
    "---\n",
    "\n",
    "Survey instructions: list ages 85 and above as 85"
   ]
  },
  {
   "cell_type": "code",
   "execution_count": null,
   "metadata": {},
   "outputs": [],
   "source": [
    "np.nanmax(demo['RIDAGEYR'])"
   ]
  },
  {
   "cell_type": "code",
   "execution_count": null,
   "metadata": {
    "collapsed": true
   },
   "outputs": [],
   "source": [
    "ind = demo['RIDAGEYR'] > 85\n",
    "demo.loc[ind,'RIDAGEYR'] = 85"
   ]
  },
  {
   "cell_type": "markdown",
   "metadata": {},
   "source": [
    "Individual Practice\n",
    "---\n",
    "\n",
    "1. Find and remove any non-sensible categorical values in the occupation file\n",
    "    * Check OCQ130, OCQ140, OCQ150, OCQ160\n",
    "2. Find the z-score of the maximum and minimum values in the occupation column OCQ180 - Hours worked last week at all jobs ([see codebook for more information](https://wwwn.cdc.gov/Nchs/Nhanes/1999-2000/OCQ.htm#OCQ180))\n",
    "    * Exclude values 7777 and 9999\n"
   ]
  },
  {
   "cell_type": "code",
   "execution_count": null,
   "metadata": {
    "collapsed": true
   },
   "outputs": [],
   "source": [
    "# Your Code Here"
   ]
  },
  {
   "cell_type": "markdown",
   "metadata": {},
   "source": [
    "Save The Data\n",
    "---"
   ]
  },
  {
   "cell_type": "code",
   "execution_count": null,
   "metadata": {
    "collapsed": true
   },
   "outputs": [],
   "source": [
    "# demo.to_csv('Demographics.csv', index=False)\n",
    "# bmx.to_csv('BodyMeasures.csv', index=False)\n",
    "# ocq.to_csv('Occupation.csv', index=False)"
   ]
  }
 ],
 "metadata": {
  "kernelspec": {
   "display_name": "Python 3",
   "language": "python",
   "name": "python3"
  },
  "language_info": {
   "codemirror_mode": {
    "name": "ipython",
    "version": 3
   },
   "file_extension": ".py",
   "mimetype": "text/x-python",
   "name": "python",
   "nbconvert_exporter": "python",
   "pygments_lexer": "ipython3",
   "version": "3.7.1"
  }
 },
 "nbformat": 4,
 "nbformat_minor": 2
}

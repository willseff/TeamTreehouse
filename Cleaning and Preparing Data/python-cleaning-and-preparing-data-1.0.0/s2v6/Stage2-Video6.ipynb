{
 "cells": [
  {
   "cell_type": "markdown",
   "metadata": {},
   "source": [
    "Import the Pandas and Numpy libraries and load in the data file\n",
    "---"
   ]
  },
  {
   "cell_type": "code",
   "execution_count": 33,
   "metadata": {},
   "outputs": [],
   "source": [
    "import pandas as pd\n",
    "import numpy as np\n",
    "\n",
    "demo = pd.read_csv('Demographics.csv')\n",
    "bmx = pd.read_csv('BodyMeasures.csv')\n",
    "ocq = pd.read_csv('Occupation.csv')"
   ]
  },
  {
   "cell_type": "markdown",
   "metadata": {},
   "source": [
    "Impossible Data - Continuous Values\n",
    "---\n",
    "\n",
    "BMXWT - weight in kg"
   ]
  },
  {
   "cell_type": "code",
   "execution_count": 2,
   "metadata": {},
   "outputs": [
    {
     "data": {
      "text/plain": [
       "count     9185.000000\n",
       "mean        67.506522\n",
       "std        282.389202\n",
       "min       -149.000000\n",
       "25%         39.100000\n",
       "50%         63.000000\n",
       "75%         79.700000\n",
       "max      12870.000000\n",
       "Name: BMXWT, dtype: float64"
      ]
     },
     "execution_count": 2,
     "metadata": {},
     "output_type": "execute_result"
    }
   ],
   "source": [
    "bmx['BMXWT'].describe()"
   ]
  },
  {
   "cell_type": "code",
   "execution_count": 3,
   "metadata": {},
   "outputs": [
    {
     "data": {
      "text/plain": [
       "count     9179.000000\n",
       "mean        67.606840\n",
       "std        282.452412\n",
       "min          3.100000\n",
       "25%         39.200000\n",
       "50%         63.000000\n",
       "75%         79.750000\n",
       "max      12870.000000\n",
       "Name: BMXWT, dtype: float64"
      ]
     },
     "execution_count": 3,
     "metadata": {},
     "output_type": "execute_result"
    }
   ],
   "source": [
    "ind = bmx['BMXWT'] < 0\n",
    "bmx.loc[ind,'BMXWT'] = np.nan\n",
    "bmx['BMXWT'].describe()"
   ]
  },
  {
   "cell_type": "markdown",
   "metadata": {},
   "source": [
    "Impossible Data - Categorical Values\n",
    "---\n",
    "BMIWT - Weight Comment ([codebook entry](https://wwwn.cdc.gov/Nchs/Nhanes/1999-2000/BMX.htm#BMIWT))\n",
    "\n",
    "\n",
    "|Code|Meaning|\n",
    "|:--- |:--- |\n",
    "|1|\tCould not obtain|\t\n",
    "|2|\tExceeds capacity|\t\n",
    "|3|\tClothing|\n",
    "|4|\tMedical appliance|"
   ]
  },
  {
   "cell_type": "code",
   "execution_count": 4,
   "metadata": {},
   "outputs": [
    {
     "data": {
      "text/plain": [
       "array([ 3., nan,  4.,  1., 11.,  7.])"
      ]
     },
     "execution_count": 4,
     "metadata": {},
     "output_type": "execute_result"
    }
   ],
   "source": [
    "bmx['BMIWT'].unique()"
   ]
  },
  {
   "cell_type": "code",
   "execution_count": 5,
   "metadata": {},
   "outputs": [
    {
     "data": {
      "text/plain": [
       "array([ 3., nan,  4.,  1.])"
      ]
     },
     "execution_count": 5,
     "metadata": {},
     "output_type": "execute_result"
    }
   ],
   "source": [
    "ind = bmx['BMIWT'] > 4\n",
    "bmx.loc[ind, 'BMIWT'] = np.nan\n",
    "bmx['BMIWT'].unique()"
   ]
  },
  {
   "cell_type": "markdown",
   "metadata": {},
   "source": [
    "Extreme Data\n",
    "---\n",
    "\n",
    "Heaviest human weight on record: 635 kg"
   ]
  },
  {
   "cell_type": "code",
   "execution_count": 6,
   "metadata": {},
   "outputs": [
    {
     "data": {
      "text/plain": [
       "count     9179.000000\n",
       "mean        67.606840\n",
       "std        282.452412\n",
       "min          3.100000\n",
       "25%         39.200000\n",
       "50%         63.000000\n",
       "75%         79.750000\n",
       "max      12870.000000\n",
       "Name: BMXWT, dtype: float64"
      ]
     },
     "execution_count": 6,
     "metadata": {},
     "output_type": "execute_result"
    }
   ],
   "source": [
    "bmx['BMXWT'].describe()"
   ]
  },
  {
   "cell_type": "code",
   "execution_count": 7,
   "metadata": {},
   "outputs": [
    {
     "data": {
      "text/plain": [
       "count    9170.000000\n",
       "mean       59.957381\n",
       "std        29.842889\n",
       "min         3.100000\n",
       "25%        39.200000\n",
       "50%        62.970000\n",
       "75%        79.600000\n",
       "max       193.300000\n",
       "Name: BMXWT, dtype: float64"
      ]
     },
     "execution_count": 7,
     "metadata": {},
     "output_type": "execute_result"
    }
   ],
   "source": [
    "ind = bmx['BMXWT'] > 635\n",
    "bmx.loc[ind,'BMXWT'] = np.nan\n",
    "bmx['BMXWT'].describe()"
   ]
  },
  {
   "cell_type": "code",
   "execution_count": 8,
   "metadata": {},
   "outputs": [
    {
     "name": "stdout",
     "output_type": "stream",
     "text": [
      "Max weight z-score: 4.468397485658741\n",
      "Min weight z-score: -1.9053276258294776\n"
     ]
    }
   ],
   "source": [
    "mean_wt = np.nanmean(bmx['BMXWT'])\n",
    "std_wt = np.nanstd(bmx['BMXWT'])\n",
    "\n",
    "min_wt = np.nanmin(bmx['BMXWT'])\n",
    "max_wt = np.nanmax(bmx['BMXWT'])\n",
    "\n",
    "low_wt_zscore = (min_wt - mean_wt)/std_wt\n",
    "high_wt_zscore = (max_wt - mean_wt)/std_wt\n",
    "\n",
    "print('Max weight z-score: ' + str(high_wt_zscore))\n",
    "print('Min weight z-score: ' + str(low_wt_zscore))"
   ]
  },
  {
   "cell_type": "markdown",
   "metadata": {},
   "source": [
    "Saturated Data\n",
    "---\n",
    "\n",
    "Survey instructions: list ages 85 and above as 85"
   ]
  },
  {
   "cell_type": "code",
   "execution_count": 9,
   "metadata": {},
   "outputs": [
    {
     "data": {
      "text/plain": [
       "109.0"
      ]
     },
     "execution_count": 9,
     "metadata": {},
     "output_type": "execute_result"
    }
   ],
   "source": [
    "np.nanmax(demo['RIDAGEYR'])"
   ]
  },
  {
   "cell_type": "code",
   "execution_count": 10,
   "metadata": {},
   "outputs": [],
   "source": [
    "ind = demo['RIDAGEYR'] > 85\n",
    "demo.loc[ind,'RIDAGEYR'] = 85"
   ]
  },
  {
   "cell_type": "markdown",
   "metadata": {},
   "source": [
    "Individual Practice\n",
    "---\n",
    "\n",
    "1. Find and remove any non-sensible categorical values in the occupation file\n",
    "    * Check OCQ130, OCQ140, OCQ150, OCQ160\n",
    "2. Find the z-score of the maximum and minimum values in the occupation column OCQ180 - Hours worked last week at all jobs ([see codebook for more information](https://wwwn.cdc.gov/Nchs/Nhanes/1999-2000/OCQ.htm#OCQ180))\n",
    "    * Exclude values 7777 and 9999\n"
   ]
  },
  {
   "cell_type": "code",
   "execution_count": 31,
   "metadata": {},
   "outputs": [
    {
     "data": {
      "text/plain": [
       "array([nan,  7.,  3.,  2.,  1.,  4.,  6.,  5., 38., 99., 21., 54., 68.,\n",
       "       29., 17., 58., 69., 48., 14., 34., 42.])"
      ]
     },
     "execution_count": 31,
     "metadata": {},
     "output_type": "execute_result"
    }
   ],
   "source": [
    "len(ocq.columns)\n",
    "ocq['OCQ130'].unique()"
   ]
  },
  {
   "cell_type": "code",
   "execution_count": null,
   "metadata": {},
   "outputs": [],
   "source": [
    "ind = ocq['OCQ130'].isin([1,2,3,4,5,6,7,77,99])\n",
    "ocq.loc[~ind,'OCQ130'] = np.nan"
   ]
  },
  {
   "cell_type": "code",
   "execution_count": 29,
   "metadata": {},
   "outputs": [
    {
     "data": {
      "text/plain": [
       "array([nan,  7.,  3.,  2.,  1.,  4.,  6.,  5., 99.])"
      ]
     },
     "execution_count": 29,
     "metadata": {},
     "output_type": "execute_result"
    }
   ],
   "source": [
    "ocq['OCQ130'].unique()\n"
   ]
  },
  {
   "cell_type": "code",
   "execution_count": 36,
   "metadata": {},
   "outputs": [
    {
     "data": {
      "text/plain": [
       "array([ 2.,  1.,  4., nan,  3., 66., 99., 44.,  7.,  9., 11.,  8., 33.,\n",
       "       77.])"
      ]
     },
     "execution_count": 36,
     "metadata": {},
     "output_type": "execute_result"
    }
   ],
   "source": [
    "ocq['OCQ150'].unique()"
   ]
  },
  {
   "cell_type": "code",
   "execution_count": 37,
   "metadata": {},
   "outputs": [],
   "source": [
    "ind= ocq['OCQ150'].isin([1,2,3,4,7,9])"
   ]
  },
  {
   "cell_type": "code",
   "execution_count": 39,
   "metadata": {},
   "outputs": [],
   "source": [
    "ocq.loc[~ind,'OCQ150']=np.nan"
   ]
  },
  {
   "cell_type": "code",
   "execution_count": 40,
   "metadata": {},
   "outputs": [
    {
     "data": {
      "text/plain": [
       "array([ 2.,  1.,  4., nan,  3.,  7.,  9.])"
      ]
     },
     "execution_count": 40,
     "metadata": {},
     "output_type": "execute_result"
    }
   ],
   "source": [
    "ocq['OCQ150'].unique()"
   ]
  },
  {
   "cell_type": "code",
   "execution_count": 41,
   "metadata": {},
   "outputs": [
    {
     "data": {
      "text/plain": [
       "count     3193.000000\n",
       "mean        70.381459\n",
       "std       1769.058543\n",
       "min          1.000000\n",
       "25%         30.000000\n",
       "50%         40.000000\n",
       "75%         46.000000\n",
       "max      99999.000000\n",
       "Name: OCQ180, dtype: float64"
      ]
     },
     "execution_count": 41,
     "metadata": {},
     "output_type": "execute_result"
    }
   ],
   "source": [
    "ocq['OCQ180'].describe()"
   ]
  },
  {
   "cell_type": "code",
   "execution_count": 53,
   "metadata": {},
   "outputs": [],
   "source": [
    "ind = ocq['OCQ180']>1000\n",
    "ocq180= ocq.loc[~ind,['OCQ180']]"
   ]
  },
  {
   "cell_type": "code",
   "execution_count": 51,
   "metadata": {},
   "outputs": [],
   "source": [
    "omax = np.nanmax(ocq180)\n",
    "omin = np.nanmean(ocq180)\n",
    "omean = np.nanmean(ocq180)\n",
    "ostd = np.nanstd(ocq180)"
   ]
  },
  {
   "cell_type": "code",
   "execution_count": 54,
   "metadata": {},
   "outputs": [
    {
     "data": {
      "text/plain": [
       "4.3764058992483355"
      ]
     },
     "execution_count": 54,
     "metadata": {},
     "output_type": "execute_result"
    }
   ],
   "source": [
    "(omax-omean)/ostd"
   ]
  },
  {
   "cell_type": "markdown",
   "metadata": {},
   "source": [
    "Save The Data\n",
    "---"
   ]
  },
  {
   "cell_type": "code",
   "execution_count": 25,
   "metadata": {},
   "outputs": [
    {
     "data": {
      "text/plain": [
       "1316"
      ]
     },
     "execution_count": 25,
     "metadata": {},
     "output_type": "execute_result"
    }
   ],
   "source": []
  },
  {
   "cell_type": "code",
   "execution_count": 12,
   "metadata": {},
   "outputs": [],
   "source": [
    "# demo.to_csv('Demographics.csv', index=False)\n",
    "# bmx.to_csv('BodyMeasures.csv', index=False)\n",
    "# ocq.to_csv('Occupation.csv', index=False)"
   ]
  }
 ],
 "metadata": {
  "kernelspec": {
   "display_name": "Python 3",
   "language": "python",
   "name": "python3"
  },
  "language_info": {
   "codemirror_mode": {
    "name": "ipython",
    "version": 3
   },
   "file_extension": ".py",
   "mimetype": "text/x-python",
   "name": "python",
   "nbconvert_exporter": "python",
   "pygments_lexer": "ipython3",
   "version": "3.7.3"
  }
 },
 "nbformat": 4,
 "nbformat_minor": 2
}

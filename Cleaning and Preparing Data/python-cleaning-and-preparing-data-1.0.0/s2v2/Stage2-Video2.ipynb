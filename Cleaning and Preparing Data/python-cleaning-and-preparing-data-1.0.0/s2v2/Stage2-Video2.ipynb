{
 "cells": [
  {
   "cell_type": "markdown",
   "metadata": {},
   "source": [
    "Import the pandas library and load in the data file\n",
    "---"
   ]
  },
  {
   "cell_type": "code",
   "execution_count": 1,
   "metadata": {},
   "outputs": [],
   "source": [
    "import pandas as pd\n",
    "\n",
    "demo = pd.read_csv('Demographics.csv')"
   ]
  },
  {
   "cell_type": "markdown",
   "metadata": {},
   "source": [
    "Replace strings with numerical code\n",
    "---"
   ]
  },
  {
   "cell_type": "code",
   "execution_count": 2,
   "metadata": {},
   "outputs": [
    {
     "name": "stdout",
     "output_type": "stream",
     "text": [
      "[nan 'Y' 1 '  No' ' No' 'N' 2 'No  ' ' Y' 'N ' 'Yes ' '  N' 'No ' 'N  '\n",
      " ' Yes' 'Y ' ' N' '  N ' 'Y  ' '  Yes' '  No  ' 'Yes  ' 9 '  Y' ' N  '\n",
      " ' No ' ' No  ' '  N  ' 7 '  No ' '  Yes  ' \"Don't know \" ' Yes ' ' N '\n",
      " '  Yes ' ' Yes  ' 'Refused ' \" Don't know\"]\n",
      "[1 2 '  Citizen by birth or naturalization'\n",
      " ' Citizen by birth or naturalization'\n",
      " 'Citizen by birth or naturalization '\n",
      " 'Citizen by birth or naturalization  ' ' Not a citizen of the US'\n",
      " 'Not a citizen of the US ' 'Not a citizen of the US  ' 7 \" Don't know\"\n",
      " '  Not a citizen of the US' '  Citizen by birth or naturalization '\n",
      " ' Citizen by birth or naturalization  '\n",
      " ' Citizen by birth or naturalization ' 'Unknown' 9 ' Dont know'\n",
      " ' Not a citizen of the US ' '  Citizen by birth or naturalization  '\n",
      " ' Not a citizen of the US  ' nan '  Refused' 'Unknown  '\n",
      " '  Not a citizen of the US ' 'Dont know' ' Refused' \"  Don't know \"\n",
      " \"Don't Know\" \"  Don't know\" \"Don't know  \"]\n"
     ]
    }
   ],
   "source": [
    "replace_dict = {'DMQMILIT': {\n",
    "                              'Yes':1, \n",
    "                              'No':2,\n",
    "                              'Refused':7,\n",
    "                              \"Don't know\":9\n",
    "                            },\n",
    "                'DMDCITZN': {\n",
    "                              'Citizen by birth or naturalization':1, \n",
    "                              'Not a citizen of the US':2,\n",
    "                              'Refused':7,\n",
    "                              \"Don't know\":9\n",
    "                            }\n",
    "               }\n",
    "\n",
    "demo.replace(replace_dict, inplace=True)\n",
    "\n",
    "print(demo['DMQMILIT'].unique())\n",
    "print(demo['DMDCITZN'].unique())"
   ]
  },
  {
   "cell_type": "markdown",
   "metadata": {},
   "source": [
    "Replace column names with human-readable strings\n",
    "---"
   ]
  },
  {
   "cell_type": "code",
   "execution_count": 3,
   "metadata": {},
   "outputs": [
    {
     "data": {
      "text/plain": [
       "Index(['Veteran/Military Status', 'DMDBORN', 'Citizenship Status', 'DMDYRSUS',\n",
       "       'DMDEDUC3'],\n",
       "      dtype='object')"
      ]
     },
     "execution_count": 3,
     "metadata": {},
     "output_type": "execute_result"
    }
   ],
   "source": [
    "column_dict = {\n",
    "    'DMQMILIT':'Veteran/Military Status',\n",
    "    'DMDCITZN':'Citizenship Status'}\n",
    "\n",
    "\n",
    "demo.rename(columns=column_dict, inplace=True)\n",
    "\n",
    "demo.columns[10:15]"
   ]
  },
  {
   "cell_type": "markdown",
   "metadata": {},
   "source": [
    "View new column types\n",
    "---"
   ]
  },
  {
   "cell_type": "code",
   "execution_count": 4,
   "metadata": {},
   "outputs": [
    {
     "data": {
      "text/plain": [
       "Veteran/Military Status    object\n",
       "Citizenship Status         object\n",
       "dtype: object"
      ]
     },
     "execution_count": 4,
     "metadata": {},
     "output_type": "execute_result"
    }
   ],
   "source": [
    "demo.loc[:,['Veteran/Military Status', 'Citizenship Status']].dtypes"
   ]
  },
  {
   "cell_type": "markdown",
   "metadata": {},
   "source": [
    "Individual Practice\n",
    "---\n",
    "\n",
    "1. Convert the columns with string entries to the numeric codes listed in the demographics codebook. \n",
    "2. Return all column names to the original ones used in the codebook."
   ]
  },
  {
   "cell_type": "code",
   "execution_count": 9,
   "metadata": {},
   "outputs": [
    {
     "data": {
      "text/plain": [
       "Series([], dtype: object)"
      ]
     },
     "execution_count": 9,
     "metadata": {},
     "output_type": "execute_result"
    }
   ],
   "source": [
    "demo.dtypes[demo.dtypes == 'string']"
   ]
  },
  {
   "cell_type": "code",
   "execution_count": 8,
   "metadata": {},
   "outputs": [
    {
     "data": {
      "text/plain": [
       "SEQN                         int64\n",
       "SDDSRVYR                   float64\n",
       "RIDSTATR                    object\n",
       "RIDEXMON                   float64\n",
       "RIAGENDR                    object\n",
       "RIDAGEYR                   float64\n",
       "RIDAGEMN                   float64\n",
       "RIDAGEEX                   float64\n",
       "RIDRETH1                    object\n",
       "RIDRETH2                   float64\n",
       "Veteran/Military Status     object\n",
       "DMDBORN                     object\n",
       "Citizenship Status          object\n",
       "DMDYRSUS                    object\n",
       "DMDEDUC3                    object\n",
       "DMDEDUC2                    object\n",
       "DMDEDUC                    float64\n",
       "DMDSCHOL                    object\n",
       "DMDMARTL                    object\n",
       "DMDHHSIZ                   float64\n",
       "INDHHINC                   float64\n",
       "INDFMINC                   float64\n",
       "INDFMPIR                   float64\n",
       "RIDEXPRG                   float64\n",
       "RIDPREG                    float64\n",
       "DMDHRGND                   float64\n",
       "DMDHRAGE                   float64\n",
       "DMDHRBRN                   float64\n",
       "DMDHREDU                   float64\n",
       "DMDHRMAR                   float64\n",
       "                            ...   \n",
       "WTIREP23                   float64\n",
       "WTIREP24                   float64\n",
       "WTIREP25                   float64\n",
       "WTIREP26                   float64\n",
       "WTIREP27                   float64\n",
       "WTIREP28                   float64\n",
       "WTIREP29                   float64\n",
       "WTIREP30                   float64\n",
       "WTIREP31                   float64\n",
       "WTIREP32                   float64\n",
       "WTIREP33                   float64\n",
       "WTIREP34                   float64\n",
       "WTIREP35                   float64\n",
       "WTIREP36                   float64\n",
       "WTIREP37                   float64\n",
       "WTIREP38                   float64\n",
       "WTIREP39                   float64\n",
       "WTIREP40                   float64\n",
       "WTIREP41                   float64\n",
       "WTIREP42                   float64\n",
       "WTIREP43                   float64\n",
       "WTIREP44                   float64\n",
       "WTIREP45                   float64\n",
       "WTIREP46                   float64\n",
       "WTIREP47                   float64\n",
       "WTIREP48                   float64\n",
       "WTIREP49                   float64\n",
       "WTIREP50                   float64\n",
       "WTIREP51                   float64\n",
       "WTIREP52                   float64\n",
       "Length: 144, dtype: object"
      ]
     },
     "execution_count": 8,
     "metadata": {},
     "output_type": "execute_result"
    }
   ],
   "source": [
    "demo.dtypes"
   ]
  },
  {
   "cell_type": "markdown",
   "metadata": {},
   "source": [
    "Save data files\n",
    "---"
   ]
  },
  {
   "cell_type": "code",
   "execution_count": 6,
   "metadata": {},
   "outputs": [],
   "source": [
    "# demo.to_csv('Demographics.csv', index=False)"
   ]
  }
 ],
 "metadata": {
  "kernelspec": {
   "display_name": "Python 3",
   "language": "python",
   "name": "python3"
  },
  "language_info": {
   "codemirror_mode": {
    "name": "ipython",
    "version": 3
   },
   "file_extension": ".py",
   "mimetype": "text/x-python",
   "name": "python",
   "nbconvert_exporter": "python",
   "pygments_lexer": "ipython3",
   "version": "3.7.3"
  }
 },
 "nbformat": 4,
 "nbformat_minor": 2
}

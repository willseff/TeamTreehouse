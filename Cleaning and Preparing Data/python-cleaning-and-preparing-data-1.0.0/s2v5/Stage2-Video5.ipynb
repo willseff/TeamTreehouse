{
 "cells": [
  {
   "cell_type": "markdown",
   "metadata": {},
   "source": [
    "Import the Pandas and Numpy libraries and load in the data file\n",
    "---"
   ]
  },
  {
   "cell_type": "code",
   "execution_count": null,
   "metadata": {},
   "outputs": [],
   "source": [
    "import pandas as pd\n",
    "import numpy as np\n",
    "\n",
    "demo = pd.read_csv('Demographics.csv')\n",
    "bmx = pd.read_csv('BodyMeasures.csv')\n",
    "ocq = pd.read_csv('Occupation.csv')"
   ]
  },
  {
   "cell_type": "markdown",
   "metadata": {},
   "source": [
    "Duplicate Rows\n",
    "---"
   ]
  },
  {
   "cell_type": "code",
   "execution_count": null,
   "metadata": {},
   "outputs": [],
   "source": [
    "demo.sort_values('SEQN', inplace=True)\n",
    "ind = demo['SEQN'].duplicated(keep=False)\n",
    "\n",
    "print('Duplicate rows: %i' % len(demo.loc[ind,:]))\n",
    "demo.loc[ind,:].head()"
   ]
  },
  {
   "cell_type": "code",
   "execution_count": null,
   "metadata": {},
   "outputs": [],
   "source": [
    "demo.drop_duplicates(inplace=True)\n",
    "\n",
    "ind = demo['SEQN'].duplicated(keep=False)\n",
    "\n",
    "print('Duplicate rows: ' + str(len(demo.loc[ind,:])))\n",
    "demo.loc[ind,:].head()"
   ]
  },
  {
   "cell_type": "code",
   "execution_count": null,
   "metadata": {},
   "outputs": [],
   "source": [
    "import itertools\n",
    "\n",
    "dup_id = demo.loc[ind,'SEQN'].unique()\n",
    "\n",
    "for id in dup_id:\n",
    "    dup_rows = np.where(demo['SEQN'] == id)[0]\n",
    "    for (row1, row2) in itertools.product(dup_rows, repeat=2):\n",
    "        demo.iloc[row1,:] = demo.iloc[row1,:].fillna(demo.iloc[row2,:], axis=0)  "
   ]
  },
  {
   "cell_type": "code",
   "execution_count": null,
   "metadata": {},
   "outputs": [],
   "source": [
    "demo.drop_duplicates(inplace=True)\n",
    "\n",
    "ind = demo['SEQN'].duplicated(keep=False)\n",
    "\n",
    "print('Duplicate rows: %i' % len(demo.loc[ind,:]))\n",
    "demo.loc[ind,:].head()"
   ]
  },
  {
   "cell_type": "code",
   "execution_count": null,
   "metadata": {},
   "outputs": [],
   "source": [
    "ind = demo['SEQN'].duplicated(keep=False)\n",
    "\n",
    "demo = demo.loc[~ind,:]\n",
    "\n",
    "ind = demo['SEQN'].duplicated(keep=False)\n",
    "print('Duplicate rows: %i' % len(demo.loc[ind,:]))\n",
    "demo.loc[ind,:].head()"
   ]
  },
  {
   "cell_type": "markdown",
   "metadata": {},
   "source": [
    "Duplicate Columns\n",
    "---"
   ]
  },
  {
   "cell_type": "code",
   "execution_count": null,
   "metadata": {},
   "outputs": [],
   "source": [
    "set(demo.columns).intersection(bmx.columns)"
   ]
  },
  {
   "cell_type": "code",
   "execution_count": null,
   "metadata": {},
   "outputs": [],
   "source": [
    "bmx.drop('RIDAGEYR', 1, inplace=True)\n",
    "\n",
    "set(demo.columns).intersection(bmx.columns)"
   ]
  },
  {
   "cell_type": "code",
   "execution_count": null,
   "metadata": {},
   "outputs": [],
   "source": [
    "dataset = pd.merge(demo, bmx, on='SEQN', how='inner')"
   ]
  },
  {
   "cell_type": "markdown",
   "metadata": {},
   "source": [
    "Individual Practice\n",
    "---\n",
    "\n",
    "1. Find the column with the highest percentage of missing information in demographics\n",
    "2. Remove confidential pregnancy status for minors (rows 'RIDEXPRG' and 'RIDPREG')\n",
    "3. Fix or remove duplicate rows in the occupation file (ocq DataFrame)\n",
    "4. Check for duplicate columns between ocq and demo\n",
    "5. Merge all 3 files into a single dataset\n"
   ]
  },
  {
   "cell_type": "code",
   "execution_count": null,
   "metadata": {},
   "outputs": [],
   "source": [
    "# Put your code here"
   ]
  },
  {
   "cell_type": "markdown",
   "metadata": {},
   "source": [
    "Save Data Files\n",
    "---"
   ]
  },
  {
   "cell_type": "code",
   "execution_count": null,
   "metadata": {},
   "outputs": [],
   "source": [
    "# demo.to_csv('Demographics.csv', index=False)\n",
    "# bmx.to_csv('BodyMeasures.csv', index=False)\n",
    "# ocq.to_csv('Occupation.csv', index=False)\n",
    "# dataset.to_csv('MyDataset.csv', index=False)"
   ]
  }
 ],
 "metadata": {
  "kernelspec": {
   "display_name": "Python 3",
   "language": "python",
   "name": "python3"
  },
  "language_info": {
   "codemirror_mode": {
    "name": "ipython",
    "version": 3
   },
   "file_extension": ".py",
   "mimetype": "text/x-python",
   "name": "python",
   "nbconvert_exporter": "python",
   "pygments_lexer": "ipython3",
   "version": "3.7.1"
  }
 },
 "nbformat": 4,
 "nbformat_minor": 2
}

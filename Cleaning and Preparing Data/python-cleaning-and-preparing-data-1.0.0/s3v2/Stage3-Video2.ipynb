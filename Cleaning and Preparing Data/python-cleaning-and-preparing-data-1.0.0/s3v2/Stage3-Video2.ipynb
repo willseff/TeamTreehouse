{
 "cells": [
  {
   "cell_type": "markdown",
   "metadata": {},
   "source": [
    "Import the Pandas and Numpy libraries and load in the data file\n",
    "---"
   ]
  },
  {
   "cell_type": "code",
   "execution_count": null,
   "metadata": {},
   "outputs": [],
   "source": [
    "import pandas as pd\n",
    "import numpy as np\n",
    "\n",
    "demo = pd.read_csv('Demographics.csv')"
   ]
  },
  {
   "cell_type": "markdown",
   "metadata": {
    "slideshow": {
     "slide_type": "notes"
    }
   },
   "source": [
    "Merge the two education columns\n",
    "---\n",
    "\n",
    "New Education Coding:\n",
    "\n",
    "| Code | Meaning |\n",
    "|---|---|\n",
    "| 1 | Less Than High School |\n",
    "| 2 | High School Diploma (including GED) |\n",
    "| 3 | More Than High School |\n",
    "| 7 | Refused |\n",
    "| 9 | Don't know |"
   ]
  },
  {
   "cell_type": "code",
   "execution_count": null,
   "metadata": {
    "slideshow": {
     "slide_type": "-"
    }
   },
   "outputs": [],
   "source": [
    "demo.loc[:,'EDUCATION'] = np.nan\n",
    "\n",
    "index = (demo['DMDEDUC3'] < 13) | (demo['DMDEDUC3'] == 55) | (demo['DMDEDUC3'] == 66)\n",
    "demo.loc[index, 'EDUCATION'] = 1\n",
    "\n",
    "index = (demo['DMDEDUC3'] == 13) | (demo['DMDEDUC3'] == 14) \n",
    "demo.loc[index, 'EDUCATION'] = 2\n",
    "\n",
    "index = (demo['DMDEDUC3'] == 15)\n",
    "demo.loc[index, 'EDUCATION'] = 3\n",
    "\n",
    "index = (demo['DMDEDUC3'] == 77)\n",
    "demo.loc[index, 'EDUCATION'] = 7\n",
    "\n",
    "index = (demo['DMDEDUC3'] == 99)\n",
    "demo.loc[index, 'EDUCATION'] = 9"
   ]
  },
  {
   "cell_type": "code",
   "execution_count": null,
   "metadata": {
    "collapsed": true
   },
   "outputs": [],
   "source": [
    "index = (demo['DMDEDUC2'] <= 2)\n",
    "demo.loc[index, 'EDUCATION'] = 1\n",
    "\n",
    "index = (demo['DMDEDUC2'] == 3)\n",
    "demo.loc[index, 'EDUCATION'] = 2\n",
    "\n",
    "index = (demo['DMDEDUC2'] == 4) | (demo['DMDEDUC2'] == 5)\n",
    "demo.loc[index, 'EDUCATION'] = 3\n",
    "\n",
    "index = (demo['DMDEDUC2'] == 7)\n",
    "demo.loc[index, 'EDUCATION'] = 7\n",
    "\n",
    "index = (demo['DMDEDUC2'] == 9)\n",
    "demo.loc[index, 'EDUCATION'] = 9"
   ]
  },
  {
   "cell_type": "code",
   "execution_count": null,
   "metadata": {},
   "outputs": [],
   "source": [
    "demo.drop('DMDEDUC2', axis=1, inplace=True)\n",
    "demo.drop('DMDEDUC3', axis=1, inplace=True)\n",
    "\n",
    "demo.describe()"
   ]
  },
  {
   "cell_type": "markdown",
   "metadata": {},
   "source": [
    "Save The Data\n",
    "---"
   ]
  },
  {
   "cell_type": "code",
   "execution_count": null,
   "metadata": {
    "collapsed": true
   },
   "outputs": [],
   "source": [
    "# demo.to_csv('Demographics.csv', index=False)"
   ]
  },
  {
   "cell_type": "code",
   "execution_count": null,
   "metadata": {
    "collapsed": true
   },
   "outputs": [],
   "source": []
  }
 ],
 "metadata": {
  "kernelspec": {
   "display_name": "Python 3",
   "language": "python",
   "name": "python3"
  },
  "language_info": {
   "codemirror_mode": {
    "name": "ipython",
    "version": 3
   },
   "file_extension": ".py",
   "mimetype": "text/x-python",
   "name": "python",
   "nbconvert_exporter": "python",
   "pygments_lexer": "ipython3",
   "version": "3.7.1"
  }
 },
 "nbformat": 4,
 "nbformat_minor": 2
}

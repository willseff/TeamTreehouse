{
 "cells": [
  {
   "cell_type": "markdown",
   "metadata": {},
   "source": [
    "Import the Pandas and Numpy libraries and load in the data file\n",
    "---"
   ]
  },
  {
   "cell_type": "code",
   "execution_count": null,
   "metadata": {},
   "outputs": [],
   "source": [
    "import pandas as pd\n",
    "import numpy as np\n",
    "\n",
    "demo = pd.read_csv('Demographics.csv')\n",
    "bmx = pd.read_csv('BodyMeasures.csv')\n",
    "ocq = pd.read_csv('Occupation.csv')"
   ]
  },
  {
   "cell_type": "markdown",
   "metadata": {},
   "source": [
    "Check DataFrame Size\n",
    "---"
   ]
  },
  {
   "cell_type": "code",
   "execution_count": null,
   "metadata": {},
   "outputs": [],
   "source": [
    "np.testing.assert_array_equal(demo.shape, (9761,144))\n",
    "np.testing.assert_array_equal(bmx.shape, (9278, 38))\n",
    "np.testing.assert_array_equal(ocq.shape, (7212, 36))"
   ]
  },
  {
   "cell_type": "code",
   "execution_count": null,
   "metadata": {},
   "outputs": [],
   "source": [
    "np.testing.assert_array_equal(demo.shape, (9761,145))"
   ]
  },
  {
   "cell_type": "code",
   "execution_count": null,
   "metadata": {},
   "outputs": [],
   "source": [
    "dataset = pd.merge(demo, bmx, on='SEQN', how='inner')\n",
    "dataset = pd.merge(dataset, ocq, on='SEQN', how='inner')\n",
    "\n",
    "total_cols = demo.shape[1] + bmx.shape[1] + ocq.shape[1] - 2 \n",
    "\n",
    "np.testing.assert_equal(dataset.shape[1], total_cols)\n",
    "\n",
    "np.testing.assert_array_less(dataset.shape[0], demo.shape[0])"
   ]
  },
  {
   "cell_type": "markdown",
   "metadata": {},
   "source": [
    "Remove excess whitespace\n",
    "---"
   ]
  },
  {
   "cell_type": "code",
   "execution_count": null,
   "metadata": {},
   "outputs": [],
   "source": [
    "for col in demo.columns:\n",
    "    try:\n",
    "        demo.loc[:,col] = demo.loc[:,col].str.strip()\n",
    "    except AttributeError:\n",
    "        pass"
   ]
  },
  {
   "cell_type": "markdown",
   "metadata": {},
   "source": [
    "Check Data Values\n",
    "---"
   ]
  },
  {
   "cell_type": "code",
   "execution_count": null,
   "metadata": {},
   "outputs": [],
   "source": [
    "valid_codes = {'DMDBORN':[1,2,3,7,9],\n",
    "           'DMDCITZN': [1,2,7,9]}\n",
    "\n",
    "for col in valid_codes.keys():\n",
    "    goodInd = demo[col].isin(valid_codes[col])\n",
    "    demo.loc[~goodInd, col] = np.nan\n"
   ]
  },
  {
   "cell_type": "code",
   "execution_count": null,
   "metadata": {},
   "outputs": [],
   "source": [
    "valid_range = {'BMXWT':[0,635],\n",
    "           'BMIHT': [81.8, 201.3]}\n",
    "\n",
    "for col in valid_range.keys():\n",
    "    goodInd = (bmx[col] >= valid_range[col][0]) & (bmx[col] <= valid_range[col][1])\n",
    "    bmx.loc[~goodInd, col] = np.nan"
   ]
  },
  {
   "cell_type": "markdown",
   "metadata": {},
   "source": [
    "Check amount of missing data\n",
    "---"
   ]
  },
  {
   "cell_type": "code",
   "execution_count": null,
   "metadata": {},
   "outputs": [],
   "source": [
    "max_missing_perc = 30\n",
    "\n",
    "valid_entries = demo.count()\n",
    "total_rows = len(demo.index)\n",
    "missing_percentage = (total_rows - valid_entries) / total_rows * 100\n",
    "\n",
    "missing_bool = missing_percentage > max_missing_perc\n",
    "print(demo.columns[missing_bool])"
   ]
  }
 ],
 "metadata": {
  "kernelspec": {
   "display_name": "Python 3",
   "language": "python",
   "name": "python3"
  },
  "language_info": {
   "codemirror_mode": {
    "name": "ipython",
    "version": 3
   },
   "file_extension": ".py",
   "mimetype": "text/x-python",
   "name": "python",
   "nbconvert_exporter": "python",
   "pygments_lexer": "ipython3",
   "version": "3.7.1"
  }
 },
 "nbformat": 4,
 "nbformat_minor": 2
}

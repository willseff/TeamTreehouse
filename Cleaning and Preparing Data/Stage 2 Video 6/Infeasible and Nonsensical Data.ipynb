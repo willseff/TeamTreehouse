{
 "cells": [
  {
   "cell_type": "code",
   "execution_count": 1,
   "metadata": {},
   "outputs": [],
   "source": [
    "import numpy as np\n",
    "import pandas as pd"
   ]
  },
  {
   "cell_type": "code",
   "execution_count": 3,
   "metadata": {},
   "outputs": [],
   "source": [
    "demo = pd.read_csv('Demographics.csv')\n",
    "bmx = pd.read_csv('BodyMeasures.csv')\n",
    "ocq = pd.read_csv('Occupation.csv')"
   ]
  },
  {
   "cell_type": "code",
   "execution_count": 4,
   "metadata": {},
   "outputs": [
    {
     "data": {
      "text/plain": [
       "count     9185.000000\n",
       "mean        67.506522\n",
       "std        282.389202\n",
       "min       -149.000000\n",
       "25%         39.100000\n",
       "50%         63.000000\n",
       "75%         79.700000\n",
       "max      12870.000000\n",
       "Name: BMXWT, dtype: float64"
      ]
     },
     "execution_count": 4,
     "metadata": {},
     "output_type": "execute_result"
    }
   ],
   "source": [
    "# looking for negative weights\n",
    "bmx['BMXWT'].describe()"
   ]
  },
  {
   "cell_type": "code",
   "execution_count": 5,
   "metadata": {},
   "outputs": [],
   "source": [
    "ind = bmx['BMXWT']<0"
   ]
  },
  {
   "cell_type": "code",
   "execution_count": 10,
   "metadata": {},
   "outputs": [
    {
     "data": {
      "text/plain": [
       "count     9179.000000\n",
       "mean        67.606840\n",
       "std        282.452412\n",
       "min          3.100000\n",
       "25%         39.200000\n",
       "50%         63.000000\n",
       "75%         79.750000\n",
       "max      12870.000000\n",
       "Name: BMXWT, dtype: float64"
      ]
     },
     "execution_count": 10,
     "metadata": {},
     "output_type": "execute_result"
    }
   ],
   "source": [
    "bmx.loc[ind,'BMXWT'] = np.nan\n",
    "bmx['BMXWT'].describe()"
   ]
  },
  {
   "cell_type": "code",
   "execution_count": 11,
   "metadata": {},
   "outputs": [
    {
     "data": {
      "text/plain": [
       "array([ 3., nan,  4.,  1., 11.,  7.])"
      ]
     },
     "execution_count": 11,
     "metadata": {},
     "output_type": "execute_result"
    }
   ],
   "source": [
    "bmx['BMIWT'].unique()"
   ]
  },
  {
   "cell_type": "code",
   "execution_count": 14,
   "metadata": {},
   "outputs": [
    {
     "data": {
      "text/plain": [
       "array([ 3., nan,  4.,  1.])"
      ]
     },
     "execution_count": 14,
     "metadata": {},
     "output_type": "execute_result"
    }
   ],
   "source": [
    "ind = bmx['BMIWT']>4\n",
    "bmx.loc[ind,'BMIWT'] = np.nan\n",
    "bmx['BMIWT'].unique()"
   ]
  },
  {
   "cell_type": "code",
   "execution_count": 15,
   "metadata": {},
   "outputs": [
    {
     "data": {
      "text/plain": [
       "count     9179.000000\n",
       "mean        67.606840\n",
       "std        282.452412\n",
       "min          3.100000\n",
       "25%         39.200000\n",
       "50%         63.000000\n",
       "75%         79.750000\n",
       "max      12870.000000\n",
       "Name: BMXWT, dtype: float64"
      ]
     },
     "execution_count": 15,
     "metadata": {},
     "output_type": "execute_result"
    }
   ],
   "source": [
    "bmx['BMXWT'].describe()"
   ]
  },
  {
   "cell_type": "code",
   "execution_count": 17,
   "metadata": {},
   "outputs": [
    {
     "data": {
      "text/plain": [
       "count    9170.000000\n",
       "mean       59.957381\n",
       "std        29.842889\n",
       "min         3.100000\n",
       "25%        39.200000\n",
       "50%        62.970000\n",
       "75%        79.600000\n",
       "max       193.300000\n",
       "Name: BMXWT, dtype: float64"
      ]
     },
     "execution_count": 17,
     "metadata": {},
     "output_type": "execute_result"
    }
   ],
   "source": [
    "ind = bmx['BMXWT']>635\n",
    "bmx.loc[ind,'BMXWT'] = np.nan\n",
    "bmx['BMXWT'].describe()"
   ]
  },
  {
   "cell_type": "code",
   "execution_count": 33,
   "metadata": {},
   "outputs": [
    {
     "data": {
      "text/plain": [
       "59.95738058887677"
      ]
     },
     "execution_count": 33,
     "metadata": {},
     "output_type": "execute_result"
    }
   ],
   "source": [
    "mean_wt = np.nanmean(bmx['BMXWT'])\n",
    "std_wt = np.nanstd(bmx['BMXWT'])"
   ]
  },
  {
   "cell_type": "code",
   "execution_count": 32,
   "metadata": {},
   "outputs": [
    {
     "data": {
      "text/plain": [
       "3.1"
      ]
     },
     "execution_count": 32,
     "metadata": {},
     "output_type": "execute_result"
    }
   ],
   "source": [
    "min_wt = np.nanmin(bmx['BMXWT'])\n",
    "max_wt = np.nanmax(bmx['BMXWT'])"
   ]
  },
  {
   "cell_type": "code",
   "execution_count": 31,
   "metadata": {},
   "outputs": [
    {
     "name": "stdout",
     "output_type": "stream",
     "text": [
      "1.9053276258294776 4.468397485658741\n"
     ]
    }
   ],
   "source": [
    "low_wt_zscore = abs(min_wt-mean_wt)/std_wt\n",
    "high_wt_zscore = abs(max_wt-mean_wt)/std_wt\n",
    "print(low_wt_zscore ,high_wt_zscore)"
   ]
  },
  {
   "cell_type": "code",
   "execution_count": 27,
   "metadata": {},
   "outputs": [
    {
     "name": "stdout",
     "output_type": "stream",
     "text": [
      "max weight z-score 4\n",
      "min weight z-score 1\n"
     ]
    }
   ],
   "source": [
    "print('max weight z-score %d'%high_wt_zscore)\n",
    "print('min weight z-score %d'%low_wt_zscore)"
   ]
  },
  {
   "cell_type": "code",
   "execution_count": null,
   "metadata": {},
   "outputs": [],
   "source": [
    "#replace all age values over 85 with 85\n",
    "ind = "
   ]
  },
  {
   "cell_type": "code",
   "execution_count": null,
   "metadata": {},
   "outputs": [],
   "source": []
  }
 ],
 "metadata": {
  "kernelspec": {
   "display_name": "Python 3",
   "language": "python",
   "name": "python3"
  },
  "language_info": {
   "codemirror_mode": {
    "name": "ipython",
    "version": 3
   },
   "file_extension": ".py",
   "mimetype": "text/x-python",
   "name": "python",
   "nbconvert_exporter": "python",
   "pygments_lexer": "ipython3",
   "version": "3.7.3"
  }
 },
 "nbformat": 4,
 "nbformat_minor": 2
}

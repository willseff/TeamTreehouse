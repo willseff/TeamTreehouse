{
 "cells": [
  {
   "cell_type": "code",
   "execution_count": 1,
   "metadata": {},
   "outputs": [],
   "source": [
    "import pandas as pd"
   ]
  },
  {
   "cell_type": "code",
   "execution_count": 31,
   "metadata": {},
   "outputs": [
    {
     "data": {
      "text/plain": [
       "SEQN         object\n",
       "BMAEXLEN    float64\n",
       "BMAEXSTS    float64\n",
       "BMAEXCMT    float64\n",
       "BMXWT       float64\n",
       "BMIWT       float64\n",
       "BMXRECUM    float64\n",
       "BMIRECUM    float64\n",
       "BMXHEAD     float64\n",
       "BMIHEAD     float64\n",
       "BMXHT       float64\n",
       "BMIHT       float64\n",
       "BMXBMI      float64\n",
       "BMXLEG      float64\n",
       "BMILEG      float64\n",
       "BMXCALF     float64\n",
       "BMICALF     float64\n",
       "BMXARML     float64\n",
       "BMIARML     float64\n",
       "BMXARMC     float64\n",
       "BMIARMC     float64\n",
       "BMXWAIST    float64\n",
       "BMIWAIST    float64\n",
       "BMXTHICR    float64\n",
       "BMITHICR    float64\n",
       "BMXTRI      float64\n",
       "BMITRI      float64\n",
       "BMXSUB      float64\n",
       "BMISUB      float64\n",
       "BMAAMP      float64\n",
       "BMAUREXT    float64\n",
       "BMAUPREL    float64\n",
       "BMAULEXT    float64\n",
       "BMAUPLEL    float64\n",
       "BMALOREX    float64\n",
       "BMALORKN    float64\n",
       "BMALLEXT    float64\n",
       "BMALLKNE    float64\n",
       "RIDAGEYR      int64\n",
       "dtype: object"
      ]
     },
     "execution_count": 31,
     "metadata": {},
     "output_type": "execute_result"
    }
   ],
   "source": [
    "bmx= pd.read_csv('BodyMeasures.csv')\n",
    "bmx.columns\n",
    "bmx.dtypes"
   ]
  },
  {
   "cell_type": "code",
   "execution_count": 29,
   "metadata": {},
   "outputs": [
    {
     "data": {
      "text/plain": [
       "Index(['BMAEXLEN', 'BMAEXSTS', 'BMAEXCMT', 'BMXWT', 'BMIWT', 'BMXRECUM',\n",
       "       'BMIRECUM', 'BMXHEAD', 'BMIHEAD', 'BMXHT', 'BMIHT', 'BMXBMI', 'BMXLEG',\n",
       "       'BMILEG', 'BMXCALF', 'BMICALF', 'BMXARML', 'BMIARML', 'BMXARMC',\n",
       "       'BMIARMC', 'BMXWAIST', 'BMIWAIST', 'BMXTHICR', 'BMITHICR', 'BMXTRI',\n",
       "       'BMITRI', 'BMXSUB', 'BMISUB', 'BMAAMP', 'BMAUREXT', 'BMAUPREL',\n",
       "       'BMAULEXT', 'BMAUPLEL', 'BMALOREX', 'BMALORKN', 'BMALLEXT', 'BMALLKNE',\n",
       "       'RIDAGEYR'],\n",
       "      dtype='object')"
      ]
     },
     "execution_count": 29,
     "metadata": {},
     "output_type": "execute_result"
    }
   ],
   "source": [
    "corr = bmx.loc[:,['SEQN', 'BMAEXLEN', 'BMAEXSTS', 'BMAEXCMT', 'BMXWT', 'BMIWT',\n",
    "       'BMXRECUM', 'BMIRECUM', 'BMXHEAD', 'BMIHEAD', 'BMXHT', 'BMIHT',\n",
    "       'BMXBMI', 'BMXLEG', 'BMILEG', 'BMXCALF', 'BMICALF', 'BMXARML',\n",
    "       'BMIARML', 'BMXARMC', 'BMIARMC', 'BMXWAIST', 'BMIWAIST', 'BMXTHICR',\n",
    "       'BMITHICR', 'BMXTRI', 'BMITRI', 'BMXSUB', 'BMISUB', 'BMAAMP',\n",
    "       'BMAUREXT', 'BMAUPREL', 'BMAULEXT', 'BMAUPLEL', 'BMALOREX', 'BMALORKN',\n",
    "       'BMALLEXT', 'BMALLKNE', 'RIDAGEYR']].corr()\n",
    "corr.shape\n",
    "corr.columns"
   ]
  },
  {
   "cell_type": "code",
   "execution_count": 12,
   "metadata": {},
   "outputs": [],
   "source": [
    "height_corr = corr.loc[:,'BMXHT']"
   ]
  },
  {
   "cell_type": "code",
   "execution_count": 13,
   "metadata": {},
   "outputs": [],
   "source": [
    "index = height_corr<0.70"
   ]
  },
  {
   "cell_type": "code",
   "execution_count": 14,
   "metadata": {},
   "outputs": [
    {
     "ename": "IndexError",
     "evalue": "boolean index did not match indexed array along dimension 0; dimension is 39 but corresponding boolean dimension is 38",
     "output_type": "error",
     "traceback": [
      "\u001b[0;31m---------------------------------------------------------------------------\u001b[0m",
      "\u001b[0;31mIndexError\u001b[0m                                Traceback (most recent call last)",
      "\u001b[0;32m<ipython-input-14-868bc152083e>\u001b[0m in \u001b[0;36m<module>\u001b[0;34m\u001b[0m\n\u001b[0;32m----> 1\u001b[0;31m \u001b[0mbmx\u001b[0m\u001b[0;34m.\u001b[0m\u001b[0mcolumns\u001b[0m\u001b[0;34m[\u001b[0m\u001b[0mindex\u001b[0m\u001b[0;34m]\u001b[0m\u001b[0;34m\u001b[0m\u001b[0;34m\u001b[0m\u001b[0m\n\u001b[0m",
      "\u001b[0;32m~/anaconda3/lib/python3.7/site-packages/pandas/core/indexes/base.py\u001b[0m in \u001b[0;36m__getitem__\u001b[0;34m(self, key)\u001b[0m\n\u001b[1;32m   3967\u001b[0m \u001b[0;34m\u001b[0m\u001b[0m\n\u001b[1;32m   3968\u001b[0m         \u001b[0mkey\u001b[0m \u001b[0;34m=\u001b[0m \u001b[0mcom\u001b[0m\u001b[0;34m.\u001b[0m\u001b[0mvalues_from_object\u001b[0m\u001b[0;34m(\u001b[0m\u001b[0mkey\u001b[0m\u001b[0;34m)\u001b[0m\u001b[0;34m\u001b[0m\u001b[0;34m\u001b[0m\u001b[0m\n\u001b[0;32m-> 3969\u001b[0;31m         \u001b[0mresult\u001b[0m \u001b[0;34m=\u001b[0m \u001b[0mgetitem\u001b[0m\u001b[0;34m(\u001b[0m\u001b[0mkey\u001b[0m\u001b[0;34m)\u001b[0m\u001b[0;34m\u001b[0m\u001b[0;34m\u001b[0m\u001b[0m\n\u001b[0m\u001b[1;32m   3970\u001b[0m         \u001b[0;32mif\u001b[0m \u001b[0;32mnot\u001b[0m \u001b[0mis_scalar\u001b[0m\u001b[0;34m(\u001b[0m\u001b[0mresult\u001b[0m\u001b[0;34m)\u001b[0m\u001b[0;34m:\u001b[0m\u001b[0;34m\u001b[0m\u001b[0;34m\u001b[0m\u001b[0m\n\u001b[1;32m   3971\u001b[0m             \u001b[0;32mreturn\u001b[0m \u001b[0mpromote\u001b[0m\u001b[0;34m(\u001b[0m\u001b[0mresult\u001b[0m\u001b[0;34m)\u001b[0m\u001b[0;34m\u001b[0m\u001b[0;34m\u001b[0m\u001b[0m\n",
      "\u001b[0;31mIndexError\u001b[0m: boolean index did not match indexed array along dimension 0; dimension is 39 but corresponding boolean dimension is 38"
     ]
    }
   ],
   "source": [
    "bmx.columns[index]"
   ]
  },
  {
   "cell_type": "code",
   "execution_count": null,
   "metadata": {},
   "outputs": [],
   "source": []
  }
 ],
 "metadata": {
  "kernelspec": {
   "display_name": "Python 3",
   "language": "python",
   "name": "python3"
  },
  "language_info": {
   "codemirror_mode": {
    "name": "ipython",
    "version": 3
   },
   "file_extension": ".py",
   "mimetype": "text/x-python",
   "name": "python",
   "nbconvert_exporter": "python",
   "pygments_lexer": "ipython3",
   "version": "3.7.3"
  }
 },
 "nbformat": 4,
 "nbformat_minor": 2
}

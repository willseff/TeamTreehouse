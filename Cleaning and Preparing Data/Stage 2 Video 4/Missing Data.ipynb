{
 "cells": [
  {
   "cell_type": "code",
   "execution_count": 1,
   "metadata": {},
   "outputs": [],
   "source": [
    "import numpy as np\n",
    "import pandas as pd"
   ]
  },
  {
   "cell_type": "code",
   "execution_count": 2,
   "metadata": {},
   "outputs": [],
   "source": [
    "demo = pd.read_csv('Demographics.csv')\n",
    "bmx = pd.read_csv('BodyMeasures.csv')"
   ]
  },
  {
   "cell_type": "code",
   "execution_count": 3,
   "metadata": {},
   "outputs": [
    {
     "data": {
      "text/plain": [
       "SEQN        10586\n",
       "SDDSRVYR    10375\n",
       "RIDSTATR    10377\n",
       "RIDEXMON     9666\n",
       "RIAGENDR    10375\n",
       "RIDAGEYR    10377\n",
       "RIDAGEMN    10199\n",
       "RIDAGEEX     9523\n",
       "RIDRETH1    10377\n",
       "RIDRETH2    10378\n",
       "DMQMILIT     5979\n",
       "DMDBORN     10365\n",
       "DMDCITZN    10374\n",
       "DMDYRSUS     1983\n",
       "DMDEDUC3     3687\n",
       "DMDEDUC2     5086\n",
       "DMDEDUC      8757\n",
       "DMDSCHOL     3465\n",
       "DMDMARTL     6346\n",
       "DMDHHSIZ    10378\n",
       "INDHHINC     8793\n",
       "INDFMINC    10189\n",
       "INDFMPIR     8828\n",
       "RIDEXPRG     2070\n",
       "RIDPREG      1931\n",
       "DMDHRGND    10364\n",
       "DMDHRAGE    10364\n",
       "DMDHRBRN     9971\n",
       "DMDHREDU     9965\n",
       "DMDHRMAR     8414\n",
       "            ...  \n",
       "WTIREP23    10375\n",
       "WTIREP24    10377\n",
       "WTIREP25    10375\n",
       "WTIREP26    10375\n",
       "WTIREP27    10377\n",
       "WTIREP28    10376\n",
       "WTIREP29    10376\n",
       "WTIREP30    10375\n",
       "WTIREP31    10377\n",
       "WTIREP32    10377\n",
       "WTIREP33    10375\n",
       "WTIREP34    10378\n",
       "WTIREP35    10378\n",
       "WTIREP36    10375\n",
       "WTIREP37    10375\n",
       "WTIREP38    10375\n",
       "WTIREP39    10377\n",
       "WTIREP40    10380\n",
       "WTIREP41    10379\n",
       "WTIREP42    10377\n",
       "WTIREP43    10378\n",
       "WTIREP44    10375\n",
       "WTIREP45    10375\n",
       "WTIREP46    10375\n",
       "WTIREP47    10375\n",
       "WTIREP48    10375\n",
       "WTIREP49    10375\n",
       "WTIREP50    10378\n",
       "WTIREP51    10378\n",
       "WTIREP52    10378\n",
       "Length: 144, dtype: int64"
      ]
     },
     "execution_count": 3,
     "metadata": {},
     "output_type": "execute_result"
    }
   ],
   "source": [
    "valid_entries = demo.count()\n",
    "valid_entries"
   ]
  },
  {
   "cell_type": "code",
   "execution_count": 4,
   "metadata": {},
   "outputs": [],
   "source": [
    "total_rows = len(demo.index)"
   ]
  },
  {
   "cell_type": "code",
   "execution_count": 5,
   "metadata": {},
   "outputs": [],
   "source": [
    "col_missing_data = total_rows - valid_entries"
   ]
  },
  {
   "cell_type": "code",
   "execution_count": 6,
   "metadata": {},
   "outputs": [
    {
     "ename": "NameError",
     "evalue": "name 'missing_data' is not defined",
     "output_type": "error",
     "traceback": [
      "\u001b[0;31m---------------------------------------------------------------------------\u001b[0m",
      "\u001b[0;31mNameError\u001b[0m                                 Traceback (most recent call last)",
      "\u001b[0;32m<ipython-input-6-9f8816b9897b>\u001b[0m in \u001b[0;36m<module>\u001b[0;34m\u001b[0m\n\u001b[0;32m----> 1\u001b[0;31m \u001b[0mmissing_data\u001b[0m\u001b[0;34m.\u001b[0m\u001b[0mhead\u001b[0m\u001b[0;34m(\u001b[0m\u001b[0;34m)\u001b[0m\u001b[0;34m\u001b[0m\u001b[0;34m\u001b[0m\u001b[0m\n\u001b[0m",
      "\u001b[0;31mNameError\u001b[0m: name 'missing_data' is not defined"
     ]
    }
   ],
   "source": [
    "missing_data.head()"
   ]
  },
  {
   "cell_type": "code",
   "execution_count": null,
   "metadata": {},
   "outputs": [],
   "source": [
    "col_missing_percentage = col_missing_data/total_rows\n",
    "col_missing_percentage.head()"
   ]
  },
  {
   "cell_type": "code",
   "execution_count": null,
   "metadata": {},
   "outputs": [],
   "source": [
    "#look at how many missing enteries using isnull method\n",
    "missing_data = np.sum(demo.isnull(), axis=1)"
   ]
  },
  {
   "cell_type": "code",
   "execution_count": null,
   "metadata": {},
   "outputs": [],
   "source": [
    "num_cols = len(demo.columns)"
   ]
  },
  {
   "cell_type": "code",
   "execution_count": null,
   "metadata": {},
   "outputs": [],
   "source": [
    "#trying to get percent missing from each column\n",
    "missing_percentage = missing_data/num_cols"
   ]
  },
  {
   "cell_type": "code",
   "execution_count": null,
   "metadata": {},
   "outputs": [],
   "source": [
    "missing_percentage.head()"
   ]
  },
  {
   "cell_type": "code",
   "execution_count": null,
   "metadata": {},
   "outputs": [],
   "source": [
    "#get missing percentage for this col\n",
    "col_missing_percentage['DMDSCHOL']"
   ]
  },
  {
   "cell_type": "code",
   "execution_count": null,
   "metadata": {},
   "outputs": [],
   "source": [
    "#other way of doing it\n",
    "perc = (len(demo.index) - demo['DMDSCHOL'].count())/len(demo.index)*100\n",
    "perc"
   ]
  },
  {
   "cell_type": "code",
   "execution_count": null,
   "metadata": {},
   "outputs": [],
   "source": [
    "# 9 and 7 are coded for refused and dont know in the data\n",
    "num_refused = sum(demo['DMDSCHOL']==7)\n",
    "num_dontknow = sum(demo['DMDSCHOL']==9)"
   ]
  },
  {
   "cell_type": "code",
   "execution_count": null,
   "metadata": {},
   "outputs": [],
   "source": [
    "print(num_refused, num_dontknow)"
   ]
  },
  {
   "cell_type": "code",
   "execution_count": null,
   "metadata": {},
   "outputs": [],
   "source": [
    "unknown_ind = demo.loc[:,\"DMDSCHOL\"]>3\n",
    "unknown_ind"
   ]
  },
  {
   "cell_type": "code",
   "execution_count": null,
   "metadata": {},
   "outputs": [],
   "source": [
    "demo.loc[unknown_ind,['DMDSCHOL']]= np.nan"
   ]
  },
  {
   "cell_type": "code",
   "execution_count": null,
   "metadata": {},
   "outputs": [],
   "source": [
    "print(demo['DMDSCHOL'].unique())"
   ]
  },
  {
   "cell_type": "code",
   "execution_count": null,
   "metadata": {},
   "outputs": [],
   "source": [
    "perc = (len(demo.index) - demo['DMDSCHOL'].count())/len(demo.index)*100\n",
    "perc"
   ]
  },
  {
   "cell_type": "code",
   "execution_count": 9,
   "metadata": {},
   "outputs": [
    {
     "name": "stdout",
     "output_type": "stream",
     "text": [
      "Demographics:\n",
      "SEQN          int64\n",
      "SDDSRVYR    float64\n",
      "RIDSTATR     object\n",
      "RIDEXMON    float64\n",
      "RIAGENDR     object\n",
      "dtype: object\n",
      "\n",
      "Body Measures\n",
      "SEQN         object\n",
      "BMAEXLEN    float64\n",
      "BMAEXSTS    float64\n",
      "BMAEXCMT    float64\n",
      "BMXWT       float64\n",
      "dtype: object\n"
     ]
    }
   ],
   "source": [
    "print('Demographics:')\n",
    "print(demo.dtypes.head())\n",
    "print('\\nBody Measures')\n",
    "print(bmx.dtypes.head())"
   ]
  },
  {
   "cell_type": "code",
   "execution_count": 10,
   "metadata": {},
   "outputs": [
    {
     "ename": "ValueError",
     "evalue": "Unable to parse string \"Jane Doe\" at position 1385",
     "output_type": "error",
     "traceback": [
      "\u001b[0;31m---------------------------------------------------------------------------\u001b[0m",
      "\u001b[0;31mValueError\u001b[0m                                Traceback (most recent call last)",
      "\u001b[0;32mpandas/_libs/lib.pyx\u001b[0m in \u001b[0;36mpandas._libs.lib.maybe_convert_numeric\u001b[0;34m()\u001b[0m\n",
      "\u001b[0;31mValueError\u001b[0m: Unable to parse string \"Jane Doe\"",
      "\nDuring handling of the above exception, another exception occurred:\n",
      "\u001b[0;31mValueError\u001b[0m                                Traceback (most recent call last)",
      "\u001b[0;32m<ipython-input-10-9f9131a4976e>\u001b[0m in \u001b[0;36m<module>\u001b[0;34m\u001b[0m\n\u001b[0;32m----> 1\u001b[0;31m \u001b[0mbmx\u001b[0m\u001b[0;34m.\u001b[0m\u001b[0mloc\u001b[0m\u001b[0;34m[\u001b[0m\u001b[0;34m:\u001b[0m\u001b[0;34m,\u001b[0m\u001b[0;34m'SEQN'\u001b[0m\u001b[0;34m]\u001b[0m\u001b[0;34m=\u001b[0m \u001b[0mpd\u001b[0m\u001b[0;34m.\u001b[0m\u001b[0mto_numeric\u001b[0m\u001b[0;34m(\u001b[0m\u001b[0mbmx\u001b[0m\u001b[0;34m[\u001b[0m\u001b[0;34m'SEQN'\u001b[0m\u001b[0;34m]\u001b[0m\u001b[0;34m,\u001b[0m\u001b[0mdowncast\u001b[0m\u001b[0;34m=\u001b[0m\u001b[0;34m'integer'\u001b[0m\u001b[0;34m)\u001b[0m\u001b[0;34m\u001b[0m\u001b[0;34m\u001b[0m\u001b[0m\n\u001b[0m",
      "\u001b[0;32m~/anaconda3/lib/python3.7/site-packages/pandas/core/tools/numeric.py\u001b[0m in \u001b[0;36mto_numeric\u001b[0;34m(arg, errors, downcast)\u001b[0m\n\u001b[1;32m    133\u001b[0m             \u001b[0mcoerce_numeric\u001b[0m \u001b[0;34m=\u001b[0m \u001b[0;32mFalse\u001b[0m \u001b[0;32mif\u001b[0m \u001b[0merrors\u001b[0m \u001b[0;32min\u001b[0m \u001b[0;34m(\u001b[0m\u001b[0;34m'ignore'\u001b[0m\u001b[0;34m,\u001b[0m \u001b[0;34m'raise'\u001b[0m\u001b[0;34m)\u001b[0m \u001b[0;32melse\u001b[0m \u001b[0;32mTrue\u001b[0m\u001b[0;34m\u001b[0m\u001b[0;34m\u001b[0m\u001b[0m\n\u001b[1;32m    134\u001b[0m             values = lib.maybe_convert_numeric(values, set(),\n\u001b[0;32m--> 135\u001b[0;31m                                                coerce_numeric=coerce_numeric)\n\u001b[0m\u001b[1;32m    136\u001b[0m \u001b[0;34m\u001b[0m\u001b[0m\n\u001b[1;32m    137\u001b[0m     \u001b[0;32mexcept\u001b[0m \u001b[0mException\u001b[0m\u001b[0;34m:\u001b[0m\u001b[0;34m\u001b[0m\u001b[0;34m\u001b[0m\u001b[0m\n",
      "\u001b[0;32mpandas/_libs/lib.pyx\u001b[0m in \u001b[0;36mpandas._libs.lib.maybe_convert_numeric\u001b[0;34m()\u001b[0m\n",
      "\u001b[0;31mValueError\u001b[0m: Unable to parse string \"Jane Doe\" at position 1385"
     ]
    }
   ],
   "source": [
    "bmx.loc[:,'SEQN']= pd.to_numeric(bmx['SEQN'],downcast='integer')"
   ]
  },
  {
   "cell_type": "code",
   "execution_count": 11,
   "metadata": {},
   "outputs": [],
   "source": [
    "# use error keyword to handle errors\n",
    "bmx.loc[:,'SEQN']= pd.to_numeric(bmx['SEQN'],downcast='integer', errors = 'coerce')"
   ]
  },
  {
   "cell_type": "code",
   "execution_count": 12,
   "metadata": {},
   "outputs": [
    {
     "data": {
      "text/plain": [
       "SEQN        float64\n",
       "BMAEXLEN    float64\n",
       "BMAEXSTS    float64\n",
       "BMAEXCMT    float64\n",
       "BMXWT       float64\n",
       "BMIWT       float64\n",
       "BMXRECUM    float64\n",
       "BMIRECUM    float64\n",
       "BMXHEAD     float64\n",
       "BMIHEAD     float64\n",
       "BMXHT       float64\n",
       "BMIHT       float64\n",
       "BMXBMI      float64\n",
       "BMXLEG      float64\n",
       "BMILEG      float64\n",
       "BMXCALF     float64\n",
       "BMICALF     float64\n",
       "BMXARML     float64\n",
       "BMIARML     float64\n",
       "BMXARMC     float64\n",
       "BMIARMC     float64\n",
       "BMXWAIST    float64\n",
       "BMIWAIST    float64\n",
       "BMXTHICR    float64\n",
       "BMITHICR    float64\n",
       "BMXTRI      float64\n",
       "BMITRI      float64\n",
       "BMXSUB      float64\n",
       "BMISUB      float64\n",
       "BMAAMP      float64\n",
       "BMAUREXT    float64\n",
       "BMAUPREL    float64\n",
       "BMAULEXT    float64\n",
       "BMAUPLEL    float64\n",
       "BMALOREX    float64\n",
       "BMALORKN    float64\n",
       "BMALLEXT    float64\n",
       "BMALLKNE    float64\n",
       "RIDAGEYR      int64\n",
       "dtype: object"
      ]
     },
     "execution_count": 12,
     "metadata": {},
     "output_type": "execute_result"
    }
   ],
   "source": [
    "#SEQN still not int64 type because NaN values are considered floats\n",
    "bmx.dtypes"
   ]
  },
  {
   "cell_type": "code",
   "execution_count": 13,
   "metadata": {},
   "outputs": [],
   "source": [
    "ind = np.isnan(bmx['SEQN'])"
   ]
  },
  {
   "cell_type": "code",
   "execution_count": 14,
   "metadata": {},
   "outputs": [],
   "source": [
    "bmx = bmx.loc[~ind,:]"
   ]
  },
  {
   "cell_type": "code",
   "execution_count": 15,
   "metadata": {},
   "outputs": [
    {
     "data": {
      "text/plain": [
       "SEQN          int16\n",
       "BMAEXLEN    float64\n",
       "BMAEXSTS    float64\n",
       "BMAEXCMT    float64\n",
       "BMXWT       float64\n",
       "dtype: object"
      ]
     },
     "execution_count": 15,
     "metadata": {},
     "output_type": "execute_result"
    }
   ],
   "source": [
    "bmx.loc[:,'SEQN']= pd.to_numeric(bmx['SEQN'],errors='coerce', downcast= 'integer')\n",
    "bmx.dtypes.head()"
   ]
  },
  {
   "cell_type": "code",
   "execution_count": 27,
   "metadata": {},
   "outputs": [
    {
     "name": "stdout",
     "output_type": "stream",
     "text": [
      "4699\n",
      "10586\n"
     ]
    }
   ],
   "source": [
    "#now we want to find all people under 18 and change marital status to np.nan\n",
    "minor_ind = demo.loc[:,'RIDAGEYR']<18\n",
    "print(sum(minor_ind))\n",
    "print(minor_ind.count())\n"
   ]
  },
  {
   "cell_type": "code",
   "execution_count": 26,
   "metadata": {},
   "outputs": [
    {
     "name": "stdout",
     "output_type": "stream",
     "text": [
      "1244\n",
      "6346\n"
     ]
    }
   ],
   "source": [
    "#can't just sum the minor_ind to find total beccause not every minor has a dmdmartl status\n",
    "print(demo.loc[minor_ind,'DMDMARTL'].count())\n",
    "print(demo['DMDMARTL'].count())"
   ]
  },
  {
   "cell_type": "code",
   "execution_count": 30,
   "metadata": {},
   "outputs": [],
   "source": [
    "demo.loc[minor_ind,'DMDMARTL']=np.nan"
   ]
  },
  {
   "cell_type": "code",
   "execution_count": 29,
   "metadata": {},
   "outputs": [
    {
     "name": "stdout",
     "output_type": "stream",
     "text": [
      "0\n"
     ]
    }
   ],
   "source": [
    "print(demo.loc[minor_ind,'DMDMARTL'].count())"
   ]
  },
  {
   "cell_type": "code",
   "execution_count": null,
   "metadata": {},
   "outputs": [],
   "source": []
  }
 ],
 "metadata": {
  "kernelspec": {
   "display_name": "Python 3",
   "language": "python",
   "name": "python3"
  },
  "language_info": {
   "codemirror_mode": {
    "name": "ipython",
    "version": 3
   },
   "file_extension": ".py",
   "mimetype": "text/x-python",
   "name": "python",
   "nbconvert_exporter": "python",
   "pygments_lexer": "ipython3",
   "version": "3.7.3"
  }
 },
 "nbformat": 4,
 "nbformat_minor": 2
}

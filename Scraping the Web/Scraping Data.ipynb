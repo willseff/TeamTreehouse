{
 "cells": [
  {
   "cell_type": "code",
   "execution_count": 1,
   "metadata": {},
   "outputs": [],
   "source": [
    "from urllib.request import urlopen\n",
    "from bs4 import BeautifulSoup"
   ]
  },
  {
   "cell_type": "code",
   "execution_count": 2,
   "metadata": {},
   "outputs": [],
   "source": [
    "html = urlopen('https://treehouse-projects.github.io/horse-land/index.html')\n",
    "soup = BeautifulSoup(html.read(),'html.parser')"
   ]
  },
  {
   "cell_type": "code",
   "execution_count": 3,
   "metadata": {},
   "outputs": [
    {
     "name": "stdout",
     "output_type": "stream",
     "text": [
      "<!DOCTYPE html>\n",
      "<html lang=\"en\">\n",
      " <head>\n",
      "  <meta charset=\"utf-8\"/>\n",
      "  <title>\n",
      "   Horse Land\n",
      "  </title>\n",
      "  <link href=\"css/style.css\" rel=\"stylesheet\"/>\n",
      "  <link href=\"https://fonts.googleapis.com/css?family=Lato:400,700|Rye\" rel=\"stylesheet\"/>\n",
      " </head>\n",
      " <body>\n",
      "  <div class=\"sign\">\n",
      "   <h1>\n",
      "    Horse Land\n",
      "   </h1>\n",
      "   <p>\n",
      "    A list of horses from A to Z\n",
      "   </p>\n",
      "  </div>\n",
      "  <div class=\"featured\">\n",
      "   <h2>\n",
      "    Horse of the Month\n",
      "   </h2>\n",
      "   <div class=\"featured-img\">\n",
      "    <img src=\"img/1280px-SpanishMustangsOfCorolla.jpg\"/>\n",
      "   </div>\n",
      "   <div class=\"featured-text\">\n",
      "    <p class=\"bold\">\n",
      "     Mustang\n",
      "    </p>\n",
      "    <p>\n",
      "     This month, we're featuring the mustang, a free-roaming horse of the American west that first descended from\n",
      "          horses brought to the Americas by the Spanish. Here are five beach loving wild Spanish Mustangs in Corolla,\n",
      "          North Carolina.\n",
      "    </p>\n",
      "    <a class=\"button button--primary\" href=\"mustang.html\">\n",
      "     Learn More\n",
      "    </a>\n",
      "   </div>\n",
      "  </div>\n",
      "  <ul class=\"card-wrap\" id=\"imageGallery\">\n",
      "  </ul>\n",
      "  <div class=\"links\">\n",
      "   <h2>\n",
      "    Want to learn even more about horses?\n",
      "   </h2>\n",
      "   <a class=\"button button--secondary\" href=\"https://en.wikipedia.org/wiki/Horse\" target=\"_blank\">\n",
      "    Horses on\n",
      "        Wikipedia\n",
      "   </a>\n",
      "   <a class=\"button button--secondary\" href=\"https://commons.wikimedia.org/wiki/Horse_breeds\" target=\"_blank\">\n",
      "    Horse\n",
      "        Breeds\n",
      "   </a>\n",
      "  </div>\n",
      "  <p class=\"credits\">\n",
      "   Text and horse breed photos from\n",
      "   <a href=\"https://commons.wikimedia.org/wiki/Horse_breeds\" target=\"_blank\">\n",
      "    Wimimedia Commons - Horse Breeds\n",
      "   </a>\n",
      "   under a\n",
      "   <a href=\"https://creativecommons.org/licenses/by-sa/3.0/\" target=\"_blank\">\n",
      "    Creative Commons Attribution-ShareAlike\n",
      "        3.0 Unported License\n",
      "   </a>\n",
      "   .\n",
      "   <script src=\"https://cdnjs.cloudflare.com/ajax/libs/jquery/3.2.1/jquery.min.js\">\n",
      "   </script>\n",
      "   <script src=\"js/index.js\">\n",
      "   </script>\n",
      "  </p>\n",
      " </body>\n",
      "</html>\n",
      "\n"
     ]
    }
   ],
   "source": [
    "#prettify make html code in correct indentation and easier to read\n",
    "#hard to read without preffity\n",
    "print(soup.prettify())"
   ]
  },
  {
   "cell_type": "code",
   "execution_count": 4,
   "metadata": {},
   "outputs": [
    {
     "name": "stdout",
     "output_type": "stream",
     "text": [
      "<title>Horse Land</title>\n",
      "<div class=\"sign\">\n",
      "<h1>Horse Land</h1>\n",
      "<p>A list of horses from A to Z</p>\n",
      "</div>\n"
     ]
    }
   ],
   "source": [
    "print(soup.title)\n",
    "print(soup.div)"
   ]
  },
  {
   "cell_type": "code",
   "execution_count": 5,
   "metadata": {},
   "outputs": [
    {
     "name": "stdout",
     "output_type": "stream",
     "text": [
      "<div class=\"featured\">\n",
      "<h2>Horse of the Month</h2>\n",
      "<div class=\"featured-img\">\n",
      "<img src=\"img/1280px-SpanishMustangsOfCorolla.jpg\"/>\n",
      "</div>\n",
      "<div class=\"featured-text\">\n",
      "<p class=\"bold\">Mustang</p>\n",
      "<p>This month, we're featuring the mustang, a free-roaming horse of the American west that first descended from\n",
      "          horses brought to the Americas by the Spanish. Here are five beach loving wild Spanish Mustangs in Corolla,\n",
      "          North Carolina.</p>\n",
      "<a class=\"button button--primary\" href=\"mustang.html\">Learn More</a>\n",
      "</div>\n",
      "</div>\n"
     ]
    }
   ],
   "source": [
    "# can loop though all divs and specify that only divs with class featured are selected\n",
    "divs = soup.find_all('div',{'class' : 'featured'})\n",
    "for div in divs:\n",
    "    print(div)"
   ]
  },
  {
   "cell_type": "code",
   "execution_count": 6,
   "metadata": {},
   "outputs": [
    {
     "name": "stdout",
     "output_type": "stream",
     "text": [
      "\n",
      "\n",
      "<h2>Horse of the Month</h2>\n",
      "\n",
      "\n",
      "<div class=\"featured-img\">\n",
      "<img src=\"img/1280px-SpanishMustangsOfCorolla.jpg\"/>\n",
      "</div>\n",
      "\n",
      "\n",
      "<div class=\"featured-text\">\n",
      "<p class=\"bold\">Mustang</p>\n",
      "<p>This month, we're featuring the mustang, a free-roaming horse of the American west that first descended from\n",
      "          horses brought to the Americas by the Spanish. Here are five beach loving wild Spanish Mustangs in Corolla,\n",
      "          North Carolina.</p>\n",
      "<a class=\"button button--primary\" href=\"mustang.html\">Learn More</a>\n",
      "</div>\n",
      "\n",
      "\n"
     ]
    }
   ],
   "source": [
    "#this will find the first instance\n",
    "divs = soup.find('div',{'class' : 'featured'})\n",
    "for div in divs:\n",
    "    print(div)"
   ]
  },
  {
   "cell_type": "code",
   "execution_count": 7,
   "metadata": {},
   "outputs": [
    {
     "name": "stdout",
     "output_type": "stream",
     "text": [
      "<h2>Horse of the Month</h2>\n"
     ]
    }
   ],
   "source": [
    "# can select just one element to print using dot notation\n",
    "featured_header = soup.find('div',{'class' : 'featured'}).h2\n",
    "print(featured_header)"
   ]
  },
  {
   "cell_type": "code",
   "execution_count": 8,
   "metadata": {},
   "outputs": [
    {
     "name": "stdout",
     "output_type": "stream",
     "text": [
      "Horse of the Month\n"
     ]
    }
   ],
   "source": [
    "print(featured_header.get_text())"
   ]
  },
  {
   "cell_type": "code",
   "execution_count": 9,
   "metadata": {},
   "outputs": [
    {
     "name": "stdout",
     "output_type": "stream",
     "text": [
      "\n",
      "Horse of the Month\n",
      "\n",
      "\n",
      "\n",
      "\n",
      "Mustang\n",
      "This month, we're featuring the mustang, a free-roaming horse of the American west that first descended from\n",
      "          horses brought to the Americas by the Spanish. Here are five beach loving wild Spanish Mustangs in Corolla,\n",
      "          North Carolina.\n",
      "Learn More\n",
      "\n",
      "\n"
     ]
    }
   ],
   "source": [
    "# get text can also be used to get just the text of more stuff however this makes it more difficult for us to process\n",
    "#removed h2 from above code\n",
    "featured_header = soup.find('div',{'class' : 'featured'})\n",
    "print(featured_header.get_text())"
   ]
  },
  {
   "cell_type": "code",
   "execution_count": 10,
   "metadata": {},
   "outputs": [
    {
     "name": "stdout",
     "output_type": "stream",
     "text": [
      "Learn More\n"
     ]
    }
   ],
   "source": [
    "for button in soup.find(attrs={'class':'button button--primary'}):\n",
    "    print (button)"
   ]
  },
  {
   "cell_type": "code",
   "execution_count": 11,
   "metadata": {},
   "outputs": [
    {
     "name": "stdout",
     "output_type": "stream",
     "text": [
      "Learn More\n"
     ]
    }
   ],
   "source": [
    "#can also write it this way\n",
    "for button in soup.find(class_ = 'button button--primary'):\n",
    "    print (button)"
   ]
  },
  {
   "cell_type": "code",
   "execution_count": 13,
   "metadata": {},
   "outputs": [
    {
     "name": "stdout",
     "output_type": "stream",
     "text": [
      "mustang.html\n",
      "https://en.wikipedia.org/wiki/Horse\n",
      "https://commons.wikimedia.org/wiki/Horse_breeds\n",
      "https://commons.wikimedia.org/wiki/Horse_breeds\n",
      "https://creativecommons.org/licenses/by-sa/3.0/\n"
     ]
    }
   ],
   "source": [
    "for link in soup.find_all('a'):\n",
    "    print(link.get('href'))"
   ]
  },
  {
   "cell_type": "code",
   "execution_count": null,
   "metadata": {},
   "outputs": [],
   "source": []
  }
 ],
 "metadata": {
  "kernelspec": {
   "display_name": "Python 3",
   "language": "python",
   "name": "python3"
  },
  "language_info": {
   "codemirror_mode": {
    "name": "ipython",
    "version": 3
   },
   "file_extension": ".py",
   "mimetype": "text/x-python",
   "name": "python",
   "nbconvert_exporter": "python",
   "pygments_lexer": "ipython3",
   "version": "3.7.3"
  }
 },
 "nbformat": 4,
 "nbformat_minor": 2
}

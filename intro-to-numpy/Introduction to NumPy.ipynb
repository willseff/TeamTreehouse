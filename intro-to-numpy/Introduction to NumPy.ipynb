{
 "cells": [
  {
   "cell_type": "markdown",
   "metadata": {},
   "source": [
    "# Introduction to NumPy\n",
    "Learning NumPy\n",
    "## Differences between lists and NumPy Arrays\n",
    "- An array's size is immutable. You cannot append, insert or remoce elements, like you can with a list\n",
    "- All an array's elements must be of the same data type\n",
    "- A Num-Py array behaves in a pythonic fashion you can `len(my_array)` just like you would assume"
   ]
  },
  {
   "cell_type": "code",
   "execution_count": 1,
   "metadata": {},
   "outputs": [
    {
     "data": {
      "text/plain": [
       "'1.16.4'"
      ]
     },
     "execution_count": 1,
     "metadata": {},
     "output_type": "execute_result"
    }
   ],
   "source": [
    "import numpy as np\n",
    "np.__version__"
   ]
  },
  {
   "cell_type": "code",
   "execution_count": 2,
   "metadata": {},
   "outputs": [
    {
     "data": {
      "text/plain": [
       "'whateves'"
      ]
     },
     "execution_count": 2,
     "metadata": {},
     "output_type": "execute_result"
    }
   ],
   "source": [
    "gpas_as_list = [3,4,3.483]\n",
    "gpas_as_list.append(5)\n",
    "gpas_as_list.insert(1,'whateves')\n",
    "gpas_as_list.pop(1)"
   ]
  },
  {
   "cell_type": "code",
   "execution_count": 3,
   "metadata": {},
   "outputs": [],
   "source": [
    "gpas = np.array(gpas_as_list)"
   ]
  },
  {
   "cell_type": "code",
   "execution_count": 4,
   "metadata": {},
   "outputs": [],
   "source": [
    "?gpas"
   ]
  },
  {
   "cell_type": "code",
   "execution_count": 5,
   "metadata": {},
   "outputs": [
    {
     "data": {
      "text/plain": [
       "dtype('float64')"
      ]
     },
     "execution_count": 5,
     "metadata": {},
     "output_type": "execute_result"
    }
   ],
   "source": [
    "gpas.dtype"
   ]
  },
  {
   "cell_type": "code",
   "execution_count": 6,
   "metadata": {},
   "outputs": [
    {
     "data": {
      "text/plain": [
       "8"
      ]
     },
     "execution_count": 6,
     "metadata": {},
     "output_type": "execute_result"
    }
   ],
   "source": [
    "gpas.itemsize"
   ]
  },
  {
   "cell_type": "markdown",
   "metadata": {},
   "source": [
    "## About data types\n",
    "\n",
    "* By choosing the proper [data type](https://docs.scipy.org/doc/numpy-1.14.0/user/basics.types.html) you can greatly reduce the size required to store objects\n",
    "* Data types are maintained by wrapping values in a [scalar representation](https://docs.scipy.org/doc/numpy-1.14.0/reference/arrays.scalars.html)\n",
    "* `np.zeros` is a handy way to create an empty array filled with zeros."
   ]
  },
  {
   "cell_type": "code",
   "execution_count": 7,
   "metadata": {},
   "outputs": [
    {
     "data": {
      "text/plain": [
       "array([0, 0, 0, 0, 0, 0, 0, 0, 0, 0, 0, 0, 0, 0, 0, 0, 0, 0, 0, 0, 0, 0,\n",
       "       0, 0, 0, 0, 0, 0, 0, 0, 0, 0, 0, 0, 0, 0, 0, 0, 0, 0, 0, 0, 0, 0,\n",
       "       0, 0, 0, 0, 0, 0, 0, 0, 0, 0, 0, 0, 0, 0, 0, 0, 0, 0, 0, 0, 0, 0,\n",
       "       0, 0, 0, 0, 0, 0, 0, 0, 0, 0, 0, 0, 0, 0, 0, 0, 0, 0, 0, 0, 0, 0,\n",
       "       0, 0, 0, 0, 0, 0, 0, 0, 0, 0, 0, 0], dtype=uint16)"
      ]
     },
     "execution_count": 7,
     "metadata": {},
     "output_type": "execute_result"
    }
   ],
   "source": [
    "study_minutes = np.zeros(100,np.uint16)\n",
    "study_minutes\n",
    "#dots after zeros in output show that it is a floating point object"
   ]
  },
  {
   "cell_type": "code",
   "execution_count": 8,
   "metadata": {},
   "outputs": [
    {
     "name": "stdout",
     "output_type": "stream",
     "text": [
      "Variable        Type       Data/Info\n",
      "------------------------------------\n",
      "gpas            ndarray    4: 4 elems, type `float64`, 32 bytes\n",
      "gpas_as_list    list       n=4\n",
      "np              module     <module 'numpy' from '/Us<...>kages/numpy/__init__.py'>\n",
      "study_minutes   ndarray    100: 100 elems, type `uint16`, 200 bytes\n"
     ]
    }
   ],
   "source": [
    "%whos"
   ]
  },
  {
   "cell_type": "code",
   "execution_count": 9,
   "metadata": {},
   "outputs": [],
   "source": [
    "study_minutes[0]=150"
   ]
  },
  {
   "cell_type": "code",
   "execution_count": 10,
   "metadata": {},
   "outputs": [],
   "source": [
    "first_day_minutes = study_minutes[0]"
   ]
  },
  {
   "cell_type": "code",
   "execution_count": 11,
   "metadata": {},
   "outputs": [
    {
     "data": {
      "text/plain": [
       "150"
      ]
     },
     "execution_count": 11,
     "metadata": {},
     "output_type": "execute_result"
    }
   ],
   "source": [
    "first_day_minutes"
   ]
  },
  {
   "cell_type": "code",
   "execution_count": 12,
   "metadata": {},
   "outputs": [
    {
     "data": {
      "text/plain": [
       "numpy.uint16"
      ]
     },
     "execution_count": 12,
     "metadata": {},
     "output_type": "execute_result"
    }
   ],
   "source": [
    "type(first_day_minutes)"
   ]
  },
  {
   "cell_type": "code",
   "execution_count": 13,
   "metadata": {},
   "outputs": [],
   "source": [
    "study_minutes[1] = 60"
   ]
  },
  {
   "cell_type": "code",
   "execution_count": 14,
   "metadata": {},
   "outputs": [
    {
     "data": {
      "text/plain": [
       "array([150,  60,  80,  60,  30,  90,   0,   0,   0,   0,   0,   0,   0,\n",
       "         0,   0,   0,   0,   0,   0,   0,   0,   0,   0,   0,   0,   0,\n",
       "         0,   0,   0,   0,   0,   0,   0,   0,   0,   0,   0,   0,   0,\n",
       "         0,   0,   0,   0,   0,   0,   0,   0,   0,   0,   0,   0,   0,\n",
       "         0,   0,   0,   0,   0,   0,   0,   0,   0,   0,   0,   0,   0,\n",
       "         0,   0,   0,   0,   0,   0,   0,   0,   0,   0,   0,   0,   0,\n",
       "         0,   0,   0,   0,   0,   0,   0,   0,   0,   0,   0,   0,   0,\n",
       "         0,   0,   0,   0,   0,   0,   0,   0,   0], dtype=uint16)"
      ]
     },
     "execution_count": 14,
     "metadata": {},
     "output_type": "execute_result"
    }
   ],
   "source": [
    "study_minutes[2:6] = [80,60,30,90]\n",
    "study_minutes"
   ]
  },
  {
   "cell_type": "code",
   "execution_count": 15,
   "metadata": {},
   "outputs": [
    {
     "data": {
      "text/plain": [
       "array([[4.   , 3.285, 3.5  , 4.   ],\n",
       "       [3.2  , 3.8  , 4.   , 4.   ],\n",
       "       [3.96 , 3.92 , 4.   , 4.   ]], dtype=float16)"
      ]
     },
     "execution_count": 15,
     "metadata": {},
     "output_type": "execute_result"
    }
   ],
   "source": [
    "student_gpas = np.array([\n",
    "    [4.0,3.286,3.5,4.0],\n",
    "    [3.2,3.8,4.0,4.0],\n",
    "    [3.96,3.92,4.0,4.0]\n",
    "],np.float16)\n",
    "student_gpas"
   ]
  },
  {
   "cell_type": "code",
   "execution_count": 16,
   "metadata": {},
   "outputs": [
    {
     "data": {
      "text/plain": [
       "2"
      ]
     },
     "execution_count": 16,
     "metadata": {},
     "output_type": "execute_result"
    }
   ],
   "source": [
    "student_gpas.ndim"
   ]
  },
  {
   "cell_type": "code",
   "execution_count": 17,
   "metadata": {},
   "outputs": [
    {
     "data": {
      "text/plain": [
       "(3, 4)"
      ]
     },
     "execution_count": 17,
     "metadata": {},
     "output_type": "execute_result"
    }
   ],
   "source": [
    "student_gpas.shape"
   ]
  },
  {
   "cell_type": "code",
   "execution_count": 18,
   "metadata": {},
   "outputs": [
    {
     "data": {
      "text/plain": [
       "12"
      ]
     },
     "execution_count": 18,
     "metadata": {},
     "output_type": "execute_result"
    }
   ],
   "source": [
    "student_gpas.size"
   ]
  },
  {
   "cell_type": "code",
   "execution_count": 19,
   "metadata": {},
   "outputs": [
    {
     "data": {
      "text/plain": [
       "3"
      ]
     },
     "execution_count": 19,
     "metadata": {},
     "output_type": "execute_result"
    }
   ],
   "source": [
    "len(student_gpas)"
   ]
  },
  {
   "cell_type": "code",
   "execution_count": 20,
   "metadata": {},
   "outputs": [
    {
     "data": {
      "text/plain": [
       "2"
      ]
     },
     "execution_count": 20,
     "metadata": {},
     "output_type": "execute_result"
    }
   ],
   "source": [
    "student_gpas.itemsize"
   ]
  },
  {
   "cell_type": "code",
   "execution_count": 21,
   "metadata": {},
   "outputs": [
    {
     "data": {
      "text/plain": [
       "24"
      ]
     },
     "execution_count": 21,
     "metadata": {},
     "output_type": "execute_result"
    }
   ],
   "source": [
    "student_gpas.itemsize*student_gpas.size"
   ]
  },
  {
   "cell_type": "code",
   "execution_count": 22,
   "metadata": {},
   "outputs": [
    {
     "name": "stdout",
     "output_type": "stream",
     "text": [
      "class:  ndarray\n",
      "shape:  (3, 4)\n",
      "strides:  (8, 2)\n",
      "itemsize:  2\n",
      "aligned:  True\n",
      "contiguous:  True\n",
      "fortran:  False\n",
      "data pointer: 0x7fad3b765ec0\n",
      "byteorder:  little\n",
      "byteswap:  False\n",
      "type: float16\n"
     ]
    }
   ],
   "source": [
    "np.info(student_gpas)"
   ]
  },
  {
   "cell_type": "code",
   "execution_count": 23,
   "metadata": {},
   "outputs": [
    {
     "data": {
      "text/plain": [
       "array([3.96, 3.92, 4.  , 4.  ], dtype=float16)"
      ]
     },
     "execution_count": 23,
     "metadata": {},
     "output_type": "execute_result"
    }
   ],
   "source": [
    "student_gpas[2]"
   ]
  },
  {
   "cell_type": "code",
   "execution_count": 24,
   "metadata": {},
   "outputs": [
    {
     "data": {
      "text/plain": [
       "4.0"
      ]
     },
     "execution_count": 24,
     "metadata": {},
     "output_type": "execute_result"
    }
   ],
   "source": [
    "student_gpas[2][3]"
   ]
  },
  {
   "cell_type": "markdown",
   "metadata": {},
   "source": [
    "## Multidimensional Arrays\n",
    "\n",
    "* The data structure is actually called `ndarray`, representing any **n**umber of **d**imensions\n",
    "* Arrays can have multiple dimensions, you declare them on creation\n",
    "* Dimensions help define what each element in the array represents.  A two dimensional array is just an array of arrays\n",
    "* **Rank** defines how many dimensions an array contains \n",
    "* **Shape** defines the length of each of the array's dimensions\n",
    "* Each dimension is also referred to as an **axis**, and they are zero-indexed. Multiples are called **axes**.\n",
    "* A 2d array is also known as a **matrix**."
   ]
  },
  {
   "cell_type": "code",
   "execution_count": 25,
   "metadata": {},
   "outputs": [],
   "source": [
    "#add 60 minutes to the second day in the study_minutes array\n",
    "study_minutes[2:6] = [80,60,30,90]"
   ]
  },
  {
   "cell_type": "code",
   "execution_count": 26,
   "metadata": {},
   "outputs": [],
   "source": [
    "study_minutes = np.array([\n",
    "    study_minutes,\n",
    "    np.zeros(100, np.uint16)\n",
    "])"
   ]
  },
  {
   "cell_type": "code",
   "execution_count": 27,
   "metadata": {},
   "outputs": [
    {
     "data": {
      "text/plain": [
       "(2, 100)"
      ]
     },
     "execution_count": 27,
     "metadata": {},
     "output_type": "execute_result"
    }
   ],
   "source": [
    "study_minutes.shape"
   ]
  },
  {
   "cell_type": "code",
   "execution_count": 28,
   "metadata": {},
   "outputs": [],
   "source": [
    "#set round 2 day 1 to 60\n",
    "study_minutes[1][0]= 60"
   ]
  },
  {
   "cell_type": "code",
   "execution_count": 29,
   "metadata": {},
   "outputs": [
    {
     "data": {
      "text/plain": [
       "60"
      ]
     },
     "execution_count": 29,
     "metadata": {},
     "output_type": "execute_result"
    }
   ],
   "source": [
    "study_minutes[1,0]"
   ]
  },
  {
   "cell_type": "code",
   "execution_count": 30,
   "metadata": {},
   "outputs": [
    {
     "data": {
      "text/plain": [
       "(1, 0)"
      ]
     },
     "execution_count": 30,
     "metadata": {},
     "output_type": "execute_result"
    }
   ],
   "source": [
    "#tuples are assumed in python when you write numbers with commas\n",
    "1,0"
   ]
  },
  {
   "cell_type": "code",
   "execution_count": 31,
   "metadata": {},
   "outputs": [
    {
     "data": {
      "text/plain": [
       "array([132, 122, 128,  44, 136, 129, 101,  95,  50, 132, 151,  64, 104,\n",
       "       175, 117, 146, 139, 129, 133, 176,  98, 160, 179,  99,  82, 142,\n",
       "        31, 106, 117,  56,  98,  67, 121, 159,  81, 170,  31,  50,  49,\n",
       "        87, 179,  51, 116, 177, 118,  78, 171, 117,  88, 123, 102,  44,\n",
       "        79,  31, 108,  80,  59, 137,  84,  93, 155, 160,  67,  80, 166,\n",
       "       164,  70,  50, 102, 113,  47, 131, 161, 118,  82,  89,  81,  43,\n",
       "        81,  38, 119,  52,  82,  31, 159,  57, 113,  71, 121, 140,  91,\n",
       "        70,  37, 106,  64, 127, 110,  58,  93,  79], dtype=uint16)"
      ]
     },
     "execution_count": 31,
     "metadata": {},
     "output_type": "execute_result"
    }
   ],
   "source": [
    "rand = np.random.RandomState(42)\n",
    "fake_log = rand.randint(30,180,size = 100, dtype=np.uint16)\n",
    "fake_log"
   ]
  },
  {
   "cell_type": "code",
   "execution_count": 32,
   "metadata": {},
   "outputs": [
    {
     "data": {
      "text/plain": [
       "[44, 50]"
      ]
     },
     "execution_count": 32,
     "metadata": {},
     "output_type": "execute_result"
    }
   ],
   "source": [
    "[fake_log[3],fake_log[8]]"
   ]
  },
  {
   "cell_type": "code",
   "execution_count": 78,
   "metadata": {},
   "outputs": [
    {
     "data": {
      "text/plain": [
       "array([44, 50], dtype=uint16)"
      ]
     },
     "execution_count": 78,
     "metadata": {},
     "output_type": "execute_result"
    }
   ],
   "source": [
    "fake_log[[3,8]]"
   ]
  },
  {
   "cell_type": "code",
   "execution_count": 34,
   "metadata": {},
   "outputs": [
    {
     "data": {
      "text/plain": [
       "array([[ 44,  50],\n",
       "       [132, 122]], dtype=uint16)"
      ]
     },
     "execution_count": 34,
     "metadata": {},
     "output_type": "execute_result"
    }
   ],
   "source": [
    "index=np.array([\n",
    "    [3,8],\n",
    "    [0,1]\n",
    "])\n",
    "fake_log[index]"
   ]
  },
  {
   "cell_type": "code",
   "execution_count": 35,
   "metadata": {},
   "outputs": [
    {
     "data": {
      "text/plain": [
       "array([[150,  60,  80,  60,  30,  90,   0,   0,   0,   0,   0,   0,   0,\n",
       "          0,   0,   0,   0,   0,   0,   0,   0,   0,   0,   0,   0,   0,\n",
       "          0,   0,   0,   0,   0,   0,   0,   0,   0,   0,   0,   0,   0,\n",
       "          0,   0,   0,   0,   0,   0,   0,   0,   0,   0,   0,   0,   0,\n",
       "          0,   0,   0,   0,   0,   0,   0,   0,   0,   0,   0,   0,   0,\n",
       "          0,   0,   0,   0,   0,   0,   0,   0,   0,   0,   0,   0,   0,\n",
       "          0,   0,   0,   0,   0,   0,   0,   0,   0,   0,   0,   0,   0,\n",
       "          0,   0,   0,   0,   0,   0,   0,   0,   0],\n",
       "       [ 60,   0,   0,   0,   0,   0,   0,   0,   0,   0,   0,   0,   0,\n",
       "          0,   0,   0,   0,   0,   0,   0,   0,   0,   0,   0,   0,   0,\n",
       "          0,   0,   0,   0,   0,   0,   0,   0,   0,   0,   0,   0,   0,\n",
       "          0,   0,   0,   0,   0,   0,   0,   0,   0,   0,   0,   0,   0,\n",
       "          0,   0,   0,   0,   0,   0,   0,   0,   0,   0,   0,   0,   0,\n",
       "          0,   0,   0,   0,   0,   0,   0,   0,   0,   0,   0,   0,   0,\n",
       "          0,   0,   0,   0,   0,   0,   0,   0,   0,   0,   0,   0,   0,\n",
       "          0,   0,   0,   0,   0,   0,   0,   0,   0],\n",
       "       [132, 122, 128,  44, 136, 129, 101,  95,  50, 132, 151,  64, 104,\n",
       "        175, 117, 146, 139, 129, 133, 176,  98, 160, 179,  99,  82, 142,\n",
       "         31, 106, 117,  56,  98,  67, 121, 159,  81, 170,  31,  50,  49,\n",
       "         87, 179,  51, 116, 177, 118,  78, 171, 117,  88, 123, 102,  44,\n",
       "         79,  31, 108,  80,  59, 137,  84,  93, 155, 160,  67,  80, 166,\n",
       "        164,  70,  50, 102, 113,  47, 131, 161, 118,  82,  89,  81,  43,\n",
       "         81,  38, 119,  52,  82,  31, 159,  57, 113,  71, 121, 140,  91,\n",
       "         70,  37, 106,  64, 127, 110,  58,  93,  79]], dtype=uint16)"
      ]
     },
     "execution_count": 35,
     "metadata": {},
     "output_type": "execute_result"
    }
   ],
   "source": [
    "#axis to tell append on which axis to append data\n",
    "#no axis will flatten data\n",
    "study_minutes = np.append(study_minutes, [fake_log], axis=0)\n",
    "study_minutes"
   ]
  },
  {
   "cell_type": "code",
   "execution_count": 36,
   "metadata": {},
   "outputs": [],
   "source": [
    "study_minutes[1,1] = 360"
   ]
  },
  {
   "cell_type": "markdown",
   "metadata": {},
   "source": [
    "## Creation \n",
    "* You can create a random but bound grouping of values using the `np.random` package.  \n",
    "  * `RandomState` let's you seed your randomness in a way that is repeatable.\n",
    "* You can append a row in a couple of ways\n",
    "   * You can use the `np.append` method.  Make sure the new row is the same shape.\n",
    "   * You can create/reassign a new array by including the existing array as part of the iterable in creation.\n",
    "\n",
    "\n",
    "## Indexing\n",
    "* You can use an indexing shortcut by separating dimensions with a comma.  \n",
    "* You can index using a `list` or `np.array`.  Values will be pulled out at that specific index.  This is known as fancy indexing.\n",
    "  * Resulting array shape matches the index array layout.  Be careful to distinguish between the tuple shortcut and fancy indexing."
   ]
  },
  {
   "cell_type": "code",
   "execution_count": 37,
   "metadata": {},
   "outputs": [
    {
     "data": {
      "text/plain": [
       "array([44, 50, 31, 56, 31, 50, 49, 51, 44, 31, 59, 50, 47, 43, 38, 52, 31,\n",
       "       57, 37, 58], dtype=uint16)"
      ]
     },
     "execution_count": 37,
     "metadata": {},
     "output_type": "execute_result"
    }
   ],
   "source": [
    "fake_log[fake_log < 60]"
   ]
  },
  {
   "cell_type": "code",
   "execution_count": 38,
   "metadata": {},
   "outputs": [
    {
     "data": {
      "text/plain": [
       "array([30,  0,  0,  0,  0,  0,  0,  0,  0,  0,  0,  0,  0,  0,  0,  0,  0,\n",
       "        0,  0,  0,  0,  0,  0,  0,  0,  0,  0,  0,  0,  0,  0,  0,  0,  0,\n",
       "        0,  0,  0,  0,  0,  0,  0,  0,  0,  0,  0,  0,  0,  0,  0,  0,  0,\n",
       "        0,  0,  0,  0,  0,  0,  0,  0,  0,  0,  0,  0,  0,  0,  0,  0,  0,\n",
       "        0,  0,  0,  0,  0,  0,  0,  0,  0,  0,  0,  0,  0,  0,  0,  0,  0,\n",
       "        0,  0,  0,  0,  0,  0,  0,  0,  0,  0,  0,  0,  0,  0,  0,  0,  0,\n",
       "        0,  0,  0,  0,  0,  0,  0,  0,  0,  0,  0,  0,  0,  0,  0,  0,  0,\n",
       "        0,  0,  0,  0,  0,  0,  0,  0,  0,  0,  0,  0,  0,  0,  0,  0,  0,\n",
       "        0,  0,  0,  0,  0,  0,  0,  0,  0,  0,  0,  0,  0,  0,  0,  0,  0,\n",
       "        0,  0,  0,  0,  0,  0,  0,  0,  0,  0,  0,  0,  0,  0,  0,  0,  0,\n",
       "        0,  0,  0,  0,  0,  0,  0,  0,  0,  0,  0,  0,  0,  0,  0,  0,  0,\n",
       "        0,  0,  0,  0,  0,  0, 44, 50, 31, 56, 31, 50, 49, 51, 44, 31, 59,\n",
       "       50, 47, 43, 38, 52, 31, 57, 37, 58], dtype=uint16)"
      ]
     },
     "execution_count": 38,
     "metadata": {},
     "output_type": "execute_result"
    }
   ],
   "source": [
    "study_minutes[study_minutes<60]"
   ]
  },
  {
   "cell_type": "code",
   "execution_count": 41,
   "metadata": {},
   "outputs": [
    {
     "data": {
      "text/plain": [
       "array([False, False,  True])"
      ]
     },
     "execution_count": 41,
     "metadata": {},
     "output_type": "execute_result"
    }
   ],
   "source": [
    "#use this result as a boolean indexer\n",
    "np.array([False,True,True]) & np.array([True,False,True])"
   ]
  },
  {
   "cell_type": "code",
   "execution_count": 42,
   "metadata": {},
   "outputs": [
    {
     "data": {
      "text/plain": [
       "array([30, 44, 50, 31, 56, 31, 50, 49, 51, 44, 31, 59, 50, 47, 43, 38, 52,\n",
       "       31, 57, 37, 58], dtype=uint16)"
      ]
     },
     "execution_count": 42,
     "metadata": {},
     "output_type": "execute_result"
    }
   ],
   "source": [
    "study_minutes[(study_minutes < 60) & (study_minutes > 0)]"
   ]
  },
  {
   "cell_type": "code",
   "execution_count": 43,
   "metadata": {},
   "outputs": [],
   "source": [
    "study_minutes[study_minutes<60] = 0"
   ]
  },
  {
   "cell_type": "code",
   "execution_count": 44,
   "metadata": {},
   "outputs": [
    {
     "data": {
      "text/plain": [
       "array([[150,  60,  80,  60,   0,  90,   0,   0,   0,   0,   0,   0,   0,\n",
       "          0,   0,   0,   0,   0,   0,   0,   0,   0,   0,   0,   0,   0,\n",
       "          0,   0,   0,   0,   0,   0,   0,   0,   0,   0,   0,   0,   0,\n",
       "          0,   0,   0,   0,   0,   0,   0,   0,   0,   0,   0,   0,   0,\n",
       "          0,   0,   0,   0,   0,   0,   0,   0,   0,   0,   0,   0,   0,\n",
       "          0,   0,   0,   0,   0,   0,   0,   0,   0,   0,   0,   0,   0,\n",
       "          0,   0,   0,   0,   0,   0,   0,   0,   0,   0,   0,   0,   0,\n",
       "          0,   0,   0,   0,   0,   0,   0,   0,   0],\n",
       "       [ 60, 360,   0,   0,   0,   0,   0,   0,   0,   0,   0,   0,   0,\n",
       "          0,   0,   0,   0,   0,   0,   0,   0,   0,   0,   0,   0,   0,\n",
       "          0,   0,   0,   0,   0,   0,   0,   0,   0,   0,   0,   0,   0,\n",
       "          0,   0,   0,   0,   0,   0,   0,   0,   0,   0,   0,   0,   0,\n",
       "          0,   0,   0,   0,   0,   0,   0,   0,   0,   0,   0,   0,   0,\n",
       "          0,   0,   0,   0,   0,   0,   0,   0,   0,   0,   0,   0,   0,\n",
       "          0,   0,   0,   0,   0,   0,   0,   0,   0,   0,   0,   0,   0,\n",
       "          0,   0,   0,   0,   0,   0,   0,   0,   0],\n",
       "       [132, 122, 128,   0, 136, 129, 101,  95,   0, 132, 151,  64, 104,\n",
       "        175, 117, 146, 139, 129, 133, 176,  98, 160, 179,  99,  82, 142,\n",
       "          0, 106, 117,   0,  98,  67, 121, 159,  81, 170,   0,   0,   0,\n",
       "         87, 179,   0, 116, 177, 118,  78, 171, 117,  88, 123, 102,   0,\n",
       "         79,   0, 108,  80,   0, 137,  84,  93, 155, 160,  67,  80, 166,\n",
       "        164,  70,   0, 102, 113,   0, 131, 161, 118,  82,  89,  81,   0,\n",
       "         81,   0, 119,   0,  82,   0, 159,   0, 113,  71, 121, 140,  91,\n",
       "         70,   0, 106,  64, 127, 110,   0,  93,  79]], dtype=uint16)"
      ]
     },
     "execution_count": 44,
     "metadata": {},
     "output_type": "execute_result"
    }
   ],
   "source": [
    "study_minutes"
   ]
  },
  {
   "cell_type": "markdown",
   "metadata": {},
   "source": [
    "## Boolean Array Indexing\n",
    "* You can create a boolean array by using comparison operators on an array.\n",
    "  * You can use boolean arrays for fancy indexing.\n",
    "  * Boolean arrays can be compared by using bitwise operators (`&`, `|`)\n",
    "      * Do not use the `and` keyword.\n",
    "      * Remember to mind the order of operations when combining\n",
    "* Even though boolean indexing returns a new array, you can update an existing array using a boolean index."
   ]
  },
  {
   "cell_type": "code",
   "execution_count": 45,
   "metadata": {},
   "outputs": [],
   "source": [
    "fruit = ['apple', 'banana', 'cherry', 'durian']"
   ]
  },
  {
   "cell_type": "code",
   "execution_count": 47,
   "metadata": {},
   "outputs": [
    {
     "data": {
      "text/plain": [
       "['banana', 'cherry']"
      ]
     },
     "execution_count": 47,
     "metadata": {},
     "output_type": "execute_result"
    }
   ],
   "source": [
    "fruit[1:3]"
   ]
  },
  {
   "cell_type": "code",
   "execution_count": 48,
   "metadata": {},
   "outputs": [
    {
     "data": {
      "text/plain": [
       "['apple', 'banana', 'cherry']"
      ]
     },
     "execution_count": 48,
     "metadata": {},
     "output_type": "execute_result"
    }
   ],
   "source": [
    "fruit[:3]"
   ]
  },
  {
   "cell_type": "code",
   "execution_count": 49,
   "metadata": {},
   "outputs": [
    {
     "data": {
      "text/plain": [
       "['durian']"
      ]
     },
     "execution_count": 49,
     "metadata": {},
     "output_type": "execute_result"
    }
   ],
   "source": [
    "fruit[3:]"
   ]
  },
  {
   "cell_type": "code",
   "execution_count": 50,
   "metadata": {},
   "outputs": [
    {
     "data": {
      "text/plain": [
       "['apple', 'banana', 'cherry', 'durian']"
      ]
     },
     "execution_count": 50,
     "metadata": {},
     "output_type": "execute_result"
    }
   ],
   "source": [
    "fruit[:]"
   ]
  },
  {
   "cell_type": "code",
   "execution_count": 51,
   "metadata": {},
   "outputs": [],
   "source": [
    "copied = fruit[:]"
   ]
  },
  {
   "cell_type": "code",
   "execution_count": 52,
   "metadata": {},
   "outputs": [],
   "source": [
    "copied[3] = 'cheese'\n",
    "#slicing a list rerutns a copy"
   ]
  },
  {
   "cell_type": "code",
   "execution_count": 53,
   "metadata": {},
   "outputs": [
    {
     "data": {
      "text/plain": [
       "(['apple', 'banana', 'cherry', 'durian'],\n",
       " ['apple', 'banana', 'cherry', 'cheese'])"
      ]
     },
     "execution_count": 53,
     "metadata": {},
     "output_type": "execute_result"
    }
   ],
   "source": [
    "fruit,copied"
   ]
  },
  {
   "cell_type": "code",
   "execution_count": 54,
   "metadata": {},
   "outputs": [
    {
     "data": {
      "text/plain": [
       "['apple', 'cherry']"
      ]
     },
     "execution_count": 54,
     "metadata": {},
     "output_type": "execute_result"
    }
   ],
   "source": [
    "fruit[::2]"
   ]
  },
  {
   "cell_type": "code",
   "execution_count": 55,
   "metadata": {},
   "outputs": [
    {
     "data": {
      "text/plain": [
       "['apple', 'cherry']"
      ]
     },
     "execution_count": 55,
     "metadata": {},
     "output_type": "execute_result"
    }
   ],
   "source": [
    "#step to get every other element in the list\n",
    "fruit[::2]"
   ]
  },
  {
   "cell_type": "code",
   "execution_count": 56,
   "metadata": {},
   "outputs": [
    {
     "data": {
      "text/plain": [
       "['durian', 'cherry', 'banana', 'apple']"
      ]
     },
     "execution_count": 56,
     "metadata": {},
     "output_type": "execute_result"
    }
   ],
   "source": [
    "#step to go backwards and get every element in backwards form\n",
    "fruit[::-1]"
   ]
  },
  {
   "cell_type": "code",
   "execution_count": 57,
   "metadata": {},
   "outputs": [
    {
     "data": {
      "text/plain": [
       "array([ 0,  1,  2,  3,  4,  5,  6,  7,  8,  9, 10, 11, 12, 13, 14, 15, 16,\n",
       "       17, 18, 19])"
      ]
     },
     "execution_count": 57,
     "metadata": {},
     "output_type": "execute_result"
    }
   ],
   "source": [
    "np.arange(20)"
   ]
  },
  {
   "cell_type": "code",
   "execution_count": 59,
   "metadata": {},
   "outputs": [
    {
     "data": {
      "text/plain": [
       "array([[ 0,  1,  2,  3,  4,  5],\n",
       "       [ 6,  7,  8,  9, 10, 11],\n",
       "       [12, 13, 14, 15, 16, 17],\n",
       "       [18, 19, 20, 21, 22, 23],\n",
       "       [24, 25, 26, 27, 28, 29],\n",
       "       [30, 31, 32, 33, 34, 35],\n",
       "       [36, 37, 38, 39, 40, 41]])"
      ]
     },
     "execution_count": 59,
     "metadata": {},
     "output_type": "execute_result"
    }
   ],
   "source": [
    "practice = np.arange(42)\n",
    "practice.shape = (7,6)\n",
    "practice"
   ]
  },
  {
   "cell_type": "code",
   "execution_count": 60,
   "metadata": {},
   "outputs": [
    {
     "data": {
      "text/plain": [
       "array([12, 13, 14, 15, 16, 17])"
      ]
     },
     "execution_count": 60,
     "metadata": {},
     "output_type": "execute_result"
    }
   ],
   "source": [
    "practice[2]"
   ]
  },
  {
   "cell_type": "code",
   "execution_count": 64,
   "metadata": {},
   "outputs": [
    {
     "data": {
      "text/plain": [
       "array([[15, 17],\n",
       "       [21, 23],\n",
       "       [27, 29]])"
      ]
     },
     "execution_count": 64,
     "metadata": {},
     "output_type": "execute_result"
    }
   ],
   "source": [
    "practice[2:5,3::2]"
   ]
  },
  {
   "cell_type": "code",
   "execution_count": 71,
   "metadata": {},
   "outputs": [
    {
     "data": {
      "text/plain": [
       "(array([[384,   1,   2,   3,   4,   5],\n",
       "        [  6,   7,   8,   9,  10,  11],\n",
       "        [ 12,  13,  14,  15,  16,  17],\n",
       "        [ 18,  19,  20,  21,  22,  23],\n",
       "        [ 24,  25,  26,  27,  28,  29],\n",
       "        [ 30,  31,  32,  33,  34,  35],\n",
       "        [ 36,  37,  38,  39,  40,  41]]),\n",
       " array([[384,   1,   2,   3,   4,   5],\n",
       "        [  6,   7,   8,   9,  10,  11],\n",
       "        [ 12,  13,  14,  15,  16,  17],\n",
       "        [ 18,  19,  20,  21,  22,  23],\n",
       "        [ 24,  25,  26,  27,  28,  29],\n",
       "        [ 30,  31,  32,  33,  34,  35],\n",
       "        [ 36,  37,  38,  39,  40,  41]]))"
      ]
     },
     "execution_count": 71,
     "metadata": {},
     "output_type": "execute_result"
    }
   ],
   "source": [
    "# any slicing of a ndarray returns a view and not a copy!\n",
    "not_copied = practice[:]\n",
    "practice[0,0] = 384\n",
    "practice,not_copied"
   ]
  },
  {
   "cell_type": "code",
   "execution_count": 66,
   "metadata": {},
   "outputs": [
    {
     "data": {
      "text/plain": [
       "True"
      ]
     },
     "execution_count": 66,
     "metadata": {},
     "output_type": "execute_result"
    }
   ],
   "source": [
    "#boolean to see if variable is base or just a view of somthing else\n",
    "practice.base is None"
   ]
  },
  {
   "cell_type": "code",
   "execution_count": 67,
   "metadata": {},
   "outputs": [
    {
     "data": {
      "text/plain": [
       "False"
      ]
     },
     "execution_count": 67,
     "metadata": {},
     "output_type": "execute_result"
    }
   ],
   "source": [
    "not_copied.base is None"
   ]
  },
  {
   "cell_type": "code",
   "execution_count": 68,
   "metadata": {},
   "outputs": [
    {
     "data": {
      "text/plain": [
       "True"
      ]
     },
     "execution_count": 68,
     "metadata": {},
     "output_type": "execute_result"
    }
   ],
   "source": [
    "not_copied.base is practice"
   ]
  },
  {
   "cell_type": "code",
   "execution_count": 69,
   "metadata": {},
   "outputs": [
    {
     "data": {
      "text/plain": [
       "(True, False)"
      ]
     },
     "execution_count": 69,
     "metadata": {},
     "output_type": "execute_result"
    }
   ],
   "source": [
    "practice.flags['OWNDATA'], not_copied.flags['OWNDATA']"
   ]
  },
  {
   "cell_type": "markdown",
   "metadata": {},
   "source": [
    "## Slicing\n",
    "* Works a lot like normal list slicing.\n",
    "* You can use commas to separate each dimension slice.\n",
    "* Always returns a data view\n",
    "* You can access the base object using the `ndarray.base` property"
   ]
  },
  {
   "cell_type": "code",
   "execution_count": 72,
   "metadata": {},
   "outputs": [
    {
     "data": {
      "text/plain": [
       "(array([[384,   1,   2,   3,   4,   5],\n",
       "        [  6,   7,   8,   9,  10,  11],\n",
       "        [ 12,  13,  14,  15,  16,  17],\n",
       "        [ 18,  19,  20,  21,  22,  23],\n",
       "        [ 24,  25,  26,  27,  28,  29],\n",
       "        [ 30,  31,  32,  33,  34,  35],\n",
       "        [ 36,  37,  38,  39,  40,  41]]),\n",
       " array([[384,   1,   2,   3,   4,   5,   6,   7,   8,   9,  10,  11,  12,\n",
       "          13],\n",
       "        [ 14,  15,  16,  17,  18,  19,  20,  21,  22,  23,  24,  25,  26,\n",
       "          27],\n",
       "        [ 28,  29,  30,  31,  32,  33,  34,  35,  36,  37,  38,  39,  40,\n",
       "          41]]),\n",
       " True)"
      ]
     },
     "execution_count": 72,
     "metadata": {},
     "output_type": "execute_result"
    }
   ],
   "source": [
    "practice_view = practice.reshape(3,14)\n",
    "practice, practice_view, practice_view.base is practice"
   ]
  },
  {
   "cell_type": "code",
   "execution_count": 74,
   "metadata": {},
   "outputs": [
    {
     "data": {
      "text/plain": [
       "(21, 2)"
      ]
     },
     "execution_count": 74,
     "metadata": {},
     "output_type": "execute_result"
    }
   ],
   "source": [
    "#reshape can infer what you want if you input a -1\n",
    "practice.reshape(-1,2).shape"
   ]
  },
  {
   "cell_type": "code",
   "execution_count": 75,
   "metadata": {},
   "outputs": [
    {
     "data": {
      "text/plain": [
       "array([384,   1,   2,   3,   4,   5,   6,   7,   8,   9,  10,  11,  12,\n",
       "        13,  14,  15,  16,  17,  18,  19,  20,  21,  22,  23,  24,  25,\n",
       "        26,  27,  28,  29,  30,  31,  32,  33,  34,  35,  36,  37,  38,\n",
       "        39,  40,  41])"
      ]
     },
     "execution_count": 75,
     "metadata": {},
     "output_type": "execute_result"
    }
   ],
   "source": [
    "#single dimension it is a view not copy\n",
    "#use flatten() to make a copy not a view\n",
    "practice.ravel()"
   ]
  },
  {
   "cell_type": "code",
   "execution_count": 80,
   "metadata": {},
   "outputs": [
    {
     "name": "stdout",
     "output_type": "stream",
     "text": [
      "Search results for 'flat'\n",
      "-------------------------\n",
      "numpy.diagflat\n",
      "    Create a two-dimensional array with the flattened input as a diagonal.\n",
      "numpy.flatiter\n",
      "    Flat iterator object to iterate over arrays.\n",
      "numpy.put\n",
      "    Replaces specified elements of an array with given values.\n",
      "numpy.flatnonzero\n",
      "    Return indices that are non-zero in the flattened version of a.\n",
      "numpy.ravel\n",
      "    Return a contiguous flattened array.\n",
      "numpy.ma.diagflat\n",
      "    Create a two-dimensional array with the flattened input as a diagonal.\n",
      "numpy.unravel_index\n",
      "    Converts a flat index or array of flat indices into a tuple\n",
      "numpy.matrix.flatten\n",
      "    Return a flattened copy of the matrix.\n",
      "numpy.ma.flatten_mask\n",
      "    Returns a completely flattened version of the mask, where nested fields\n",
      "numpy.chararray.flatten\n",
      "    Return a copy of the array collapsed into one dimension.\n",
      "numpy.chararray.put\n",
      "    Set ``a.flat[n] = values[n]`` for all `n` in indices.\n",
      "numpy.ravel_multi_index\n",
      "    Converts a tuple of index arrays into an array of flat\n",
      "numpy.matrix.getA1\n",
      "    Return `self` as a flattened `ndarray`.\n",
      "numpy.matrix.ravel\n",
      "    Return a flattened matrix.\n",
      "numpy.chararray.ravel\n",
      "    a.ravel([order])\n",
      "numpy.ma.flatten_structured_array\n",
      "    Flatten a structured array.\n",
      "numpy.ptp\n",
      "    Range of values (maximum - minimum) along an axis.\n",
      "numpy.std\n",
      "    Compute the standard deviation along the specified axis.\n",
      "numpy.var\n",
      "    Compute the variance along the specified axis.\n",
      "numpy.amax\n",
      "    Return the maximum of an array or maximum along an axis.\n",
      "numpy.amin\n",
      "    Return the minimum of an array or minimum along an axis.\n",
      "numpy.diag\n",
      "    Extract a diagonal or construct a diagonal array.\n",
      "numpy.isin\n",
      "    Calculates `element in test_elements`, broadcasting over `element` only.\n",
      "numpy.mean\n",
      "    Compute the arithmetic mean along the specified axis.\n",
      "numpy.roll\n",
      "    Roll array elements along a given axis.\n",
      "numpy.sort\n",
      "    Return a sorted copy of an array.\n",
      "numpy.take\n",
      "    Take elements from an array along an axis.\n",
      "numpy.vdot\n",
      "    Return the dot product of two vectors.\n",
      "numpy.outer\n",
      "    Compute the outer product of two vectors.\n",
      "numpy.trace\n",
      "    Return the sum along diagonals of the array.\n",
      "numpy.append\n",
      "    Append values to the end of an array.\n",
      "numpy.argmax\n",
      "    Returns the indices of the maximum values along an axis.\n",
      "numpy.argmin\n",
      "    Returns the indices of the minimum values along an axis.\n",
      "numpy.cumsum\n",
      "    Return the cumulative sum of the elements along a given axis.\n",
      "numpy.delete\n",
      "    Return a new array with sub-arrays along an axis deleted. For a one\n",
      "numpy.insert\n",
      "    Insert values along the given axis before the given indices.\n",
      "numpy.median\n",
      "    Compute the median along the specified axis.\n",
      "numpy.nanmax\n",
      "    Return the maximum of an array or maximum along an axis, ignoring any\n",
      "numpy.nanmin\n",
      "    Return minimum of an array or minimum along an axis, ignoring any NaNs.\n",
      "numpy.nanstd\n",
      "    Compute the standard deviation along the specified axis, while\n",
      "numpy.nansum\n",
      "    Return the sum of array elements over a given axis treating Not a\n",
      "numpy.nanvar\n",
      "    Compute the variance along the specified axis, while ignoring NaNs.\n",
      "numpy.nditer\n",
      "    Efficient multi-dimensional iterator object to iterate over arrays.\n",
      "numpy.repeat\n",
      "    Repeat elements of an array.\n",
      "numpy.unique\n",
      "    Find the unique elements of an array.\n",
      "numpy.argsort\n",
      "    Returns the indices that would sort an array.\n",
      "numpy.cumprod\n",
      "    Return the cumulative product of elements along a given axis.\n",
      "numpy.ediff1d\n",
      "    The differences between consecutive elements of an array.\n",
      "numpy.nanmean\n",
      "    Compute the arithmetic mean along the specified axis, ignoring NaNs.\n",
      "numpy.nanprod\n",
      "    Return the product of array elements over a given axis treating Not a\n",
      "numpy.ndarray\n",
      "    ndarray(shape, dtype=float, buffer=None, offset=0,\n",
      "numpy.ndindex\n",
      "    An N-dimensional iterator object to index arrays.\n",
      "numpy.nonzero\n",
      "    Return the indices of the elements that are non-zero.\n",
      "numpy.putmask\n",
      "    Changes elements of an array based on conditional and input values.\n",
      "numpy.union1d\n",
      "    Find the union of two arrays.\n",
      "numpy.compress\n",
      "    Return selected slices of an array along given axis.\n",
      "numpy.diagonal\n",
      "    Return specified diagonals.\n",
      "numpy.packbits\n",
      "    Packs the elements of a binary-valued array into bits in a uint8 array.\n",
      "numpy.quantile\n",
      "    Compute the q-th quantile of the data along the specified axis.\n",
      "numpy.broadcast\n",
      "    Produce an object that mimics broadcasting.\n",
      "numpy.chararray\n",
      "    chararray(shape, itemsize=1, unicode=False, buffer=None, offset=0,\n",
      "numpy.histogram\n",
      "    Compute the histogram of a set of data.\n",
      "numpy.nanargmax\n",
      "    Return the indices of the maximum values in the specified axis ignoring\n",
      "numpy.nanargmin\n",
      "    Return the indices of the minimum values in the specified axis ignoring\n",
      "numpy.nancumsum\n",
      "    Return the cumulative sum of array elements over a given axis treating Not a\n",
      "numpy.nanmedian\n",
      "    Compute the median along the specified axis, while ignoring NaNs.\n",
      "numpy.partition\n",
      "    Return a partitioned copy of an array.\n",
      "numpy.nancumprod\n",
      "    Return the cumulative product of array elements over a given axis treating Not a\n",
      "numpy.percentile\n",
      "    Compute the q-th percentile of the data along the specified axis.\n",
      "numpy.unpackbits\n",
      "    Unpacks elements of a uint8 array into a binary-valued output array.\n",
      "numpy.concatenate\n",
      "    Join a sequence of arrays along an existing axis.\n",
      "numpy.intersect1d\n",
      "    Find the intersection of two arrays.\n",
      "numpy.nanquantile\n",
      "    Compute the qth quantile of the data along the specified axis,\n",
      "numpy.ndenumerate\n",
      "    Multidimensional index iterator.\n",
      "numpy.flatiter.copy\n",
      "    copy()\n",
      "numpy.argpartition\n",
      "    Perform an indirect partition along the given axis using the\n",
      "numpy.ma.max\n",
      "    Return the maximum along a given axis.\n",
      "numpy.ma.min\n",
      "    Return the minimum along a given axis.\n",
      "numpy.ma.ptp\n",
      "    Return (maximum - minimum) along the given dimension\n",
      "numpy.ma.var\n",
      "    Compute the variance along the specified axis.\n",
      "numpy.nested_iters\n",
      "    Create nditers for use in nested loops\n",
      "numpy.ma.anom\n",
      "    Compute the anomalies (deviations from the arithmetic mean)\n",
      "numpy.ma.isin\n",
      "    Calculates `element in test_elements`, broadcasting over\n",
      "numpy.count_nonzero\n",
      "    Counts the number of non-zero values in the array ``a``.\n",
      "numpy.ma.sort\n",
      "    Sort the array, in-place\n",
      "numpy.nanpercentile\n",
      "    Compute the qth percentile of the data along the specified axis,\n",
      "numpy.ma.outer\n",
      "    Compute the outer product of two vectors.\n",
      "numpy.put_along_axis\n",
      "    Put values into the destination array by matching 1d index and data slices.\n",
      "numpy.ma.append\n",
      "    Append values to the end of an array.\n",
      "numpy.ma.argmax\n",
      "    Returns array of indices of the maximum values along the given axis.\n",
      "numpy.ma.argmin\n",
      "    Return array of indices to the minimum values along the given axis.\n",
      "numpy.ma.median\n",
      "    Compute the median along the specified axis.\n",
      "numpy.ma.argsort\n",
      "    Return an ndarray of indices that sort the array along the\n",
      "numpy.ma.average\n",
      "    Return the weighted average of array over the given axis.\n",
      "numpy.take_along_axis\n",
      "    Take values from the input array by matching 1d index and data slices.\n",
      "numpy.ma.nonzero\n",
      "    nonzero(self)\n",
      "numpy.savez_compressed\n",
      "    Save several arrays into a single file in compressed ``.npz`` format.\n",
      "numpy.chararray.item\n",
      "    a.item(*args)\n",
      "numpy.matrix.argmax\n",
      "    Indexes of the maximum values along an axis.\n",
      "numpy.matrix.argmin\n",
      "    Indexes of the minimum values along an axis.\n",
      "numpy.histogram_bin_edges\n",
      "    Function to calculate only the edges of the bins used by the `histogram` function.\n",
      "numpy.chararray.resize\n",
      "    Change shape and size of array in-place.\n",
      "numpy.ma.clump_masked\n",
      "    Returns a list of slices corresponding to the masked clumps of a 1-D array.\n",
      "numpy.ma.count_masked\n",
      "    Count the number of masked elements along the given axis.\n",
      "numpy.ma.mask_rowcols\n",
      "    Mask rows and/or columns of a 2D array that contain masked values.\n",
      "numpy.ma.flatnotmasked_edges\n",
      "    Find the indices of the first and last unmasked values.\n",
      "numpy.ma.clump_unmasked\n",
      "    Return list of slices corresponding to the unmasked clumps of a 1-D array.\n",
      "numpy.ma.notmasked_edges\n",
      "    Find the indices of the first and last unmasked values along an axis.\n",
      "numpy.ma.flatnotmasked_contiguous\n",
      "    Find contiguous unmasked data in a masked array along the given axis.\n",
      "numpy.ma.notmasked_contiguous\n",
      "    Find contiguous unmasked data in a masked array along the given axis."
     ]
    }
   ],
   "source": [
    "#seach function to look for function\n",
    "np.lookfor(\"flat\")"
   ]
  },
  {
   "cell_type": "code",
   "execution_count": 81,
   "metadata": {},
   "outputs": [],
   "source": [
    "#get information on the method\n",
    "np.ravel?"
   ]
  },
  {
   "cell_type": "code",
   "execution_count": 84,
   "metadata": {},
   "outputs": [
    {
     "data": {
      "text/plain": [
       "array([1.5 , 8.  , 1.25, 2.  ])"
      ]
     },
     "execution_count": 84,
     "metadata": {},
     "output_type": "execute_result"
    }
   ],
   "source": [
    "#solving system of equations\n",
    "#left side\n",
    "orders = np.array([\n",
    "    [2, 0, 0, 0],\n",
    "    [4, 1, 2, 2],\n",
    "    [0, 1, 0, 1],\n",
    "    [6, 0, 1, 2]\n",
    "])\n",
    "#right side\n",
    "totals = np.array([3, 20.50, 10, 14.25])\n",
    "#solve\n",
    "prices = np.linalg.solve(orders,totals)\n",
    "prices"
   ]
  },
  {
   "cell_type": "code",
   "execution_count": 85,
   "metadata": {},
   "outputs": [
    {
     "data": {
      "text/plain": [
       "array([ 3.  , 20.5 , 10.  , 14.25])"
      ]
     },
     "execution_count": 85,
     "metadata": {},
     "output_type": "execute_result"
    }
   ],
   "source": [
    "#A dot B(dot product)\n",
    "orders @ prices"
   ]
  },
  {
   "cell_type": "code",
   "execution_count": 86,
   "metadata": {},
   "outputs": [
    {
     "data": {
      "text/plain": [
       "array([ 3.  , 20.5 , 10.  , 14.25])"
      ]
     },
     "execution_count": 86,
     "metadata": {},
     "output_type": "execute_result"
    }
   ],
   "source": [
    "#returns the totals with dot product same as function above\n",
    "orders.dot(prices)"
   ]
  },
  {
   "cell_type": "code",
   "execution_count": 88,
   "metadata": {},
   "outputs": [
    {
     "data": {
      "text/plain": [
       "(array([1, 2, 3, 4, 5]), array([ 6,  7,  8,  9, 10]))"
      ]
     },
     "execution_count": 88,
     "metadata": {},
     "output_type": "execute_result"
    }
   ],
   "source": [
    "a,b = np.split(np.arange(1,11),2)\n",
    "a,b"
   ]
  },
  {
   "cell_type": "code",
   "execution_count": 89,
   "metadata": {},
   "outputs": [
    {
     "data": {
      "text/plain": [
       "array([ 7,  9, 11, 13, 15])"
      ]
     },
     "execution_count": 89,
     "metadata": {},
     "output_type": "execute_result"
    }
   ],
   "source": [
    "#able to do all types of math with np.array\n",
    "#overloaded functions, called universal functions or ufuncs\n",
    "a+b"
   ]
  },
  {
   "cell_type": "code",
   "execution_count": 90,
   "metadata": {},
   "outputs": [
    {
     "data": {
      "text/plain": [
       "array([-5, -5, -5, -5, -5])"
      ]
     },
     "execution_count": 90,
     "metadata": {},
     "output_type": "execute_result"
    }
   ],
   "source": [
    "a-b"
   ]
  },
  {
   "cell_type": "code",
   "execution_count": 91,
   "metadata": {},
   "outputs": [
    {
     "data": {
      "text/plain": [
       "array([5, 5, 5, 5, 5])"
      ]
     },
     "execution_count": 91,
     "metadata": {},
     "output_type": "execute_result"
    }
   ],
   "source": [
    "b-a"
   ]
  },
  {
   "cell_type": "code",
   "execution_count": 92,
   "metadata": {},
   "outputs": [
    {
     "data": {
      "text/plain": [
       "array([ 6, 14, 24, 36, 50])"
      ]
     },
     "execution_count": 92,
     "metadata": {},
     "output_type": "execute_result"
    }
   ],
   "source": [
    "a*b"
   ]
  },
  {
   "cell_type": "code",
   "execution_count": 93,
   "metadata": {},
   "outputs": [
    {
     "data": {
      "text/plain": [
       "array([3, 4, 5, 6, 7])"
      ]
     },
     "execution_count": 93,
     "metadata": {},
     "output_type": "execute_result"
    }
   ],
   "source": [
    "#the value 2 is 'braodcasted across the array'\n",
    "a+2"
   ]
  },
  {
   "cell_type": "code",
   "execution_count": 95,
   "metadata": {},
   "outputs": [
    {
     "data": {
      "text/plain": [
       "array([3, 4, 5, 6, 7])"
      ]
     },
     "execution_count": 95,
     "metadata": {},
     "output_type": "execute_result"
    }
   ],
   "source": [
    "a + np.repeat(2,5)"
   ]
  },
  {
   "cell_type": "code",
   "execution_count": 96,
   "metadata": {},
   "outputs": [
    {
     "data": {
      "text/plain": [
       "(array([[0., 1., 2.],\n",
       "        [3., 4., 5.],\n",
       "        [6., 7., 8.]]), array([0., 1., 2.]))"
      ]
     },
     "execution_count": 96,
     "metadata": {},
     "output_type": "execute_result"
    }
   ],
   "source": [
    "#can add any two broadcastable arrays, this example will broadcast the smaller array over each row\n",
    "x1 = np.arange(9.0).reshape((3,3))\n",
    "x2 = np.arange(3.0)\n",
    "x1,x2"
   ]
  },
  {
   "cell_type": "code",
   "execution_count": 97,
   "metadata": {},
   "outputs": [
    {
     "data": {
      "text/plain": [
       "array([[ 0.,  2.,  4.],\n",
       "       [ 3.,  5.,  7.],\n",
       "       [ 6.,  8., 10.]])"
      ]
     },
     "execution_count": 97,
     "metadata": {},
     "output_type": "execute_result"
    }
   ],
   "source": [
    "np.add(x1,x2)\n",
    "#can run trig functions over all values in the array all at once\n",
    "#search for ufuncs on google for more information"
   ]
  },
  {
   "cell_type": "markdown",
   "metadata": {},
   "source": [
    "## Universal Functions\n",
    "* [ufuncs](https://docs.scipy.org/doc/numpy/reference/ufuncs.html) are commonly needed vectorized functions\n",
    "  * Vectorized functions allow you to operate element by element without using a loop\n",
    "* The standard math and comparison operations have all been overloaded so that they can make use of vectorization\n",
    "* Values can be [broadcasted](https://docs.scipy.org/doc/numpy/user/basics.broadcasting.html), or stretched to be applied to the ufuncs."
   ]
  },
  {
   "cell_type": "code",
   "execution_count": null,
   "metadata": {},
   "outputs": [],
   "source": []
  }
 ],
 "metadata": {
  "kernelspec": {
   "display_name": "Python 3",
   "language": "python",
   "name": "python3"
  },
  "language_info": {
   "codemirror_mode": {
    "name": "ipython",
    "version": 3
   },
   "file_extension": ".py",
   "mimetype": "text/x-python",
   "name": "python",
   "nbconvert_exporter": "python",
   "pygments_lexer": "ipython3",
   "version": "3.7.3"
  }
 },
 "nbformat": 4,
 "nbformat_minor": 2
}
